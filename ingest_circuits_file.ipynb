{
 "cells": [
  {
   "cell_type": "code",
   "execution_count": 0,
   "metadata": {
    "application/vnd.databricks.v1+cell": {
     "cellMetadata": {
      "byteLimit": 2048000,
      "rowLimit": 10000
     },
     "inputWidgets": {},
     "nuid": "4c1c0919-335f-4a22-b53f-45909df77fa6",
     "showTitle": false,
     "title": ""
    }
   },
   "outputs": [],
   "source": [
    "#in this first it read a file(csv) then it goes to data check infreschma given true so it decides datatypes  and then  kepts first rows are header\n",
    "circuits_df=spark.read.option(\"header\",True).option(\"inferschema\",True).csv(\"/FileStore/tables/circuits.csv\") "
   ]
  },
  {
   "cell_type": "code",
   "execution_count": 0,
   "metadata": {
    "application/vnd.databricks.v1+cell": {
     "cellMetadata": {
      "byteLimit": 2048000,
      "rowLimit": 10000
     },
     "inputWidgets": {},
     "nuid": "5068ff98-41c1-43ff-9e23-03965de5b2d2",
     "showTitle": false,
     "title": ""
    }
   },
   "outputs": [],
   "source": [
    "from pyspark.sql.types import StructType, StructField, IntegerType,StringType,DoubleType\n",
    "circuits_schema=StructType(fields=[StructField(\"circuitId\",IntegerType(),False),\n",
    "                                   StructField(\"circuitRef\",StringType(),False),\n",
    "                                   StructField(\"name\",StringType(),False),\n",
    "                                   StructField(\"location\",StringType(),False),\n",
    "                                   StructField(\"country\",IntegerType(),False),\n",
    "                                   StructField(\"lat\",DoubleType(),False),\n",
    "                                   StructField(\"lng\",DoubleType(),False),\n",
    "                                   StructField(\"alt\",IntegerType(),False),\n",
    "                                   StructField(\"url\",StringType(),False),\n",
    "                                   ])"
   ]
  },
  {
   "cell_type": "code",
   "execution_count": 0,
   "metadata": {
    "application/vnd.databricks.v1+cell": {
     "cellMetadata": {
      "byteLimit": 2048000,
      "rowLimit": 10000
     },
     "inputWidgets": {},
     "nuid": "b75cc632-031a-4d54-9085-0ae602c27500",
     "showTitle": false,
     "title": ""
    }
   },
   "outputs": [],
   "source": [
    "circuits_df=spark.read.option(\"header\",True).schema(circuits_schema).csv(\"/FileStore/tables/circuits.csv\")"
   ]
  },
  {
   "cell_type": "code",
   "execution_count": 0,
   "metadata": {
    "application/vnd.databricks.v1+cell": {
     "cellMetadata": {
      "byteLimit": 2048000,
      "rowLimit": 10000
     },
     "inputWidgets": {},
     "nuid": "df7a70ee-9d38-4dcc-9855-26676557b69b",
     "showTitle": false,
     "title": ""
    }
   },
   "outputs": [
    {
     "output_type": "execute_result",
     "data": {
      "text/plain": [
       "pyspark.sql.dataframe.DataFrame"
      ]
     },
     "execution_count": 35,
     "metadata": {},
     "output_type": "execute_result"
    }
   ],
   "source": [
    "type(circuits_df)"
   ]
  },
  {
   "cell_type": "code",
   "execution_count": 0,
   "metadata": {
    "application/vnd.databricks.v1+cell": {
     "cellMetadata": {
      "byteLimit": 2048000,
      "rowLimit": 10000
     },
     "inputWidgets": {},
     "nuid": "5dba78c6-7d8d-4380-b5f6-4dc76c976b9e",
     "showTitle": false,
     "title": ""
    }
   },
   "outputs": [
    {
     "output_type": "stream",
     "name": "stdout",
     "output_type": "stream",
     "text": [
      "+---------+--------------+--------------------+------------+-------+--------+---------+---+--------------------+\n|circuitId|    circuitRef|                name|    location|country|     lat|      lng|alt|                 url|\n+---------+--------------+--------------------+------------+-------+--------+---------+---+--------------------+\n|        1|   albert_park|Albert Park Grand...|   Melbourne|   NULL|-37.8497|  144.968| 10|http://en.wikiped...|\n|        2|        sepang|Sepang Internatio...|Kuala Lumpur|   NULL| 2.76083|  101.738| 18|http://en.wikiped...|\n|        3|       bahrain|Bahrain Internati...|      Sakhir|   NULL| 26.0325|  50.5106|  7|http://en.wikiped...|\n|        4|     catalunya|Circuit de Barcel...|    Montmeló|   NULL|   41.57|  2.26111|109|http://en.wikiped...|\n|        5|      istanbul|       Istanbul Park|    Istanbul|   NULL| 40.9517|   29.405|130|http://en.wikiped...|\n|        6|        monaco|   Circuit de Monaco| Monte-Carlo|   NULL| 43.7347|  7.42056|  7|http://en.wikiped...|\n|        7|    villeneuve|Circuit Gilles Vi...|    Montreal|   NULL|    45.5| -73.5228| 13|http://en.wikiped...|\n|        8|   magny_cours|Circuit de Nevers...| Magny Cours|   NULL| 46.8642|  3.16361|228|http://en.wikiped...|\n|        9|   silverstone| Silverstone Circuit| Silverstone|   NULL| 52.0786| -1.01694|153|http://en.wikiped...|\n|       10|hockenheimring|      Hockenheimring|  Hockenheim|   NULL| 49.3278|  8.56583|103|http://en.wikiped...|\n|       11|   hungaroring|         Hungaroring|    Budapest|   NULL| 47.5789|  19.2486|264|http://en.wikiped...|\n|       12|      valencia|Valencia Street C...|    Valencia|   NULL| 39.4589|-0.331667|  4|http://en.wikiped...|\n|       13|           spa|Circuit de Spa-Fr...|         Spa|   NULL| 50.4372|  5.97139|401|http://en.wikiped...|\n|       14|         monza|Autodromo Naziona...|       Monza|   NULL| 45.6156|  9.28111|162|http://en.wikiped...|\n|       15|    marina_bay|Marina Bay Street...|  Marina Bay|   NULL|  1.2914|  103.864| 18|http://en.wikiped...|\n|       16|          fuji|       Fuji Speedway|       Oyama|   NULL| 35.3717|  138.927|583|http://en.wikiped...|\n|       17|      shanghai|Shanghai Internat...|    Shanghai|   NULL| 31.3389|   121.22|  5|http://en.wikiped...|\n|       18|    interlagos|Autódromo José Ca...|   São Paulo|   NULL|-23.7036| -46.6997|785|http://en.wikiped...|\n|       19|  indianapolis|Indianapolis Moto...|Indianapolis|   NULL|  39.795| -86.2347|223|http://en.wikiped...|\n|       20|   nurburgring|         Nürburgring|     Nürburg|   NULL| 50.3356|   6.9475|578|http://en.wikiped...|\n+---------+--------------+--------------------+------------+-------+--------+---------+---+--------------------+\nonly showing top 20 rows\n\n"
     ]
    }
   ],
   "source": [
    "circuits_df.show()"
   ]
  },
  {
   "cell_type": "code",
   "execution_count": 0,
   "metadata": {
    "application/vnd.databricks.v1+cell": {
     "cellMetadata": {
      "byteLimit": 2048000,
      "rowLimit": 10000
     },
     "inputWidgets": {},
     "nuid": "9243bf1c-e8a7-4869-a43b-d1918eb2771e",
     "showTitle": false,
     "title": ""
    }
   },
   "outputs": [
    {
     "output_type": "display_data",
     "data": {
      "text/html": [
       "<style scoped>\n",
       "  .table-result-container {\n",
       "    max-height: 300px;\n",
       "    overflow: auto;\n",
       "  }\n",
       "  table, th, td {\n",
       "    border: 1px solid black;\n",
       "    border-collapse: collapse;\n",
       "  }\n",
       "  th, td {\n",
       "    padding: 5px;\n",
       "  }\n",
       "  th {\n",
       "    text-align: left;\n",
       "  }\n",
       "</style><div class='table-result-container'><table class='table-result'><thead style='background-color: white'><tr><th>circuitId</th><th>circuitRef</th><th>name</th><th>location</th><th>country</th><th>lat</th><th>lng</th><th>alt</th><th>url</th></tr></thead><tbody><tr><td>1</td><td>albert_park</td><td>Albert Park Grand Prix Circuit</td><td>Melbourne</td><td>null</td><td>-37.8497</td><td>144.968</td><td>10</td><td>http://en.wikipedia.org/wiki/Melbourne_Grand_Prix_Circuit</td></tr><tr><td>2</td><td>sepang</td><td>Sepang International Circuit</td><td>Kuala Lumpur</td><td>null</td><td>2.76083</td><td>101.738</td><td>18</td><td>http://en.wikipedia.org/wiki/Sepang_International_Circuit</td></tr><tr><td>3</td><td>bahrain</td><td>Bahrain International Circuit</td><td>Sakhir</td><td>null</td><td>26.0325</td><td>50.5106</td><td>7</td><td>http://en.wikipedia.org/wiki/Bahrain_International_Circuit</td></tr><tr><td>4</td><td>catalunya</td><td>Circuit de Barcelona-Catalunya</td><td>Montmeló</td><td>null</td><td>41.57</td><td>2.26111</td><td>109</td><td>http://en.wikipedia.org/wiki/Circuit_de_Barcelona-Catalunya</td></tr><tr><td>5</td><td>istanbul</td><td>Istanbul Park</td><td>Istanbul</td><td>null</td><td>40.9517</td><td>29.405</td><td>130</td><td>http://en.wikipedia.org/wiki/Istanbul_Park</td></tr><tr><td>6</td><td>monaco</td><td>Circuit de Monaco</td><td>Monte-Carlo</td><td>null</td><td>43.7347</td><td>7.42056</td><td>7</td><td>http://en.wikipedia.org/wiki/Circuit_de_Monaco</td></tr><tr><td>7</td><td>villeneuve</td><td>Circuit Gilles Villeneuve</td><td>Montreal</td><td>null</td><td>45.5</td><td>-73.5228</td><td>13</td><td>http://en.wikipedia.org/wiki/Circuit_Gilles_Villeneuve</td></tr><tr><td>8</td><td>magny_cours</td><td>Circuit de Nevers Magny-Cours</td><td>Magny Cours</td><td>null</td><td>46.8642</td><td>3.16361</td><td>228</td><td>http://en.wikipedia.org/wiki/Circuit_de_Nevers_Magny-Cours</td></tr><tr><td>9</td><td>silverstone</td><td>Silverstone Circuit</td><td>Silverstone</td><td>null</td><td>52.0786</td><td>-1.01694</td><td>153</td><td>http://en.wikipedia.org/wiki/Silverstone_Circuit</td></tr><tr><td>10</td><td>hockenheimring</td><td>Hockenheimring</td><td>Hockenheim</td><td>null</td><td>49.3278</td><td>8.56583</td><td>103</td><td>http://en.wikipedia.org/wiki/Hockenheimring</td></tr><tr><td>11</td><td>hungaroring</td><td>Hungaroring</td><td>Budapest</td><td>null</td><td>47.5789</td><td>19.2486</td><td>264</td><td>http://en.wikipedia.org/wiki/Hungaroring</td></tr><tr><td>12</td><td>valencia</td><td>Valencia Street Circuit</td><td>Valencia</td><td>null</td><td>39.4589</td><td>-0.331667</td><td>4</td><td>http://en.wikipedia.org/wiki/Valencia_Street_Circuit</td></tr><tr><td>13</td><td>spa</td><td>Circuit de Spa-Francorchamps</td><td>Spa</td><td>null</td><td>50.4372</td><td>5.97139</td><td>401</td><td>http://en.wikipedia.org/wiki/Circuit_de_Spa-Francorchamps</td></tr><tr><td>14</td><td>monza</td><td>Autodromo Nazionale di Monza</td><td>Monza</td><td>null</td><td>45.6156</td><td>9.28111</td><td>162</td><td>http://en.wikipedia.org/wiki/Autodromo_Nazionale_Monza</td></tr><tr><td>15</td><td>marina_bay</td><td>Marina Bay Street Circuit</td><td>Marina Bay</td><td>null</td><td>1.2914</td><td>103.864</td><td>18</td><td>http://en.wikipedia.org/wiki/Marina_Bay_Street_Circuit</td></tr><tr><td>16</td><td>fuji</td><td>Fuji Speedway</td><td>Oyama</td><td>null</td><td>35.3717</td><td>138.927</td><td>583</td><td>http://en.wikipedia.org/wiki/Fuji_Speedway</td></tr><tr><td>17</td><td>shanghai</td><td>Shanghai International Circuit</td><td>Shanghai</td><td>null</td><td>31.3389</td><td>121.22</td><td>5</td><td>http://en.wikipedia.org/wiki/Shanghai_International_Circuit</td></tr><tr><td>18</td><td>interlagos</td><td>Autódromo José Carlos Pace</td><td>São Paulo</td><td>null</td><td>-23.7036</td><td>-46.6997</td><td>785</td><td>http://en.wikipedia.org/wiki/Aut%C3%B3dromo_Jos%C3%A9_Carlos_Pace</td></tr><tr><td>19</td><td>indianapolis</td><td>Indianapolis Motor Speedway</td><td>Indianapolis</td><td>null</td><td>39.795</td><td>-86.2347</td><td>223</td><td>http://en.wikipedia.org/wiki/Indianapolis_Motor_Speedway</td></tr><tr><td>20</td><td>nurburgring</td><td>Nürburgring</td><td>Nürburg</td><td>null</td><td>50.3356</td><td>6.9475</td><td>578</td><td>http://en.wikipedia.org/wiki/N%C3%BCrburgring</td></tr><tr><td>21</td><td>imola</td><td>Autodromo Enzo e Dino Ferrari</td><td>Imola</td><td>null</td><td>44.3439</td><td>11.7167</td><td>37</td><td>http://en.wikipedia.org/wiki/Autodromo_Enzo_e_Dino_Ferrari</td></tr><tr><td>22</td><td>suzuka</td><td>Suzuka Circuit</td><td>Suzuka</td><td>null</td><td>34.8431</td><td>136.541</td><td>45</td><td>http://en.wikipedia.org/wiki/Suzuka_Circuit</td></tr><tr><td>23</td><td>osterreichring</td><td>A1-Ring</td><td>Spielburg</td><td>null</td><td>47.2197</td><td>14.7647</td><td>678</td><td>http://en.wikipedia.org/wiki/A1-Ring</td></tr><tr><td>24</td><td>yas_marina</td><td>Yas Marina Circuit</td><td>Abu Dhabi</td><td>null</td><td>24.4672</td><td>54.6031</td><td>3</td><td>http://en.wikipedia.org/wiki/Yas_Marina_Circuit</td></tr><tr><td>25</td><td>galvez</td><td>Autódromo Juan y Oscar Gálvez</td><td>Buenos Aires</td><td>null</td><td>-34.6943</td><td>-58.4593</td><td>8</td><td>http://en.wikipedia.org/wiki/Aut%C3%B3dromo_Oscar_Alfredo_G%C3%A1lvez</td></tr><tr><td>26</td><td>jerez</td><td>Circuito de Jerez</td><td>Jerez de la Frontera</td><td>null</td><td>36.7083</td><td>-6.03417</td><td>37</td><td>http://en.wikipedia.org/wiki/Circuito_Permanente_de_Jerez</td></tr><tr><td>27</td><td>estoril</td><td>Autódromo do Estoril</td><td>Estoril</td><td>null</td><td>38.7506</td><td>-9.39417</td><td>130</td><td>http://en.wikipedia.org/wiki/Aut%C3%B3dromo_do_Estoril</td></tr><tr><td>28</td><td>okayama</td><td>Okayama International Circuit</td><td>Okayama</td><td>null</td><td>34.915</td><td>134.221</td><td>266</td><td>http://en.wikipedia.org/wiki/TI_Circuit</td></tr><tr><td>29</td><td>adelaide</td><td>Adelaide Street Circuit</td><td>Adelaide</td><td>null</td><td>-34.9272</td><td>138.617</td><td>58</td><td>http://en.wikipedia.org/wiki/Adelaide_Street_Circuit</td></tr><tr><td>30</td><td>kyalami</td><td>Kyalami</td><td>Midrand</td><td>null</td><td>-25.9894</td><td>28.0767</td><td>1460</td><td>http://en.wikipedia.org/wiki/Kyalami</td></tr><tr><td>31</td><td>donington</td><td>Donington Park</td><td>Castle Donington</td><td>null</td><td>52.8306</td><td>-1.37528</td><td>88</td><td>http://en.wikipedia.org/wiki/Donington_Park</td></tr><tr><td>32</td><td>rodriguez</td><td>Autódromo Hermanos Rodríguez</td><td>Mexico City</td><td>null</td><td>19.4042</td><td>-99.0907</td><td>2227</td><td>http://en.wikipedia.org/wiki/Aut%C3%B3dromo_Hermanos_Rodr%C3%ADguez</td></tr><tr><td>33</td><td>phoenix</td><td>Phoenix street circuit</td><td>Phoenix</td><td>null</td><td>33.4479</td><td>-112.075</td><td>345</td><td>http://en.wikipedia.org/wiki/Phoenix_street_circuit</td></tr><tr><td>34</td><td>ricard</td><td>Circuit Paul Ricard</td><td>Le Castellet</td><td>null</td><td>43.2506</td><td>5.79167</td><td>432</td><td>http://en.wikipedia.org/wiki/Paul_Ricard_Circuit</td></tr><tr><td>35</td><td>yeongam</td><td>Korean International Circuit</td><td>Yeongam County</td><td>null</td><td>34.7333</td><td>126.417</td><td>0</td><td>http://en.wikipedia.org/wiki/Korean_International_Circuit</td></tr><tr><td>36</td><td>jacarepagua</td><td>Autódromo Internacional Nelson Piquet</td><td>Rio de Janeiro</td><td>null</td><td>-22.9756</td><td>-43.395</td><td>1126</td><td>http://en.wikipedia.org/wiki/Aut%C3%B3dromo_Internacional_Nelson_Piquet</td></tr><tr><td>37</td><td>detroit</td><td>Detroit Street Circuit</td><td>Detroit</td><td>null</td><td>42.3298</td><td>-83.0401</td><td>177</td><td>http://en.wikipedia.org/wiki/Detroit_street_circuit</td></tr><tr><td>38</td><td>brands_hatch</td><td>Brands Hatch</td><td>Kent</td><td>null</td><td>51.3569</td><td>0.263056</td><td>145</td><td>http://en.wikipedia.org/wiki/Brands_Hatch</td></tr><tr><td>39</td><td>zandvoort</td><td>Circuit Park Zandvoort</td><td>Zandvoort</td><td>null</td><td>52.3888</td><td>4.54092</td><td>6</td><td>http://en.wikipedia.org/wiki/Circuit_Zandvoort</td></tr><tr><td>40</td><td>zolder</td><td>Zolder</td><td>Heusden-Zolder</td><td>null</td><td>50.9894</td><td>5.25694</td><td>36</td><td>http://en.wikipedia.org/wiki/Zolder</td></tr><tr><td>41</td><td>dijon</td><td>Dijon-Prenois</td><td>Dijon</td><td>null</td><td>47.3625</td><td>4.89913</td><td>484</td><td>http://en.wikipedia.org/wiki/Dijon-Prenois</td></tr><tr><td>42</td><td>dallas</td><td>Fair Park</td><td>Dallas</td><td>null</td><td>32.7774</td><td>-96.7587</td><td>139</td><td>http://en.wikipedia.org/wiki/Fair_Park</td></tr><tr><td>43</td><td>long_beach</td><td>Long Beach</td><td>California</td><td>null</td><td>33.7651</td><td>-118.189</td><td>12</td><td>http://en.wikipedia.org/wiki/Long_Beach,_California</td></tr><tr><td>44</td><td>las_vegas</td><td>Las Vegas Street Circuit</td><td>Nevada</td><td>null</td><td>36.1162</td><td>-115.174</td><td>639</td><td>http://en.wikipedia.org/wiki/Las_Vegas,_Nevada</td></tr><tr><td>45</td><td>jarama</td><td>Jarama</td><td>Madrid</td><td>null</td><td>40.6171</td><td>-3.58558</td><td>609</td><td>http://en.wikipedia.org/wiki/Circuito_Permanente_Del_Jarama</td></tr><tr><td>46</td><td>watkins_glen</td><td>Watkins Glen</td><td>New York State</td><td>null</td><td>42.3369</td><td>-76.9272</td><td>485</td><td>http://en.wikipedia.org/wiki/Watkins_Glen_International</td></tr><tr><td>47</td><td>anderstorp</td><td>Scandinavian Raceway</td><td>Anderstorp</td><td>null</td><td>57.2653</td><td>13.6042</td><td>153</td><td>http://en.wikipedia.org/wiki/Scandinavian_Raceway</td></tr><tr><td>48</td><td>mosport</td><td>Mosport International Raceway</td><td>Ontario</td><td>null</td><td>44.0481</td><td>-78.6756</td><td>332</td><td>http://en.wikipedia.org/wiki/Mosport</td></tr><tr><td>49</td><td>montjuic</td><td>Montjuïc</td><td>Barcelona</td><td>null</td><td>41.3664</td><td>2.15167</td><td>79</td><td>http://en.wikipedia.org/wiki/Montju%C3%AFc_circuit</td></tr><tr><td>50</td><td>nivelles</td><td>Nivelles-Baulers</td><td>Brussels</td><td>null</td><td>50.6211</td><td>4.32694</td><td>139</td><td>http://en.wikipedia.org/wiki/Nivelles-Baulers</td></tr><tr><td>51</td><td>charade</td><td>Charade Circuit</td><td>Clermont-Ferrand</td><td>null</td><td>45.7472</td><td>3.03889</td><td>790</td><td>http://en.wikipedia.org/wiki/Charade_Circuit</td></tr><tr><td>52</td><td>tremblant</td><td>Circuit Mont-Tremblant</td><td>Quebec</td><td>null</td><td>46.1877</td><td>-74.6099</td><td>214</td><td>http://en.wikipedia.org/wiki/Circuit_Mont-Tremblant</td></tr><tr><td>53</td><td>essarts</td><td>Rouen-Les-Essarts</td><td>Rouen</td><td>null</td><td>49.3306</td><td>1.00458</td><td>81</td><td>http://en.wikipedia.org/wiki/Rouen-Les-Essarts</td></tr><tr><td>54</td><td>lemans</td><td>Le Mans</td><td>Le Mans</td><td>null</td><td>47.95</td><td>0.224231</td><td>67</td><td>http://en.wikipedia.org/wiki/Circuit_de_la_Sarthe#Bugatti_Circuit</td></tr><tr><td>55</td><td>reims</td><td>Reims-Gueux</td><td>Reims</td><td>null</td><td>49.2542</td><td>3.93083</td><td>88</td><td>http://en.wikipedia.org/wiki/Reims-Gueux</td></tr><tr><td>56</td><td>george</td><td>Prince George Circuit</td><td>Eastern Cape Province</td><td>null</td><td>-33.0486</td><td>27.8736</td><td>15</td><td>http://en.wikipedia.org/wiki/Prince_George_Circuit</td></tr><tr><td>57</td><td>zeltweg</td><td>Zeltweg</td><td>Styria</td><td>null</td><td>47.2039</td><td>14.7478</td><td>676</td><td>http://en.wikipedia.org/wiki/Zeltweg_Airfield</td></tr><tr><td>58</td><td>aintree</td><td>Aintree</td><td>Liverpool</td><td>null</td><td>53.4769</td><td>-2.94056</td><td>20</td><td>http://en.wikipedia.org/wiki/Aintree_Motor_Racing_Circuit</td></tr><tr><td>59</td><td>boavista</td><td>Circuito da Boavista</td><td>Oporto</td><td>null</td><td>41.1705</td><td>-8.67325</td><td>28</td><td>http://en.wikipedia.org/wiki/Circuito_da_Boavista</td></tr><tr><td>60</td><td>riverside</td><td>Riverside International Raceway</td><td>California</td><td>null</td><td>33.937</td><td>-117.273</td><td>470</td><td>http://en.wikipedia.org/wiki/Riverside_International_Raceway</td></tr><tr><td>61</td><td>avus</td><td>AVUS</td><td>Berlin</td><td>null</td><td>52.4806</td><td>13.2514</td><td>53</td><td>http://en.wikipedia.org/wiki/AVUS</td></tr><tr><td>62</td><td>monsanto</td><td>Monsanto Park Circuit</td><td>Lisbon</td><td>null</td><td>38.7197</td><td>-9.20306</td><td>158</td><td>http://en.wikipedia.org/wiki/Monsanto_Park_Circuit</td></tr><tr><td>63</td><td>sebring</td><td>Sebring International Raceway</td><td>Florida</td><td>null</td><td>27.4547</td><td>-81.3483</td><td>18</td><td>http://en.wikipedia.org/wiki/Sebring_Raceway</td></tr><tr><td>64</td><td>ain-diab</td><td>Ain Diab</td><td>Casablanca</td><td>null</td><td>33.5786</td><td>-7.6875</td><td>19</td><td>http://en.wikipedia.org/wiki/Ain-Diab_Circuit</td></tr><tr><td>65</td><td>pescara</td><td>Pescara Circuit</td><td>Pescara</td><td>null</td><td>42.475</td><td>14.1508</td><td>129</td><td>http://en.wikipedia.org/wiki/Pescara_Circuit</td></tr><tr><td>66</td><td>bremgarten</td><td>Circuit Bremgarten</td><td>Bern</td><td>null</td><td>46.9589</td><td>7.40194</td><td>551</td><td>http://en.wikipedia.org/wiki/Circuit_Bremgarten</td></tr><tr><td>67</td><td>pedralbes</td><td>Circuit de Pedralbes</td><td>Barcelona</td><td>null</td><td>41.3903</td><td>2.11667</td><td>85</td><td>http://en.wikipedia.org/wiki/Pedralbes_Circuit</td></tr><tr><td>68</td><td>buddh</td><td>Buddh International Circuit</td><td>Uttar Pradesh</td><td>null</td><td>28.3487</td><td>77.5331</td><td>194</td><td>http://en.wikipedia.org/wiki/Buddh_International_Circuit</td></tr><tr><td>69</td><td>americas</td><td>Circuit of the Americas</td><td>Austin</td><td>null</td><td>30.1328</td><td>-97.6411</td><td>161</td><td>http://en.wikipedia.org/wiki/Circuit_of_the_Americas</td></tr><tr><td>70</td><td>red_bull_ring</td><td>Red Bull Ring</td><td>Spielburg</td><td>null</td><td>47.2197</td><td>14.7647</td><td>678</td><td>http://en.wikipedia.org/wiki/Red_Bull_Ring</td></tr><tr><td>71</td><td>sochi</td><td>Sochi Autodrom</td><td>Sochi</td><td>null</td><td>43.4057</td><td>39.9578</td><td>2</td><td>http://en.wikipedia.org/wiki/Sochi_Autodrom</td></tr><tr><td>72</td><td>port_imperial</td><td>Port Imperial Street Circuit</td><td>New Jersey</td><td>null</td><td>40.7769</td><td>-74.0111</td><td>4</td><td>http://en.wikipedia.org/wiki/Port_Imperial_Street_Circuit</td></tr><tr><td>73</td><td>BAK</td><td>Baku City Circuit</td><td>Baku</td><td>null</td><td>40.3725</td><td>49.8533</td><td>-7</td><td>http://en.wikipedia.org/wiki/Baku_City_Circuit</td></tr><tr><td>74</td><td>hanoi</td><td>Hanoi Street Circuit</td><td>Hanoi</td><td>null</td><td>21.0166</td><td>105.766</td><td>9</td><td>http://en.wikipedia.org/wiki/Hanoi_Street_Circuit</td></tr><tr><td>75</td><td>portimao</td><td>Autódromo Internacional do Algarve</td><td>Portimão</td><td>null</td><td>37.227</td><td>-8.6267</td><td>108</td><td>http://en.wikipedia.org/wiki/Algarve_International_Circuit</td></tr><tr><td>76</td><td>mugello</td><td>Autodromo Internazionale del Mugello</td><td>Mugello</td><td>null</td><td>43.9975</td><td>11.3719</td><td>255</td><td>http://en.wikipedia.org/wiki/Mugello_Circuit</td></tr><tr><td>77</td><td>jeddah</td><td>Jeddah Street Circuit</td><td>Jeddah</td><td>null</td><td>21.5433</td><td>39.1728</td><td>15</td><td>http://en.wikipedia.org/wiki/Jeddah_Street_Circuit</td></tr></tbody></table></div>"
      ]
     },
     "metadata": {
      "application/vnd.databricks.v1+output": {
       "addedWidgets": {},
       "aggData": [],
       "aggError": "",
       "aggOverflow": false,
       "aggSchema": [],
       "aggSeriesLimitReached": false,
       "aggType": "",
       "arguments": {},
       "columnCustomDisplayInfos": {},
       "data": [
        [
         1,
         "albert_park",
         "Albert Park Grand Prix Circuit",
         "Melbourne",
         null,
         -37.8497,
         144.968,
         10,
         "http://en.wikipedia.org/wiki/Melbourne_Grand_Prix_Circuit"
        ],
        [
         2,
         "sepang",
         "Sepang International Circuit",
         "Kuala Lumpur",
         null,
         2.76083,
         101.738,
         18,
         "http://en.wikipedia.org/wiki/Sepang_International_Circuit"
        ],
        [
         3,
         "bahrain",
         "Bahrain International Circuit",
         "Sakhir",
         null,
         26.0325,
         50.5106,
         7,
         "http://en.wikipedia.org/wiki/Bahrain_International_Circuit"
        ],
        [
         4,
         "catalunya",
         "Circuit de Barcelona-Catalunya",
         "Montmeló",
         null,
         41.57,
         2.26111,
         109,
         "http://en.wikipedia.org/wiki/Circuit_de_Barcelona-Catalunya"
        ],
        [
         5,
         "istanbul",
         "Istanbul Park",
         "Istanbul",
         null,
         40.9517,
         29.405,
         130,
         "http://en.wikipedia.org/wiki/Istanbul_Park"
        ],
        [
         6,
         "monaco",
         "Circuit de Monaco",
         "Monte-Carlo",
         null,
         43.7347,
         7.42056,
         7,
         "http://en.wikipedia.org/wiki/Circuit_de_Monaco"
        ],
        [
         7,
         "villeneuve",
         "Circuit Gilles Villeneuve",
         "Montreal",
         null,
         45.5,
         -73.5228,
         13,
         "http://en.wikipedia.org/wiki/Circuit_Gilles_Villeneuve"
        ],
        [
         8,
         "magny_cours",
         "Circuit de Nevers Magny-Cours",
         "Magny Cours",
         null,
         46.8642,
         3.16361,
         228,
         "http://en.wikipedia.org/wiki/Circuit_de_Nevers_Magny-Cours"
        ],
        [
         9,
         "silverstone",
         "Silverstone Circuit",
         "Silverstone",
         null,
         52.0786,
         -1.01694,
         153,
         "http://en.wikipedia.org/wiki/Silverstone_Circuit"
        ],
        [
         10,
         "hockenheimring",
         "Hockenheimring",
         "Hockenheim",
         null,
         49.3278,
         8.56583,
         103,
         "http://en.wikipedia.org/wiki/Hockenheimring"
        ],
        [
         11,
         "hungaroring",
         "Hungaroring",
         "Budapest",
         null,
         47.5789,
         19.2486,
         264,
         "http://en.wikipedia.org/wiki/Hungaroring"
        ],
        [
         12,
         "valencia",
         "Valencia Street Circuit",
         "Valencia",
         null,
         39.4589,
         -0.331667,
         4,
         "http://en.wikipedia.org/wiki/Valencia_Street_Circuit"
        ],
        [
         13,
         "spa",
         "Circuit de Spa-Francorchamps",
         "Spa",
         null,
         50.4372,
         5.97139,
         401,
         "http://en.wikipedia.org/wiki/Circuit_de_Spa-Francorchamps"
        ],
        [
         14,
         "monza",
         "Autodromo Nazionale di Monza",
         "Monza",
         null,
         45.6156,
         9.28111,
         162,
         "http://en.wikipedia.org/wiki/Autodromo_Nazionale_Monza"
        ],
        [
         15,
         "marina_bay",
         "Marina Bay Street Circuit",
         "Marina Bay",
         null,
         1.2914,
         103.864,
         18,
         "http://en.wikipedia.org/wiki/Marina_Bay_Street_Circuit"
        ],
        [
         16,
         "fuji",
         "Fuji Speedway",
         "Oyama",
         null,
         35.3717,
         138.927,
         583,
         "http://en.wikipedia.org/wiki/Fuji_Speedway"
        ],
        [
         17,
         "shanghai",
         "Shanghai International Circuit",
         "Shanghai",
         null,
         31.3389,
         121.22,
         5,
         "http://en.wikipedia.org/wiki/Shanghai_International_Circuit"
        ],
        [
         18,
         "interlagos",
         "Autódromo José Carlos Pace",
         "São Paulo",
         null,
         -23.7036,
         -46.6997,
         785,
         "http://en.wikipedia.org/wiki/Aut%C3%B3dromo_Jos%C3%A9_Carlos_Pace"
        ],
        [
         19,
         "indianapolis",
         "Indianapolis Motor Speedway",
         "Indianapolis",
         null,
         39.795,
         -86.2347,
         223,
         "http://en.wikipedia.org/wiki/Indianapolis_Motor_Speedway"
        ],
        [
         20,
         "nurburgring",
         "Nürburgring",
         "Nürburg",
         null,
         50.3356,
         6.9475,
         578,
         "http://en.wikipedia.org/wiki/N%C3%BCrburgring"
        ],
        [
         21,
         "imola",
         "Autodromo Enzo e Dino Ferrari",
         "Imola",
         null,
         44.3439,
         11.7167,
         37,
         "http://en.wikipedia.org/wiki/Autodromo_Enzo_e_Dino_Ferrari"
        ],
        [
         22,
         "suzuka",
         "Suzuka Circuit",
         "Suzuka",
         null,
         34.8431,
         136.541,
         45,
         "http://en.wikipedia.org/wiki/Suzuka_Circuit"
        ],
        [
         23,
         "osterreichring",
         "A1-Ring",
         "Spielburg",
         null,
         47.2197,
         14.7647,
         678,
         "http://en.wikipedia.org/wiki/A1-Ring"
        ],
        [
         24,
         "yas_marina",
         "Yas Marina Circuit",
         "Abu Dhabi",
         null,
         24.4672,
         54.6031,
         3,
         "http://en.wikipedia.org/wiki/Yas_Marina_Circuit"
        ],
        [
         25,
         "galvez",
         "Autódromo Juan y Oscar Gálvez",
         "Buenos Aires",
         null,
         -34.6943,
         -58.4593,
         8,
         "http://en.wikipedia.org/wiki/Aut%C3%B3dromo_Oscar_Alfredo_G%C3%A1lvez"
        ],
        [
         26,
         "jerez",
         "Circuito de Jerez",
         "Jerez de la Frontera",
         null,
         36.7083,
         -6.03417,
         37,
         "http://en.wikipedia.org/wiki/Circuito_Permanente_de_Jerez"
        ],
        [
         27,
         "estoril",
         "Autódromo do Estoril",
         "Estoril",
         null,
         38.7506,
         -9.39417,
         130,
         "http://en.wikipedia.org/wiki/Aut%C3%B3dromo_do_Estoril"
        ],
        [
         28,
         "okayama",
         "Okayama International Circuit",
         "Okayama",
         null,
         34.915,
         134.221,
         266,
         "http://en.wikipedia.org/wiki/TI_Circuit"
        ],
        [
         29,
         "adelaide",
         "Adelaide Street Circuit",
         "Adelaide",
         null,
         -34.9272,
         138.617,
         58,
         "http://en.wikipedia.org/wiki/Adelaide_Street_Circuit"
        ],
        [
         30,
         "kyalami",
         "Kyalami",
         "Midrand",
         null,
         -25.9894,
         28.0767,
         1460,
         "http://en.wikipedia.org/wiki/Kyalami"
        ],
        [
         31,
         "donington",
         "Donington Park",
         "Castle Donington",
         null,
         52.8306,
         -1.37528,
         88,
         "http://en.wikipedia.org/wiki/Donington_Park"
        ],
        [
         32,
         "rodriguez",
         "Autódromo Hermanos Rodríguez",
         "Mexico City",
         null,
         19.4042,
         -99.0907,
         2227,
         "http://en.wikipedia.org/wiki/Aut%C3%B3dromo_Hermanos_Rodr%C3%ADguez"
        ],
        [
         33,
         "phoenix",
         "Phoenix street circuit",
         "Phoenix",
         null,
         33.4479,
         -112.075,
         345,
         "http://en.wikipedia.org/wiki/Phoenix_street_circuit"
        ],
        [
         34,
         "ricard",
         "Circuit Paul Ricard",
         "Le Castellet",
         null,
         43.2506,
         5.79167,
         432,
         "http://en.wikipedia.org/wiki/Paul_Ricard_Circuit"
        ],
        [
         35,
         "yeongam",
         "Korean International Circuit",
         "Yeongam County",
         null,
         34.7333,
         126.417,
         0,
         "http://en.wikipedia.org/wiki/Korean_International_Circuit"
        ],
        [
         36,
         "jacarepagua",
         "Autódromo Internacional Nelson Piquet",
         "Rio de Janeiro",
         null,
         -22.9756,
         -43.395,
         1126,
         "http://en.wikipedia.org/wiki/Aut%C3%B3dromo_Internacional_Nelson_Piquet"
        ],
        [
         37,
         "detroit",
         "Detroit Street Circuit",
         "Detroit",
         null,
         42.3298,
         -83.0401,
         177,
         "http://en.wikipedia.org/wiki/Detroit_street_circuit"
        ],
        [
         38,
         "brands_hatch",
         "Brands Hatch",
         "Kent",
         null,
         51.3569,
         0.263056,
         145,
         "http://en.wikipedia.org/wiki/Brands_Hatch"
        ],
        [
         39,
         "zandvoort",
         "Circuit Park Zandvoort",
         "Zandvoort",
         null,
         52.3888,
         4.54092,
         6,
         "http://en.wikipedia.org/wiki/Circuit_Zandvoort"
        ],
        [
         40,
         "zolder",
         "Zolder",
         "Heusden-Zolder",
         null,
         50.9894,
         5.25694,
         36,
         "http://en.wikipedia.org/wiki/Zolder"
        ],
        [
         41,
         "dijon",
         "Dijon-Prenois",
         "Dijon",
         null,
         47.3625,
         4.89913,
         484,
         "http://en.wikipedia.org/wiki/Dijon-Prenois"
        ],
        [
         42,
         "dallas",
         "Fair Park",
         "Dallas",
         null,
         32.7774,
         -96.7587,
         139,
         "http://en.wikipedia.org/wiki/Fair_Park"
        ],
        [
         43,
         "long_beach",
         "Long Beach",
         "California",
         null,
         33.7651,
         -118.189,
         12,
         "http://en.wikipedia.org/wiki/Long_Beach,_California"
        ],
        [
         44,
         "las_vegas",
         "Las Vegas Street Circuit",
         "Nevada",
         null,
         36.1162,
         -115.174,
         639,
         "http://en.wikipedia.org/wiki/Las_Vegas,_Nevada"
        ],
        [
         45,
         "jarama",
         "Jarama",
         "Madrid",
         null,
         40.6171,
         -3.58558,
         609,
         "http://en.wikipedia.org/wiki/Circuito_Permanente_Del_Jarama"
        ],
        [
         46,
         "watkins_glen",
         "Watkins Glen",
         "New York State",
         null,
         42.3369,
         -76.9272,
         485,
         "http://en.wikipedia.org/wiki/Watkins_Glen_International"
        ],
        [
         47,
         "anderstorp",
         "Scandinavian Raceway",
         "Anderstorp",
         null,
         57.2653,
         13.6042,
         153,
         "http://en.wikipedia.org/wiki/Scandinavian_Raceway"
        ],
        [
         48,
         "mosport",
         "Mosport International Raceway",
         "Ontario",
         null,
         44.0481,
         -78.6756,
         332,
         "http://en.wikipedia.org/wiki/Mosport"
        ],
        [
         49,
         "montjuic",
         "Montjuïc",
         "Barcelona",
         null,
         41.3664,
         2.15167,
         79,
         "http://en.wikipedia.org/wiki/Montju%C3%AFc_circuit"
        ],
        [
         50,
         "nivelles",
         "Nivelles-Baulers",
         "Brussels",
         null,
         50.6211,
         4.32694,
         139,
         "http://en.wikipedia.org/wiki/Nivelles-Baulers"
        ],
        [
         51,
         "charade",
         "Charade Circuit",
         "Clermont-Ferrand",
         null,
         45.7472,
         3.03889,
         790,
         "http://en.wikipedia.org/wiki/Charade_Circuit"
        ],
        [
         52,
         "tremblant",
         "Circuit Mont-Tremblant",
         "Quebec",
         null,
         46.1877,
         -74.6099,
         214,
         "http://en.wikipedia.org/wiki/Circuit_Mont-Tremblant"
        ],
        [
         53,
         "essarts",
         "Rouen-Les-Essarts",
         "Rouen",
         null,
         49.3306,
         1.00458,
         81,
         "http://en.wikipedia.org/wiki/Rouen-Les-Essarts"
        ],
        [
         54,
         "lemans",
         "Le Mans",
         "Le Mans",
         null,
         47.95,
         0.224231,
         67,
         "http://en.wikipedia.org/wiki/Circuit_de_la_Sarthe#Bugatti_Circuit"
        ],
        [
         55,
         "reims",
         "Reims-Gueux",
         "Reims",
         null,
         49.2542,
         3.93083,
         88,
         "http://en.wikipedia.org/wiki/Reims-Gueux"
        ],
        [
         56,
         "george",
         "Prince George Circuit",
         "Eastern Cape Province",
         null,
         -33.0486,
         27.8736,
         15,
         "http://en.wikipedia.org/wiki/Prince_George_Circuit"
        ],
        [
         57,
         "zeltweg",
         "Zeltweg",
         "Styria",
         null,
         47.2039,
         14.7478,
         676,
         "http://en.wikipedia.org/wiki/Zeltweg_Airfield"
        ],
        [
         58,
         "aintree",
         "Aintree",
         "Liverpool",
         null,
         53.4769,
         -2.94056,
         20,
         "http://en.wikipedia.org/wiki/Aintree_Motor_Racing_Circuit"
        ],
        [
         59,
         "boavista",
         "Circuito da Boavista",
         "Oporto",
         null,
         41.1705,
         -8.67325,
         28,
         "http://en.wikipedia.org/wiki/Circuito_da_Boavista"
        ],
        [
         60,
         "riverside",
         "Riverside International Raceway",
         "California",
         null,
         33.937,
         -117.273,
         470,
         "http://en.wikipedia.org/wiki/Riverside_International_Raceway"
        ],
        [
         61,
         "avus",
         "AVUS",
         "Berlin",
         null,
         52.4806,
         13.2514,
         53,
         "http://en.wikipedia.org/wiki/AVUS"
        ],
        [
         62,
         "monsanto",
         "Monsanto Park Circuit",
         "Lisbon",
         null,
         38.7197,
         -9.20306,
         158,
         "http://en.wikipedia.org/wiki/Monsanto_Park_Circuit"
        ],
        [
         63,
         "sebring",
         "Sebring International Raceway",
         "Florida",
         null,
         27.4547,
         -81.3483,
         18,
         "http://en.wikipedia.org/wiki/Sebring_Raceway"
        ],
        [
         64,
         "ain-diab",
         "Ain Diab",
         "Casablanca",
         null,
         33.5786,
         -7.6875,
         19,
         "http://en.wikipedia.org/wiki/Ain-Diab_Circuit"
        ],
        [
         65,
         "pescara",
         "Pescara Circuit",
         "Pescara",
         null,
         42.475,
         14.1508,
         129,
         "http://en.wikipedia.org/wiki/Pescara_Circuit"
        ],
        [
         66,
         "bremgarten",
         "Circuit Bremgarten",
         "Bern",
         null,
         46.9589,
         7.40194,
         551,
         "http://en.wikipedia.org/wiki/Circuit_Bremgarten"
        ],
        [
         67,
         "pedralbes",
         "Circuit de Pedralbes",
         "Barcelona",
         null,
         41.3903,
         2.11667,
         85,
         "http://en.wikipedia.org/wiki/Pedralbes_Circuit"
        ],
        [
         68,
         "buddh",
         "Buddh International Circuit",
         "Uttar Pradesh",
         null,
         28.3487,
         77.5331,
         194,
         "http://en.wikipedia.org/wiki/Buddh_International_Circuit"
        ],
        [
         69,
         "americas",
         "Circuit of the Americas",
         "Austin",
         null,
         30.1328,
         -97.6411,
         161,
         "http://en.wikipedia.org/wiki/Circuit_of_the_Americas"
        ],
        [
         70,
         "red_bull_ring",
         "Red Bull Ring",
         "Spielburg",
         null,
         47.2197,
         14.7647,
         678,
         "http://en.wikipedia.org/wiki/Red_Bull_Ring"
        ],
        [
         71,
         "sochi",
         "Sochi Autodrom",
         "Sochi",
         null,
         43.4057,
         39.9578,
         2,
         "http://en.wikipedia.org/wiki/Sochi_Autodrom"
        ],
        [
         72,
         "port_imperial",
         "Port Imperial Street Circuit",
         "New Jersey",
         null,
         40.7769,
         -74.0111,
         4,
         "http://en.wikipedia.org/wiki/Port_Imperial_Street_Circuit"
        ],
        [
         73,
         "BAK",
         "Baku City Circuit",
         "Baku",
         null,
         40.3725,
         49.8533,
         -7,
         "http://en.wikipedia.org/wiki/Baku_City_Circuit"
        ],
        [
         74,
         "hanoi",
         "Hanoi Street Circuit",
         "Hanoi",
         null,
         21.0166,
         105.766,
         9,
         "http://en.wikipedia.org/wiki/Hanoi_Street_Circuit"
        ],
        [
         75,
         "portimao",
         "Autódromo Internacional do Algarve",
         "Portimão",
         null,
         37.227,
         -8.6267,
         108,
         "http://en.wikipedia.org/wiki/Algarve_International_Circuit"
        ],
        [
         76,
         "mugello",
         "Autodromo Internazionale del Mugello",
         "Mugello",
         null,
         43.9975,
         11.3719,
         255,
         "http://en.wikipedia.org/wiki/Mugello_Circuit"
        ],
        [
         77,
         "jeddah",
         "Jeddah Street Circuit",
         "Jeddah",
         null,
         21.5433,
         39.1728,
         15,
         "http://en.wikipedia.org/wiki/Jeddah_Street_Circuit"
        ]
       ],
       "datasetInfos": [],
       "dbfsResultPath": null,
       "isJsonSchema": true,
       "metadata": {},
       "overflow": false,
       "plotOptions": {
        "customPlotOptions": {},
        "displayType": "table",
        "pivotAggregation": null,
        "pivotColumns": null,
        "xColumns": null,
        "yColumns": null
       },
       "removedWidgets": [],
       "schema": [
        {
         "metadata": "{}",
         "name": "circuitId",
         "type": "\"integer\""
        },
        {
         "metadata": "{}",
         "name": "circuitRef",
         "type": "\"string\""
        },
        {
         "metadata": "{}",
         "name": "name",
         "type": "\"string\""
        },
        {
         "metadata": "{}",
         "name": "location",
         "type": "\"string\""
        },
        {
         "metadata": "{}",
         "name": "country",
         "type": "\"integer\""
        },
        {
         "metadata": "{}",
         "name": "lat",
         "type": "\"double\""
        },
        {
         "metadata": "{}",
         "name": "lng",
         "type": "\"double\""
        },
        {
         "metadata": "{}",
         "name": "alt",
         "type": "\"integer\""
        },
        {
         "metadata": "{}",
         "name": "url",
         "type": "\"string\""
        }
       ],
       "type": "table"
      }
     },
     "output_type": "display_data"
    }
   ],
   "source": [
    "display(circuits_df)"
   ]
  },
  {
   "cell_type": "code",
   "execution_count": 0,
   "metadata": {
    "application/vnd.databricks.v1+cell": {
     "cellMetadata": {
      "byteLimit": 2048000,
      "rowLimit": 10000
     },
     "inputWidgets": {},
     "nuid": "96cdb8ca-fde0-4139-95da-15b2c4fd071d",
     "showTitle": false,
     "title": ""
    }
   },
   "outputs": [
    {
     "output_type": "stream",
     "name": "stdout",
     "output_type": "stream",
     "text": [
      "root\n |-- circuitId: integer (nullable = true)\n |-- circuitRef: string (nullable = true)\n |-- name: string (nullable = true)\n |-- location: string (nullable = true)\n |-- country: integer (nullable = true)\n |-- lat: double (nullable = true)\n |-- lng: double (nullable = true)\n |-- alt: integer (nullable = true)\n |-- url: string (nullable = true)\n\n"
     ]
    }
   ],
   "source": [
    "circuits_df.printSchema()"
   ]
  },
  {
   "cell_type": "code",
   "execution_count": 0,
   "metadata": {
    "application/vnd.databricks.v1+cell": {
     "cellMetadata": {
      "byteLimit": 2048000,
      "rowLimit": 10000
     },
     "inputWidgets": {},
     "nuid": "8096c6b2-93a0-4a7f-802d-c2917a8c2f7f",
     "showTitle": false,
     "title": ""
    }
   },
   "outputs": [
    {
     "output_type": "stream",
     "name": "stdout",
     "output_type": "stream",
     "text": [
      "+-------+------------------+----------+-------+---------+---------+------------------+-----------------+-----------------+--------------------+\n|summary|         circuitId|circuitRef|   name| location|  country|               lat|              lng|              alt|                 url|\n+-------+------------------+----------+-------+---------+---------+------------------+-----------------+-----------------+--------------------+\n|  count|                77|        77|     77|       77|       77|                77|               77|               77|                  77|\n|   mean|              39.0|      NULL|   NULL|     NULL|     NULL| 33.72035103896102|3.551302597402597|247.4935064935065|                NULL|\n| stddev|22.371857321197094|      NULL|   NULL|     NULL|     NULL|22.885969000074535| 64.8766790440326|363.2672505910991|                NULL|\n|    min|                 1|       BAK|A1-Ring|Abu Dhabi|Argentina|          -37.8497|         -118.189|               -7|http://en.wikiped...|\n|    max|                77|    zolder| Zolder|Zandvoort|  Vietnam|           57.2653|          144.968|             2227|http://en.wikiped...|\n+-------+------------------+----------+-------+---------+---------+------------------+-----------------+-----------------+--------------------+\n\n"
     ]
    }
   ],
   "source": [
    "circuits_df.describe().show()"
   ]
  },
  {
   "cell_type": "code",
   "execution_count": 0,
   "metadata": {
    "application/vnd.databricks.v1+cell": {
     "cellMetadata": {},
     "inputWidgets": {},
     "nuid": "8ed53416-4d15-4406-9452-6ce481e0487f",
     "showTitle": false,
     "title": ""
    }
   },
   "outputs": [],
   "source": []
  },
  {
   "cell_type": "code",
   "execution_count": 0,
   "metadata": {
    "application/vnd.databricks.v1+cell": {
     "cellMetadata": {},
     "inputWidgets": {},
     "nuid": "5b1da487-306e-4bed-b263-1a308cef0e6a",
     "showTitle": false,
     "title": ""
    }
   },
   "outputs": [],
   "source": []
  },
  {
   "cell_type": "code",
   "execution_count": 0,
   "metadata": {
    "application/vnd.databricks.v1+cell": {
     "cellMetadata": {},
     "inputWidgets": {},
     "nuid": "498e16c3-ad36-4fdb-a810-ed65a3592dcd",
     "showTitle": false,
     "title": ""
    }
   },
   "outputs": [],
   "source": []
  },
  {
   "cell_type": "code",
   "execution_count": 0,
   "metadata": {
    "application/vnd.databricks.v1+cell": {
     "cellMetadata": {
      "byteLimit": 2048000,
      "rowLimit": 10000
     },
     "inputWidgets": {},
     "nuid": "c2bf10ac-13fa-4925-a59e-b1a2e517ee24",
     "showTitle": false,
     "title": ""
    }
   },
   "outputs": [
    {
     "output_type": "execute_result",
     "data": {
      "text/plain": [
       "[MountInfo(mountPoint='/databricks-datasets', source='databricks-datasets', encryptionType=''),\n",
       " MountInfo(mountPoint='/Volumes', source='UnityCatalogVolumes', encryptionType=''),\n",
       " MountInfo(mountPoint='/databricks/mlflow-tracking', source='databricks/mlflow-tracking', encryptionType=''),\n",
       " MountInfo(mountPoint='/databricks-results', source='databricks-results', encryptionType=''),\n",
       " MountInfo(mountPoint='/databricks/mlflow-registry', source='databricks/mlflow-registry', encryptionType=''),\n",
       " MountInfo(mountPoint='/Volume', source='DbfsReserved', encryptionType=''),\n",
       " MountInfo(mountPoint='/volumes', source='DbfsReserved', encryptionType=''),\n",
       " MountInfo(mountPoint='/', source='DatabricksRoot', encryptionType=''),\n",
       " MountInfo(mountPoint='/volume', source='DbfsReserved', encryptionType='')]"
      ]
     },
     "execution_count": 1,
     "metadata": {},
     "output_type": "execute_result"
    }
   ],
   "source": [
    "dbutils.fs.mounts()"
   ]
  },
  {
   "cell_type": "code",
   "execution_count": 0,
   "metadata": {
    "application/vnd.databricks.v1+cell": {
     "cellMetadata": {
      "byteLimit": 2048000,
      "rowLimit": 10000
     },
     "inputWidgets": {},
     "nuid": "3e8d64e9-fdeb-4172-a5cb-80cd554d129c",
     "showTitle": false,
     "title": ""
    }
   },
   "outputs": [
    {
     "output_type": "display_data",
     "data": {
      "text/html": [
       "<style scoped>\n",
       "  .table-result-container {\n",
       "    max-height: 300px;\n",
       "    overflow: auto;\n",
       "  }\n",
       "  table, th, td {\n",
       "    border: 1px solid black;\n",
       "    border-collapse: collapse;\n",
       "  }\n",
       "  th, td {\n",
       "    padding: 5px;\n",
       "  }\n",
       "  th {\n",
       "    text-align: left;\n",
       "  }\n",
       "</style><div class='table-result-container'><table class='table-result'><thead style='background-color: white'><tr><th>circuitId</th><th>circuitRef</th><th>name</th><th>location</th><th>country</th><th>lat</th><th>lng</th><th>alt</th><th>url</th></tr></thead><tbody><tr><td>1</td><td>albert_park</td><td>Albert Park Grand Prix Circuit</td><td>Melbourne</td><td>null</td><td>-37.8497</td><td>144.968</td><td>10</td><td>http://en.wikipedia.org/wiki/Melbourne_Grand_Prix_Circuit</td></tr><tr><td>2</td><td>sepang</td><td>Sepang International Circuit</td><td>Kuala Lumpur</td><td>null</td><td>2.76083</td><td>101.738</td><td>18</td><td>http://en.wikipedia.org/wiki/Sepang_International_Circuit</td></tr><tr><td>3</td><td>bahrain</td><td>Bahrain International Circuit</td><td>Sakhir</td><td>null</td><td>26.0325</td><td>50.5106</td><td>7</td><td>http://en.wikipedia.org/wiki/Bahrain_International_Circuit</td></tr><tr><td>4</td><td>catalunya</td><td>Circuit de Barcelona-Catalunya</td><td>Montmeló</td><td>null</td><td>41.57</td><td>2.26111</td><td>109</td><td>http://en.wikipedia.org/wiki/Circuit_de_Barcelona-Catalunya</td></tr><tr><td>5</td><td>istanbul</td><td>Istanbul Park</td><td>Istanbul</td><td>null</td><td>40.9517</td><td>29.405</td><td>130</td><td>http://en.wikipedia.org/wiki/Istanbul_Park</td></tr><tr><td>6</td><td>monaco</td><td>Circuit de Monaco</td><td>Monte-Carlo</td><td>null</td><td>43.7347</td><td>7.42056</td><td>7</td><td>http://en.wikipedia.org/wiki/Circuit_de_Monaco</td></tr><tr><td>7</td><td>villeneuve</td><td>Circuit Gilles Villeneuve</td><td>Montreal</td><td>null</td><td>45.5</td><td>-73.5228</td><td>13</td><td>http://en.wikipedia.org/wiki/Circuit_Gilles_Villeneuve</td></tr><tr><td>8</td><td>magny_cours</td><td>Circuit de Nevers Magny-Cours</td><td>Magny Cours</td><td>null</td><td>46.8642</td><td>3.16361</td><td>228</td><td>http://en.wikipedia.org/wiki/Circuit_de_Nevers_Magny-Cours</td></tr><tr><td>9</td><td>silverstone</td><td>Silverstone Circuit</td><td>Silverstone</td><td>null</td><td>52.0786</td><td>-1.01694</td><td>153</td><td>http://en.wikipedia.org/wiki/Silverstone_Circuit</td></tr><tr><td>10</td><td>hockenheimring</td><td>Hockenheimring</td><td>Hockenheim</td><td>null</td><td>49.3278</td><td>8.56583</td><td>103</td><td>http://en.wikipedia.org/wiki/Hockenheimring</td></tr><tr><td>11</td><td>hungaroring</td><td>Hungaroring</td><td>Budapest</td><td>null</td><td>47.5789</td><td>19.2486</td><td>264</td><td>http://en.wikipedia.org/wiki/Hungaroring</td></tr><tr><td>12</td><td>valencia</td><td>Valencia Street Circuit</td><td>Valencia</td><td>null</td><td>39.4589</td><td>-0.331667</td><td>4</td><td>http://en.wikipedia.org/wiki/Valencia_Street_Circuit</td></tr><tr><td>13</td><td>spa</td><td>Circuit de Spa-Francorchamps</td><td>Spa</td><td>null</td><td>50.4372</td><td>5.97139</td><td>401</td><td>http://en.wikipedia.org/wiki/Circuit_de_Spa-Francorchamps</td></tr><tr><td>14</td><td>monza</td><td>Autodromo Nazionale di Monza</td><td>Monza</td><td>null</td><td>45.6156</td><td>9.28111</td><td>162</td><td>http://en.wikipedia.org/wiki/Autodromo_Nazionale_Monza</td></tr><tr><td>15</td><td>marina_bay</td><td>Marina Bay Street Circuit</td><td>Marina Bay</td><td>null</td><td>1.2914</td><td>103.864</td><td>18</td><td>http://en.wikipedia.org/wiki/Marina_Bay_Street_Circuit</td></tr><tr><td>16</td><td>fuji</td><td>Fuji Speedway</td><td>Oyama</td><td>null</td><td>35.3717</td><td>138.927</td><td>583</td><td>http://en.wikipedia.org/wiki/Fuji_Speedway</td></tr><tr><td>17</td><td>shanghai</td><td>Shanghai International Circuit</td><td>Shanghai</td><td>null</td><td>31.3389</td><td>121.22</td><td>5</td><td>http://en.wikipedia.org/wiki/Shanghai_International_Circuit</td></tr><tr><td>18</td><td>interlagos</td><td>Autódromo José Carlos Pace</td><td>São Paulo</td><td>null</td><td>-23.7036</td><td>-46.6997</td><td>785</td><td>http://en.wikipedia.org/wiki/Aut%C3%B3dromo_Jos%C3%A9_Carlos_Pace</td></tr><tr><td>19</td><td>indianapolis</td><td>Indianapolis Motor Speedway</td><td>Indianapolis</td><td>null</td><td>39.795</td><td>-86.2347</td><td>223</td><td>http://en.wikipedia.org/wiki/Indianapolis_Motor_Speedway</td></tr><tr><td>20</td><td>nurburgring</td><td>Nürburgring</td><td>Nürburg</td><td>null</td><td>50.3356</td><td>6.9475</td><td>578</td><td>http://en.wikipedia.org/wiki/N%C3%BCrburgring</td></tr><tr><td>21</td><td>imola</td><td>Autodromo Enzo e Dino Ferrari</td><td>Imola</td><td>null</td><td>44.3439</td><td>11.7167</td><td>37</td><td>http://en.wikipedia.org/wiki/Autodromo_Enzo_e_Dino_Ferrari</td></tr><tr><td>22</td><td>suzuka</td><td>Suzuka Circuit</td><td>Suzuka</td><td>null</td><td>34.8431</td><td>136.541</td><td>45</td><td>http://en.wikipedia.org/wiki/Suzuka_Circuit</td></tr><tr><td>23</td><td>osterreichring</td><td>A1-Ring</td><td>Spielburg</td><td>null</td><td>47.2197</td><td>14.7647</td><td>678</td><td>http://en.wikipedia.org/wiki/A1-Ring</td></tr><tr><td>24</td><td>yas_marina</td><td>Yas Marina Circuit</td><td>Abu Dhabi</td><td>null</td><td>24.4672</td><td>54.6031</td><td>3</td><td>http://en.wikipedia.org/wiki/Yas_Marina_Circuit</td></tr><tr><td>25</td><td>galvez</td><td>Autódromo Juan y Oscar Gálvez</td><td>Buenos Aires</td><td>null</td><td>-34.6943</td><td>-58.4593</td><td>8</td><td>http://en.wikipedia.org/wiki/Aut%C3%B3dromo_Oscar_Alfredo_G%C3%A1lvez</td></tr><tr><td>26</td><td>jerez</td><td>Circuito de Jerez</td><td>Jerez de la Frontera</td><td>null</td><td>36.7083</td><td>-6.03417</td><td>37</td><td>http://en.wikipedia.org/wiki/Circuito_Permanente_de_Jerez</td></tr><tr><td>27</td><td>estoril</td><td>Autódromo do Estoril</td><td>Estoril</td><td>null</td><td>38.7506</td><td>-9.39417</td><td>130</td><td>http://en.wikipedia.org/wiki/Aut%C3%B3dromo_do_Estoril</td></tr><tr><td>28</td><td>okayama</td><td>Okayama International Circuit</td><td>Okayama</td><td>null</td><td>34.915</td><td>134.221</td><td>266</td><td>http://en.wikipedia.org/wiki/TI_Circuit</td></tr><tr><td>29</td><td>adelaide</td><td>Adelaide Street Circuit</td><td>Adelaide</td><td>null</td><td>-34.9272</td><td>138.617</td><td>58</td><td>http://en.wikipedia.org/wiki/Adelaide_Street_Circuit</td></tr><tr><td>30</td><td>kyalami</td><td>Kyalami</td><td>Midrand</td><td>null</td><td>-25.9894</td><td>28.0767</td><td>1460</td><td>http://en.wikipedia.org/wiki/Kyalami</td></tr><tr><td>31</td><td>donington</td><td>Donington Park</td><td>Castle Donington</td><td>null</td><td>52.8306</td><td>-1.37528</td><td>88</td><td>http://en.wikipedia.org/wiki/Donington_Park</td></tr><tr><td>32</td><td>rodriguez</td><td>Autódromo Hermanos Rodríguez</td><td>Mexico City</td><td>null</td><td>19.4042</td><td>-99.0907</td><td>2227</td><td>http://en.wikipedia.org/wiki/Aut%C3%B3dromo_Hermanos_Rodr%C3%ADguez</td></tr><tr><td>33</td><td>phoenix</td><td>Phoenix street circuit</td><td>Phoenix</td><td>null</td><td>33.4479</td><td>-112.075</td><td>345</td><td>http://en.wikipedia.org/wiki/Phoenix_street_circuit</td></tr><tr><td>34</td><td>ricard</td><td>Circuit Paul Ricard</td><td>Le Castellet</td><td>null</td><td>43.2506</td><td>5.79167</td><td>432</td><td>http://en.wikipedia.org/wiki/Paul_Ricard_Circuit</td></tr><tr><td>35</td><td>yeongam</td><td>Korean International Circuit</td><td>Yeongam County</td><td>null</td><td>34.7333</td><td>126.417</td><td>0</td><td>http://en.wikipedia.org/wiki/Korean_International_Circuit</td></tr><tr><td>36</td><td>jacarepagua</td><td>Autódromo Internacional Nelson Piquet</td><td>Rio de Janeiro</td><td>null</td><td>-22.9756</td><td>-43.395</td><td>1126</td><td>http://en.wikipedia.org/wiki/Aut%C3%B3dromo_Internacional_Nelson_Piquet</td></tr><tr><td>37</td><td>detroit</td><td>Detroit Street Circuit</td><td>Detroit</td><td>null</td><td>42.3298</td><td>-83.0401</td><td>177</td><td>http://en.wikipedia.org/wiki/Detroit_street_circuit</td></tr><tr><td>38</td><td>brands_hatch</td><td>Brands Hatch</td><td>Kent</td><td>null</td><td>51.3569</td><td>0.263056</td><td>145</td><td>http://en.wikipedia.org/wiki/Brands_Hatch</td></tr><tr><td>39</td><td>zandvoort</td><td>Circuit Park Zandvoort</td><td>Zandvoort</td><td>null</td><td>52.3888</td><td>4.54092</td><td>6</td><td>http://en.wikipedia.org/wiki/Circuit_Zandvoort</td></tr><tr><td>40</td><td>zolder</td><td>Zolder</td><td>Heusden-Zolder</td><td>null</td><td>50.9894</td><td>5.25694</td><td>36</td><td>http://en.wikipedia.org/wiki/Zolder</td></tr><tr><td>41</td><td>dijon</td><td>Dijon-Prenois</td><td>Dijon</td><td>null</td><td>47.3625</td><td>4.89913</td><td>484</td><td>http://en.wikipedia.org/wiki/Dijon-Prenois</td></tr><tr><td>42</td><td>dallas</td><td>Fair Park</td><td>Dallas</td><td>null</td><td>32.7774</td><td>-96.7587</td><td>139</td><td>http://en.wikipedia.org/wiki/Fair_Park</td></tr><tr><td>43</td><td>long_beach</td><td>Long Beach</td><td>California</td><td>null</td><td>33.7651</td><td>-118.189</td><td>12</td><td>http://en.wikipedia.org/wiki/Long_Beach,_California</td></tr><tr><td>44</td><td>las_vegas</td><td>Las Vegas Street Circuit</td><td>Nevada</td><td>null</td><td>36.1162</td><td>-115.174</td><td>639</td><td>http://en.wikipedia.org/wiki/Las_Vegas,_Nevada</td></tr><tr><td>45</td><td>jarama</td><td>Jarama</td><td>Madrid</td><td>null</td><td>40.6171</td><td>-3.58558</td><td>609</td><td>http://en.wikipedia.org/wiki/Circuito_Permanente_Del_Jarama</td></tr><tr><td>46</td><td>watkins_glen</td><td>Watkins Glen</td><td>New York State</td><td>null</td><td>42.3369</td><td>-76.9272</td><td>485</td><td>http://en.wikipedia.org/wiki/Watkins_Glen_International</td></tr><tr><td>47</td><td>anderstorp</td><td>Scandinavian Raceway</td><td>Anderstorp</td><td>null</td><td>57.2653</td><td>13.6042</td><td>153</td><td>http://en.wikipedia.org/wiki/Scandinavian_Raceway</td></tr><tr><td>48</td><td>mosport</td><td>Mosport International Raceway</td><td>Ontario</td><td>null</td><td>44.0481</td><td>-78.6756</td><td>332</td><td>http://en.wikipedia.org/wiki/Mosport</td></tr><tr><td>49</td><td>montjuic</td><td>Montjuïc</td><td>Barcelona</td><td>null</td><td>41.3664</td><td>2.15167</td><td>79</td><td>http://en.wikipedia.org/wiki/Montju%C3%AFc_circuit</td></tr><tr><td>50</td><td>nivelles</td><td>Nivelles-Baulers</td><td>Brussels</td><td>null</td><td>50.6211</td><td>4.32694</td><td>139</td><td>http://en.wikipedia.org/wiki/Nivelles-Baulers</td></tr><tr><td>51</td><td>charade</td><td>Charade Circuit</td><td>Clermont-Ferrand</td><td>null</td><td>45.7472</td><td>3.03889</td><td>790</td><td>http://en.wikipedia.org/wiki/Charade_Circuit</td></tr><tr><td>52</td><td>tremblant</td><td>Circuit Mont-Tremblant</td><td>Quebec</td><td>null</td><td>46.1877</td><td>-74.6099</td><td>214</td><td>http://en.wikipedia.org/wiki/Circuit_Mont-Tremblant</td></tr><tr><td>53</td><td>essarts</td><td>Rouen-Les-Essarts</td><td>Rouen</td><td>null</td><td>49.3306</td><td>1.00458</td><td>81</td><td>http://en.wikipedia.org/wiki/Rouen-Les-Essarts</td></tr><tr><td>54</td><td>lemans</td><td>Le Mans</td><td>Le Mans</td><td>null</td><td>47.95</td><td>0.224231</td><td>67</td><td>http://en.wikipedia.org/wiki/Circuit_de_la_Sarthe#Bugatti_Circuit</td></tr><tr><td>55</td><td>reims</td><td>Reims-Gueux</td><td>Reims</td><td>null</td><td>49.2542</td><td>3.93083</td><td>88</td><td>http://en.wikipedia.org/wiki/Reims-Gueux</td></tr><tr><td>56</td><td>george</td><td>Prince George Circuit</td><td>Eastern Cape Province</td><td>null</td><td>-33.0486</td><td>27.8736</td><td>15</td><td>http://en.wikipedia.org/wiki/Prince_George_Circuit</td></tr><tr><td>57</td><td>zeltweg</td><td>Zeltweg</td><td>Styria</td><td>null</td><td>47.2039</td><td>14.7478</td><td>676</td><td>http://en.wikipedia.org/wiki/Zeltweg_Airfield</td></tr><tr><td>58</td><td>aintree</td><td>Aintree</td><td>Liverpool</td><td>null</td><td>53.4769</td><td>-2.94056</td><td>20</td><td>http://en.wikipedia.org/wiki/Aintree_Motor_Racing_Circuit</td></tr><tr><td>59</td><td>boavista</td><td>Circuito da Boavista</td><td>Oporto</td><td>null</td><td>41.1705</td><td>-8.67325</td><td>28</td><td>http://en.wikipedia.org/wiki/Circuito_da_Boavista</td></tr><tr><td>60</td><td>riverside</td><td>Riverside International Raceway</td><td>California</td><td>null</td><td>33.937</td><td>-117.273</td><td>470</td><td>http://en.wikipedia.org/wiki/Riverside_International_Raceway</td></tr><tr><td>61</td><td>avus</td><td>AVUS</td><td>Berlin</td><td>null</td><td>52.4806</td><td>13.2514</td><td>53</td><td>http://en.wikipedia.org/wiki/AVUS</td></tr><tr><td>62</td><td>monsanto</td><td>Monsanto Park Circuit</td><td>Lisbon</td><td>null</td><td>38.7197</td><td>-9.20306</td><td>158</td><td>http://en.wikipedia.org/wiki/Monsanto_Park_Circuit</td></tr><tr><td>63</td><td>sebring</td><td>Sebring International Raceway</td><td>Florida</td><td>null</td><td>27.4547</td><td>-81.3483</td><td>18</td><td>http://en.wikipedia.org/wiki/Sebring_Raceway</td></tr><tr><td>64</td><td>ain-diab</td><td>Ain Diab</td><td>Casablanca</td><td>null</td><td>33.5786</td><td>-7.6875</td><td>19</td><td>http://en.wikipedia.org/wiki/Ain-Diab_Circuit</td></tr><tr><td>65</td><td>pescara</td><td>Pescara Circuit</td><td>Pescara</td><td>null</td><td>42.475</td><td>14.1508</td><td>129</td><td>http://en.wikipedia.org/wiki/Pescara_Circuit</td></tr><tr><td>66</td><td>bremgarten</td><td>Circuit Bremgarten</td><td>Bern</td><td>null</td><td>46.9589</td><td>7.40194</td><td>551</td><td>http://en.wikipedia.org/wiki/Circuit_Bremgarten</td></tr><tr><td>67</td><td>pedralbes</td><td>Circuit de Pedralbes</td><td>Barcelona</td><td>null</td><td>41.3903</td><td>2.11667</td><td>85</td><td>http://en.wikipedia.org/wiki/Pedralbes_Circuit</td></tr><tr><td>68</td><td>buddh</td><td>Buddh International Circuit</td><td>Uttar Pradesh</td><td>null</td><td>28.3487</td><td>77.5331</td><td>194</td><td>http://en.wikipedia.org/wiki/Buddh_International_Circuit</td></tr><tr><td>69</td><td>americas</td><td>Circuit of the Americas</td><td>Austin</td><td>null</td><td>30.1328</td><td>-97.6411</td><td>161</td><td>http://en.wikipedia.org/wiki/Circuit_of_the_Americas</td></tr><tr><td>70</td><td>red_bull_ring</td><td>Red Bull Ring</td><td>Spielburg</td><td>null</td><td>47.2197</td><td>14.7647</td><td>678</td><td>http://en.wikipedia.org/wiki/Red_Bull_Ring</td></tr><tr><td>71</td><td>sochi</td><td>Sochi Autodrom</td><td>Sochi</td><td>null</td><td>43.4057</td><td>39.9578</td><td>2</td><td>http://en.wikipedia.org/wiki/Sochi_Autodrom</td></tr><tr><td>72</td><td>port_imperial</td><td>Port Imperial Street Circuit</td><td>New Jersey</td><td>null</td><td>40.7769</td><td>-74.0111</td><td>4</td><td>http://en.wikipedia.org/wiki/Port_Imperial_Street_Circuit</td></tr><tr><td>73</td><td>BAK</td><td>Baku City Circuit</td><td>Baku</td><td>null</td><td>40.3725</td><td>49.8533</td><td>-7</td><td>http://en.wikipedia.org/wiki/Baku_City_Circuit</td></tr><tr><td>74</td><td>hanoi</td><td>Hanoi Street Circuit</td><td>Hanoi</td><td>null</td><td>21.0166</td><td>105.766</td><td>9</td><td>http://en.wikipedia.org/wiki/Hanoi_Street_Circuit</td></tr><tr><td>75</td><td>portimao</td><td>Autódromo Internacional do Algarve</td><td>Portimão</td><td>null</td><td>37.227</td><td>-8.6267</td><td>108</td><td>http://en.wikipedia.org/wiki/Algarve_International_Circuit</td></tr><tr><td>76</td><td>mugello</td><td>Autodromo Internazionale del Mugello</td><td>Mugello</td><td>null</td><td>43.9975</td><td>11.3719</td><td>255</td><td>http://en.wikipedia.org/wiki/Mugello_Circuit</td></tr><tr><td>77</td><td>jeddah</td><td>Jeddah Street Circuit</td><td>Jeddah</td><td>null</td><td>21.5433</td><td>39.1728</td><td>15</td><td>http://en.wikipedia.org/wiki/Jeddah_Street_Circuit</td></tr></tbody></table></div>"
      ]
     },
     "metadata": {
      "application/vnd.databricks.v1+output": {
       "addedWidgets": {},
       "aggData": [],
       "aggError": "",
       "aggOverflow": false,
       "aggSchema": [],
       "aggSeriesLimitReached": false,
       "aggType": "",
       "arguments": {},
       "columnCustomDisplayInfos": {},
       "data": [
        [
         1,
         "albert_park",
         "Albert Park Grand Prix Circuit",
         "Melbourne",
         null,
         -37.8497,
         144.968,
         10,
         "http://en.wikipedia.org/wiki/Melbourne_Grand_Prix_Circuit"
        ],
        [
         2,
         "sepang",
         "Sepang International Circuit",
         "Kuala Lumpur",
         null,
         2.76083,
         101.738,
         18,
         "http://en.wikipedia.org/wiki/Sepang_International_Circuit"
        ],
        [
         3,
         "bahrain",
         "Bahrain International Circuit",
         "Sakhir",
         null,
         26.0325,
         50.5106,
         7,
         "http://en.wikipedia.org/wiki/Bahrain_International_Circuit"
        ],
        [
         4,
         "catalunya",
         "Circuit de Barcelona-Catalunya",
         "Montmeló",
         null,
         41.57,
         2.26111,
         109,
         "http://en.wikipedia.org/wiki/Circuit_de_Barcelona-Catalunya"
        ],
        [
         5,
         "istanbul",
         "Istanbul Park",
         "Istanbul",
         null,
         40.9517,
         29.405,
         130,
         "http://en.wikipedia.org/wiki/Istanbul_Park"
        ],
        [
         6,
         "monaco",
         "Circuit de Monaco",
         "Monte-Carlo",
         null,
         43.7347,
         7.42056,
         7,
         "http://en.wikipedia.org/wiki/Circuit_de_Monaco"
        ],
        [
         7,
         "villeneuve",
         "Circuit Gilles Villeneuve",
         "Montreal",
         null,
         45.5,
         -73.5228,
         13,
         "http://en.wikipedia.org/wiki/Circuit_Gilles_Villeneuve"
        ],
        [
         8,
         "magny_cours",
         "Circuit de Nevers Magny-Cours",
         "Magny Cours",
         null,
         46.8642,
         3.16361,
         228,
         "http://en.wikipedia.org/wiki/Circuit_de_Nevers_Magny-Cours"
        ],
        [
         9,
         "silverstone",
         "Silverstone Circuit",
         "Silverstone",
         null,
         52.0786,
         -1.01694,
         153,
         "http://en.wikipedia.org/wiki/Silverstone_Circuit"
        ],
        [
         10,
         "hockenheimring",
         "Hockenheimring",
         "Hockenheim",
         null,
         49.3278,
         8.56583,
         103,
         "http://en.wikipedia.org/wiki/Hockenheimring"
        ],
        [
         11,
         "hungaroring",
         "Hungaroring",
         "Budapest",
         null,
         47.5789,
         19.2486,
         264,
         "http://en.wikipedia.org/wiki/Hungaroring"
        ],
        [
         12,
         "valencia",
         "Valencia Street Circuit",
         "Valencia",
         null,
         39.4589,
         -0.331667,
         4,
         "http://en.wikipedia.org/wiki/Valencia_Street_Circuit"
        ],
        [
         13,
         "spa",
         "Circuit de Spa-Francorchamps",
         "Spa",
         null,
         50.4372,
         5.97139,
         401,
         "http://en.wikipedia.org/wiki/Circuit_de_Spa-Francorchamps"
        ],
        [
         14,
         "monza",
         "Autodromo Nazionale di Monza",
         "Monza",
         null,
         45.6156,
         9.28111,
         162,
         "http://en.wikipedia.org/wiki/Autodromo_Nazionale_Monza"
        ],
        [
         15,
         "marina_bay",
         "Marina Bay Street Circuit",
         "Marina Bay",
         null,
         1.2914,
         103.864,
         18,
         "http://en.wikipedia.org/wiki/Marina_Bay_Street_Circuit"
        ],
        [
         16,
         "fuji",
         "Fuji Speedway",
         "Oyama",
         null,
         35.3717,
         138.927,
         583,
         "http://en.wikipedia.org/wiki/Fuji_Speedway"
        ],
        [
         17,
         "shanghai",
         "Shanghai International Circuit",
         "Shanghai",
         null,
         31.3389,
         121.22,
         5,
         "http://en.wikipedia.org/wiki/Shanghai_International_Circuit"
        ],
        [
         18,
         "interlagos",
         "Autódromo José Carlos Pace",
         "São Paulo",
         null,
         -23.7036,
         -46.6997,
         785,
         "http://en.wikipedia.org/wiki/Aut%C3%B3dromo_Jos%C3%A9_Carlos_Pace"
        ],
        [
         19,
         "indianapolis",
         "Indianapolis Motor Speedway",
         "Indianapolis",
         null,
         39.795,
         -86.2347,
         223,
         "http://en.wikipedia.org/wiki/Indianapolis_Motor_Speedway"
        ],
        [
         20,
         "nurburgring",
         "Nürburgring",
         "Nürburg",
         null,
         50.3356,
         6.9475,
         578,
         "http://en.wikipedia.org/wiki/N%C3%BCrburgring"
        ],
        [
         21,
         "imola",
         "Autodromo Enzo e Dino Ferrari",
         "Imola",
         null,
         44.3439,
         11.7167,
         37,
         "http://en.wikipedia.org/wiki/Autodromo_Enzo_e_Dino_Ferrari"
        ],
        [
         22,
         "suzuka",
         "Suzuka Circuit",
         "Suzuka",
         null,
         34.8431,
         136.541,
         45,
         "http://en.wikipedia.org/wiki/Suzuka_Circuit"
        ],
        [
         23,
         "osterreichring",
         "A1-Ring",
         "Spielburg",
         null,
         47.2197,
         14.7647,
         678,
         "http://en.wikipedia.org/wiki/A1-Ring"
        ],
        [
         24,
         "yas_marina",
         "Yas Marina Circuit",
         "Abu Dhabi",
         null,
         24.4672,
         54.6031,
         3,
         "http://en.wikipedia.org/wiki/Yas_Marina_Circuit"
        ],
        [
         25,
         "galvez",
         "Autódromo Juan y Oscar Gálvez",
         "Buenos Aires",
         null,
         -34.6943,
         -58.4593,
         8,
         "http://en.wikipedia.org/wiki/Aut%C3%B3dromo_Oscar_Alfredo_G%C3%A1lvez"
        ],
        [
         26,
         "jerez",
         "Circuito de Jerez",
         "Jerez de la Frontera",
         null,
         36.7083,
         -6.03417,
         37,
         "http://en.wikipedia.org/wiki/Circuito_Permanente_de_Jerez"
        ],
        [
         27,
         "estoril",
         "Autódromo do Estoril",
         "Estoril",
         null,
         38.7506,
         -9.39417,
         130,
         "http://en.wikipedia.org/wiki/Aut%C3%B3dromo_do_Estoril"
        ],
        [
         28,
         "okayama",
         "Okayama International Circuit",
         "Okayama",
         null,
         34.915,
         134.221,
         266,
         "http://en.wikipedia.org/wiki/TI_Circuit"
        ],
        [
         29,
         "adelaide",
         "Adelaide Street Circuit",
         "Adelaide",
         null,
         -34.9272,
         138.617,
         58,
         "http://en.wikipedia.org/wiki/Adelaide_Street_Circuit"
        ],
        [
         30,
         "kyalami",
         "Kyalami",
         "Midrand",
         null,
         -25.9894,
         28.0767,
         1460,
         "http://en.wikipedia.org/wiki/Kyalami"
        ],
        [
         31,
         "donington",
         "Donington Park",
         "Castle Donington",
         null,
         52.8306,
         -1.37528,
         88,
         "http://en.wikipedia.org/wiki/Donington_Park"
        ],
        [
         32,
         "rodriguez",
         "Autódromo Hermanos Rodríguez",
         "Mexico City",
         null,
         19.4042,
         -99.0907,
         2227,
         "http://en.wikipedia.org/wiki/Aut%C3%B3dromo_Hermanos_Rodr%C3%ADguez"
        ],
        [
         33,
         "phoenix",
         "Phoenix street circuit",
         "Phoenix",
         null,
         33.4479,
         -112.075,
         345,
         "http://en.wikipedia.org/wiki/Phoenix_street_circuit"
        ],
        [
         34,
         "ricard",
         "Circuit Paul Ricard",
         "Le Castellet",
         null,
         43.2506,
         5.79167,
         432,
         "http://en.wikipedia.org/wiki/Paul_Ricard_Circuit"
        ],
        [
         35,
         "yeongam",
         "Korean International Circuit",
         "Yeongam County",
         null,
         34.7333,
         126.417,
         0,
         "http://en.wikipedia.org/wiki/Korean_International_Circuit"
        ],
        [
         36,
         "jacarepagua",
         "Autódromo Internacional Nelson Piquet",
         "Rio de Janeiro",
         null,
         -22.9756,
         -43.395,
         1126,
         "http://en.wikipedia.org/wiki/Aut%C3%B3dromo_Internacional_Nelson_Piquet"
        ],
        [
         37,
         "detroit",
         "Detroit Street Circuit",
         "Detroit",
         null,
         42.3298,
         -83.0401,
         177,
         "http://en.wikipedia.org/wiki/Detroit_street_circuit"
        ],
        [
         38,
         "brands_hatch",
         "Brands Hatch",
         "Kent",
         null,
         51.3569,
         0.263056,
         145,
         "http://en.wikipedia.org/wiki/Brands_Hatch"
        ],
        [
         39,
         "zandvoort",
         "Circuit Park Zandvoort",
         "Zandvoort",
         null,
         52.3888,
         4.54092,
         6,
         "http://en.wikipedia.org/wiki/Circuit_Zandvoort"
        ],
        [
         40,
         "zolder",
         "Zolder",
         "Heusden-Zolder",
         null,
         50.9894,
         5.25694,
         36,
         "http://en.wikipedia.org/wiki/Zolder"
        ],
        [
         41,
         "dijon",
         "Dijon-Prenois",
         "Dijon",
         null,
         47.3625,
         4.89913,
         484,
         "http://en.wikipedia.org/wiki/Dijon-Prenois"
        ],
        [
         42,
         "dallas",
         "Fair Park",
         "Dallas",
         null,
         32.7774,
         -96.7587,
         139,
         "http://en.wikipedia.org/wiki/Fair_Park"
        ],
        [
         43,
         "long_beach",
         "Long Beach",
         "California",
         null,
         33.7651,
         -118.189,
         12,
         "http://en.wikipedia.org/wiki/Long_Beach,_California"
        ],
        [
         44,
         "las_vegas",
         "Las Vegas Street Circuit",
         "Nevada",
         null,
         36.1162,
         -115.174,
         639,
         "http://en.wikipedia.org/wiki/Las_Vegas,_Nevada"
        ],
        [
         45,
         "jarama",
         "Jarama",
         "Madrid",
         null,
         40.6171,
         -3.58558,
         609,
         "http://en.wikipedia.org/wiki/Circuito_Permanente_Del_Jarama"
        ],
        [
         46,
         "watkins_glen",
         "Watkins Glen",
         "New York State",
         null,
         42.3369,
         -76.9272,
         485,
         "http://en.wikipedia.org/wiki/Watkins_Glen_International"
        ],
        [
         47,
         "anderstorp",
         "Scandinavian Raceway",
         "Anderstorp",
         null,
         57.2653,
         13.6042,
         153,
         "http://en.wikipedia.org/wiki/Scandinavian_Raceway"
        ],
        [
         48,
         "mosport",
         "Mosport International Raceway",
         "Ontario",
         null,
         44.0481,
         -78.6756,
         332,
         "http://en.wikipedia.org/wiki/Mosport"
        ],
        [
         49,
         "montjuic",
         "Montjuïc",
         "Barcelona",
         null,
         41.3664,
         2.15167,
         79,
         "http://en.wikipedia.org/wiki/Montju%C3%AFc_circuit"
        ],
        [
         50,
         "nivelles",
         "Nivelles-Baulers",
         "Brussels",
         null,
         50.6211,
         4.32694,
         139,
         "http://en.wikipedia.org/wiki/Nivelles-Baulers"
        ],
        [
         51,
         "charade",
         "Charade Circuit",
         "Clermont-Ferrand",
         null,
         45.7472,
         3.03889,
         790,
         "http://en.wikipedia.org/wiki/Charade_Circuit"
        ],
        [
         52,
         "tremblant",
         "Circuit Mont-Tremblant",
         "Quebec",
         null,
         46.1877,
         -74.6099,
         214,
         "http://en.wikipedia.org/wiki/Circuit_Mont-Tremblant"
        ],
        [
         53,
         "essarts",
         "Rouen-Les-Essarts",
         "Rouen",
         null,
         49.3306,
         1.00458,
         81,
         "http://en.wikipedia.org/wiki/Rouen-Les-Essarts"
        ],
        [
         54,
         "lemans",
         "Le Mans",
         "Le Mans",
         null,
         47.95,
         0.224231,
         67,
         "http://en.wikipedia.org/wiki/Circuit_de_la_Sarthe#Bugatti_Circuit"
        ],
        [
         55,
         "reims",
         "Reims-Gueux",
         "Reims",
         null,
         49.2542,
         3.93083,
         88,
         "http://en.wikipedia.org/wiki/Reims-Gueux"
        ],
        [
         56,
         "george",
         "Prince George Circuit",
         "Eastern Cape Province",
         null,
         -33.0486,
         27.8736,
         15,
         "http://en.wikipedia.org/wiki/Prince_George_Circuit"
        ],
        [
         57,
         "zeltweg",
         "Zeltweg",
         "Styria",
         null,
         47.2039,
         14.7478,
         676,
         "http://en.wikipedia.org/wiki/Zeltweg_Airfield"
        ],
        [
         58,
         "aintree",
         "Aintree",
         "Liverpool",
         null,
         53.4769,
         -2.94056,
         20,
         "http://en.wikipedia.org/wiki/Aintree_Motor_Racing_Circuit"
        ],
        [
         59,
         "boavista",
         "Circuito da Boavista",
         "Oporto",
         null,
         41.1705,
         -8.67325,
         28,
         "http://en.wikipedia.org/wiki/Circuito_da_Boavista"
        ],
        [
         60,
         "riverside",
         "Riverside International Raceway",
         "California",
         null,
         33.937,
         -117.273,
         470,
         "http://en.wikipedia.org/wiki/Riverside_International_Raceway"
        ],
        [
         61,
         "avus",
         "AVUS",
         "Berlin",
         null,
         52.4806,
         13.2514,
         53,
         "http://en.wikipedia.org/wiki/AVUS"
        ],
        [
         62,
         "monsanto",
         "Monsanto Park Circuit",
         "Lisbon",
         null,
         38.7197,
         -9.20306,
         158,
         "http://en.wikipedia.org/wiki/Monsanto_Park_Circuit"
        ],
        [
         63,
         "sebring",
         "Sebring International Raceway",
         "Florida",
         null,
         27.4547,
         -81.3483,
         18,
         "http://en.wikipedia.org/wiki/Sebring_Raceway"
        ],
        [
         64,
         "ain-diab",
         "Ain Diab",
         "Casablanca",
         null,
         33.5786,
         -7.6875,
         19,
         "http://en.wikipedia.org/wiki/Ain-Diab_Circuit"
        ],
        [
         65,
         "pescara",
         "Pescara Circuit",
         "Pescara",
         null,
         42.475,
         14.1508,
         129,
         "http://en.wikipedia.org/wiki/Pescara_Circuit"
        ],
        [
         66,
         "bremgarten",
         "Circuit Bremgarten",
         "Bern",
         null,
         46.9589,
         7.40194,
         551,
         "http://en.wikipedia.org/wiki/Circuit_Bremgarten"
        ],
        [
         67,
         "pedralbes",
         "Circuit de Pedralbes",
         "Barcelona",
         null,
         41.3903,
         2.11667,
         85,
         "http://en.wikipedia.org/wiki/Pedralbes_Circuit"
        ],
        [
         68,
         "buddh",
         "Buddh International Circuit",
         "Uttar Pradesh",
         null,
         28.3487,
         77.5331,
         194,
         "http://en.wikipedia.org/wiki/Buddh_International_Circuit"
        ],
        [
         69,
         "americas",
         "Circuit of the Americas",
         "Austin",
         null,
         30.1328,
         -97.6411,
         161,
         "http://en.wikipedia.org/wiki/Circuit_of_the_Americas"
        ],
        [
         70,
         "red_bull_ring",
         "Red Bull Ring",
         "Spielburg",
         null,
         47.2197,
         14.7647,
         678,
         "http://en.wikipedia.org/wiki/Red_Bull_Ring"
        ],
        [
         71,
         "sochi",
         "Sochi Autodrom",
         "Sochi",
         null,
         43.4057,
         39.9578,
         2,
         "http://en.wikipedia.org/wiki/Sochi_Autodrom"
        ],
        [
         72,
         "port_imperial",
         "Port Imperial Street Circuit",
         "New Jersey",
         null,
         40.7769,
         -74.0111,
         4,
         "http://en.wikipedia.org/wiki/Port_Imperial_Street_Circuit"
        ],
        [
         73,
         "BAK",
         "Baku City Circuit",
         "Baku",
         null,
         40.3725,
         49.8533,
         -7,
         "http://en.wikipedia.org/wiki/Baku_City_Circuit"
        ],
        [
         74,
         "hanoi",
         "Hanoi Street Circuit",
         "Hanoi",
         null,
         21.0166,
         105.766,
         9,
         "http://en.wikipedia.org/wiki/Hanoi_Street_Circuit"
        ],
        [
         75,
         "portimao",
         "Autódromo Internacional do Algarve",
         "Portimão",
         null,
         37.227,
         -8.6267,
         108,
         "http://en.wikipedia.org/wiki/Algarve_International_Circuit"
        ],
        [
         76,
         "mugello",
         "Autodromo Internazionale del Mugello",
         "Mugello",
         null,
         43.9975,
         11.3719,
         255,
         "http://en.wikipedia.org/wiki/Mugello_Circuit"
        ],
        [
         77,
         "jeddah",
         "Jeddah Street Circuit",
         "Jeddah",
         null,
         21.5433,
         39.1728,
         15,
         "http://en.wikipedia.org/wiki/Jeddah_Street_Circuit"
        ]
       ],
       "datasetInfos": [],
       "dbfsResultPath": null,
       "isJsonSchema": true,
       "metadata": {},
       "overflow": false,
       "plotOptions": {
        "customPlotOptions": {},
        "displayType": "table",
        "pivotAggregation": null,
        "pivotColumns": null,
        "xColumns": null,
        "yColumns": null
       },
       "removedWidgets": [],
       "schema": [
        {
         "metadata": "{}",
         "name": "circuitId",
         "type": "\"integer\""
        },
        {
         "metadata": "{}",
         "name": "circuitRef",
         "type": "\"string\""
        },
        {
         "metadata": "{}",
         "name": "name",
         "type": "\"string\""
        },
        {
         "metadata": "{}",
         "name": "location",
         "type": "\"string\""
        },
        {
         "metadata": "{}",
         "name": "country",
         "type": "\"integer\""
        },
        {
         "metadata": "{}",
         "name": "lat",
         "type": "\"double\""
        },
        {
         "metadata": "{}",
         "name": "lng",
         "type": "\"double\""
        },
        {
         "metadata": "{}",
         "name": "alt",
         "type": "\"integer\""
        },
        {
         "metadata": "{}",
         "name": "url",
         "type": "\"string\""
        }
       ],
       "type": "table"
      }
     },
     "output_type": "display_data"
    }
   ],
   "source": [
    "display(circuits_df)"
   ]
  },
  {
   "cell_type": "code",
   "execution_count": 0,
   "metadata": {
    "application/vnd.databricks.v1+cell": {
     "cellMetadata": {
      "byteLimit": 2048000,
      "rowLimit": 10000
     },
     "inputWidgets": {},
     "nuid": "57199073-8ee7-410b-82cb-04e2487bc5ae",
     "showTitle": false,
     "title": ""
    }
   },
   "outputs": [],
   "source": [
    "#Select only the required columns #type1\n",
    "circuits_selected_df=circuits_df.select(\"circuitid\",\"name\",\"location\",\"country\",\"lat\",\"lng\",\"alt\")"
   ]
  },
  {
   "cell_type": "code",
   "execution_count": 0,
   "metadata": {
    "application/vnd.databricks.v1+cell": {
     "cellMetadata": {
      "byteLimit": 2048000,
      "rowLimit": 10000
     },
     "inputWidgets": {},
     "nuid": "8fb1e9b1-210b-423f-87f2-ae73bd53f09a",
     "showTitle": false,
     "title": ""
    }
   },
   "outputs": [
    {
     "output_type": "display_data",
     "data": {
      "text/html": [
       "<style scoped>\n",
       "  .table-result-container {\n",
       "    max-height: 300px;\n",
       "    overflow: auto;\n",
       "  }\n",
       "  table, th, td {\n",
       "    border: 1px solid black;\n",
       "    border-collapse: collapse;\n",
       "  }\n",
       "  th, td {\n",
       "    padding: 5px;\n",
       "  }\n",
       "  th {\n",
       "    text-align: left;\n",
       "  }\n",
       "</style><div class='table-result-container'><table class='table-result'><thead style='background-color: white'><tr><th>circuitid</th><th>name</th><th>location</th><th>country</th><th>lat</th><th>lng</th><th>alt</th></tr></thead><tbody><tr><td>1</td><td>Albert Park Grand Prix Circuit</td><td>Melbourne</td><td>null</td><td>-37.8497</td><td>144.968</td><td>10</td></tr><tr><td>2</td><td>Sepang International Circuit</td><td>Kuala Lumpur</td><td>null</td><td>2.76083</td><td>101.738</td><td>18</td></tr><tr><td>3</td><td>Bahrain International Circuit</td><td>Sakhir</td><td>null</td><td>26.0325</td><td>50.5106</td><td>7</td></tr><tr><td>4</td><td>Circuit de Barcelona-Catalunya</td><td>Montmeló</td><td>null</td><td>41.57</td><td>2.26111</td><td>109</td></tr><tr><td>5</td><td>Istanbul Park</td><td>Istanbul</td><td>null</td><td>40.9517</td><td>29.405</td><td>130</td></tr><tr><td>6</td><td>Circuit de Monaco</td><td>Monte-Carlo</td><td>null</td><td>43.7347</td><td>7.42056</td><td>7</td></tr><tr><td>7</td><td>Circuit Gilles Villeneuve</td><td>Montreal</td><td>null</td><td>45.5</td><td>-73.5228</td><td>13</td></tr><tr><td>8</td><td>Circuit de Nevers Magny-Cours</td><td>Magny Cours</td><td>null</td><td>46.8642</td><td>3.16361</td><td>228</td></tr><tr><td>9</td><td>Silverstone Circuit</td><td>Silverstone</td><td>null</td><td>52.0786</td><td>-1.01694</td><td>153</td></tr><tr><td>10</td><td>Hockenheimring</td><td>Hockenheim</td><td>null</td><td>49.3278</td><td>8.56583</td><td>103</td></tr><tr><td>11</td><td>Hungaroring</td><td>Budapest</td><td>null</td><td>47.5789</td><td>19.2486</td><td>264</td></tr><tr><td>12</td><td>Valencia Street Circuit</td><td>Valencia</td><td>null</td><td>39.4589</td><td>-0.331667</td><td>4</td></tr><tr><td>13</td><td>Circuit de Spa-Francorchamps</td><td>Spa</td><td>null</td><td>50.4372</td><td>5.97139</td><td>401</td></tr><tr><td>14</td><td>Autodromo Nazionale di Monza</td><td>Monza</td><td>null</td><td>45.6156</td><td>9.28111</td><td>162</td></tr><tr><td>15</td><td>Marina Bay Street Circuit</td><td>Marina Bay</td><td>null</td><td>1.2914</td><td>103.864</td><td>18</td></tr><tr><td>16</td><td>Fuji Speedway</td><td>Oyama</td><td>null</td><td>35.3717</td><td>138.927</td><td>583</td></tr><tr><td>17</td><td>Shanghai International Circuit</td><td>Shanghai</td><td>null</td><td>31.3389</td><td>121.22</td><td>5</td></tr><tr><td>18</td><td>Autódromo José Carlos Pace</td><td>São Paulo</td><td>null</td><td>-23.7036</td><td>-46.6997</td><td>785</td></tr><tr><td>19</td><td>Indianapolis Motor Speedway</td><td>Indianapolis</td><td>null</td><td>39.795</td><td>-86.2347</td><td>223</td></tr><tr><td>20</td><td>Nürburgring</td><td>Nürburg</td><td>null</td><td>50.3356</td><td>6.9475</td><td>578</td></tr><tr><td>21</td><td>Autodromo Enzo e Dino Ferrari</td><td>Imola</td><td>null</td><td>44.3439</td><td>11.7167</td><td>37</td></tr><tr><td>22</td><td>Suzuka Circuit</td><td>Suzuka</td><td>null</td><td>34.8431</td><td>136.541</td><td>45</td></tr><tr><td>23</td><td>A1-Ring</td><td>Spielburg</td><td>null</td><td>47.2197</td><td>14.7647</td><td>678</td></tr><tr><td>24</td><td>Yas Marina Circuit</td><td>Abu Dhabi</td><td>null</td><td>24.4672</td><td>54.6031</td><td>3</td></tr><tr><td>25</td><td>Autódromo Juan y Oscar Gálvez</td><td>Buenos Aires</td><td>null</td><td>-34.6943</td><td>-58.4593</td><td>8</td></tr><tr><td>26</td><td>Circuito de Jerez</td><td>Jerez de la Frontera</td><td>null</td><td>36.7083</td><td>-6.03417</td><td>37</td></tr><tr><td>27</td><td>Autódromo do Estoril</td><td>Estoril</td><td>null</td><td>38.7506</td><td>-9.39417</td><td>130</td></tr><tr><td>28</td><td>Okayama International Circuit</td><td>Okayama</td><td>null</td><td>34.915</td><td>134.221</td><td>266</td></tr><tr><td>29</td><td>Adelaide Street Circuit</td><td>Adelaide</td><td>null</td><td>-34.9272</td><td>138.617</td><td>58</td></tr><tr><td>30</td><td>Kyalami</td><td>Midrand</td><td>null</td><td>-25.9894</td><td>28.0767</td><td>1460</td></tr><tr><td>31</td><td>Donington Park</td><td>Castle Donington</td><td>null</td><td>52.8306</td><td>-1.37528</td><td>88</td></tr><tr><td>32</td><td>Autódromo Hermanos Rodríguez</td><td>Mexico City</td><td>null</td><td>19.4042</td><td>-99.0907</td><td>2227</td></tr><tr><td>33</td><td>Phoenix street circuit</td><td>Phoenix</td><td>null</td><td>33.4479</td><td>-112.075</td><td>345</td></tr><tr><td>34</td><td>Circuit Paul Ricard</td><td>Le Castellet</td><td>null</td><td>43.2506</td><td>5.79167</td><td>432</td></tr><tr><td>35</td><td>Korean International Circuit</td><td>Yeongam County</td><td>null</td><td>34.7333</td><td>126.417</td><td>0</td></tr><tr><td>36</td><td>Autódromo Internacional Nelson Piquet</td><td>Rio de Janeiro</td><td>null</td><td>-22.9756</td><td>-43.395</td><td>1126</td></tr><tr><td>37</td><td>Detroit Street Circuit</td><td>Detroit</td><td>null</td><td>42.3298</td><td>-83.0401</td><td>177</td></tr><tr><td>38</td><td>Brands Hatch</td><td>Kent</td><td>null</td><td>51.3569</td><td>0.263056</td><td>145</td></tr><tr><td>39</td><td>Circuit Park Zandvoort</td><td>Zandvoort</td><td>null</td><td>52.3888</td><td>4.54092</td><td>6</td></tr><tr><td>40</td><td>Zolder</td><td>Heusden-Zolder</td><td>null</td><td>50.9894</td><td>5.25694</td><td>36</td></tr><tr><td>41</td><td>Dijon-Prenois</td><td>Dijon</td><td>null</td><td>47.3625</td><td>4.89913</td><td>484</td></tr><tr><td>42</td><td>Fair Park</td><td>Dallas</td><td>null</td><td>32.7774</td><td>-96.7587</td><td>139</td></tr><tr><td>43</td><td>Long Beach</td><td>California</td><td>null</td><td>33.7651</td><td>-118.189</td><td>12</td></tr><tr><td>44</td><td>Las Vegas Street Circuit</td><td>Nevada</td><td>null</td><td>36.1162</td><td>-115.174</td><td>639</td></tr><tr><td>45</td><td>Jarama</td><td>Madrid</td><td>null</td><td>40.6171</td><td>-3.58558</td><td>609</td></tr><tr><td>46</td><td>Watkins Glen</td><td>New York State</td><td>null</td><td>42.3369</td><td>-76.9272</td><td>485</td></tr><tr><td>47</td><td>Scandinavian Raceway</td><td>Anderstorp</td><td>null</td><td>57.2653</td><td>13.6042</td><td>153</td></tr><tr><td>48</td><td>Mosport International Raceway</td><td>Ontario</td><td>null</td><td>44.0481</td><td>-78.6756</td><td>332</td></tr><tr><td>49</td><td>Montjuïc</td><td>Barcelona</td><td>null</td><td>41.3664</td><td>2.15167</td><td>79</td></tr><tr><td>50</td><td>Nivelles-Baulers</td><td>Brussels</td><td>null</td><td>50.6211</td><td>4.32694</td><td>139</td></tr><tr><td>51</td><td>Charade Circuit</td><td>Clermont-Ferrand</td><td>null</td><td>45.7472</td><td>3.03889</td><td>790</td></tr><tr><td>52</td><td>Circuit Mont-Tremblant</td><td>Quebec</td><td>null</td><td>46.1877</td><td>-74.6099</td><td>214</td></tr><tr><td>53</td><td>Rouen-Les-Essarts</td><td>Rouen</td><td>null</td><td>49.3306</td><td>1.00458</td><td>81</td></tr><tr><td>54</td><td>Le Mans</td><td>Le Mans</td><td>null</td><td>47.95</td><td>0.224231</td><td>67</td></tr><tr><td>55</td><td>Reims-Gueux</td><td>Reims</td><td>null</td><td>49.2542</td><td>3.93083</td><td>88</td></tr><tr><td>56</td><td>Prince George Circuit</td><td>Eastern Cape Province</td><td>null</td><td>-33.0486</td><td>27.8736</td><td>15</td></tr><tr><td>57</td><td>Zeltweg</td><td>Styria</td><td>null</td><td>47.2039</td><td>14.7478</td><td>676</td></tr><tr><td>58</td><td>Aintree</td><td>Liverpool</td><td>null</td><td>53.4769</td><td>-2.94056</td><td>20</td></tr><tr><td>59</td><td>Circuito da Boavista</td><td>Oporto</td><td>null</td><td>41.1705</td><td>-8.67325</td><td>28</td></tr><tr><td>60</td><td>Riverside International Raceway</td><td>California</td><td>null</td><td>33.937</td><td>-117.273</td><td>470</td></tr><tr><td>61</td><td>AVUS</td><td>Berlin</td><td>null</td><td>52.4806</td><td>13.2514</td><td>53</td></tr><tr><td>62</td><td>Monsanto Park Circuit</td><td>Lisbon</td><td>null</td><td>38.7197</td><td>-9.20306</td><td>158</td></tr><tr><td>63</td><td>Sebring International Raceway</td><td>Florida</td><td>null</td><td>27.4547</td><td>-81.3483</td><td>18</td></tr><tr><td>64</td><td>Ain Diab</td><td>Casablanca</td><td>null</td><td>33.5786</td><td>-7.6875</td><td>19</td></tr><tr><td>65</td><td>Pescara Circuit</td><td>Pescara</td><td>null</td><td>42.475</td><td>14.1508</td><td>129</td></tr><tr><td>66</td><td>Circuit Bremgarten</td><td>Bern</td><td>null</td><td>46.9589</td><td>7.40194</td><td>551</td></tr><tr><td>67</td><td>Circuit de Pedralbes</td><td>Barcelona</td><td>null</td><td>41.3903</td><td>2.11667</td><td>85</td></tr><tr><td>68</td><td>Buddh International Circuit</td><td>Uttar Pradesh</td><td>null</td><td>28.3487</td><td>77.5331</td><td>194</td></tr><tr><td>69</td><td>Circuit of the Americas</td><td>Austin</td><td>null</td><td>30.1328</td><td>-97.6411</td><td>161</td></tr><tr><td>70</td><td>Red Bull Ring</td><td>Spielburg</td><td>null</td><td>47.2197</td><td>14.7647</td><td>678</td></tr><tr><td>71</td><td>Sochi Autodrom</td><td>Sochi</td><td>null</td><td>43.4057</td><td>39.9578</td><td>2</td></tr><tr><td>72</td><td>Port Imperial Street Circuit</td><td>New Jersey</td><td>null</td><td>40.7769</td><td>-74.0111</td><td>4</td></tr><tr><td>73</td><td>Baku City Circuit</td><td>Baku</td><td>null</td><td>40.3725</td><td>49.8533</td><td>-7</td></tr><tr><td>74</td><td>Hanoi Street Circuit</td><td>Hanoi</td><td>null</td><td>21.0166</td><td>105.766</td><td>9</td></tr><tr><td>75</td><td>Autódromo Internacional do Algarve</td><td>Portimão</td><td>null</td><td>37.227</td><td>-8.6267</td><td>108</td></tr><tr><td>76</td><td>Autodromo Internazionale del Mugello</td><td>Mugello</td><td>null</td><td>43.9975</td><td>11.3719</td><td>255</td></tr><tr><td>77</td><td>Jeddah Street Circuit</td><td>Jeddah</td><td>null</td><td>21.5433</td><td>39.1728</td><td>15</td></tr></tbody></table></div>"
      ]
     },
     "metadata": {
      "application/vnd.databricks.v1+output": {
       "addedWidgets": {},
       "aggData": [],
       "aggError": "",
       "aggOverflow": false,
       "aggSchema": [],
       "aggSeriesLimitReached": false,
       "aggType": "",
       "arguments": {},
       "columnCustomDisplayInfos": {},
       "data": [
        [
         1,
         "Albert Park Grand Prix Circuit",
         "Melbourne",
         null,
         -37.8497,
         144.968,
         10
        ],
        [
         2,
         "Sepang International Circuit",
         "Kuala Lumpur",
         null,
         2.76083,
         101.738,
         18
        ],
        [
         3,
         "Bahrain International Circuit",
         "Sakhir",
         null,
         26.0325,
         50.5106,
         7
        ],
        [
         4,
         "Circuit de Barcelona-Catalunya",
         "Montmeló",
         null,
         41.57,
         2.26111,
         109
        ],
        [
         5,
         "Istanbul Park",
         "Istanbul",
         null,
         40.9517,
         29.405,
         130
        ],
        [
         6,
         "Circuit de Monaco",
         "Monte-Carlo",
         null,
         43.7347,
         7.42056,
         7
        ],
        [
         7,
         "Circuit Gilles Villeneuve",
         "Montreal",
         null,
         45.5,
         -73.5228,
         13
        ],
        [
         8,
         "Circuit de Nevers Magny-Cours",
         "Magny Cours",
         null,
         46.8642,
         3.16361,
         228
        ],
        [
         9,
         "Silverstone Circuit",
         "Silverstone",
         null,
         52.0786,
         -1.01694,
         153
        ],
        [
         10,
         "Hockenheimring",
         "Hockenheim",
         null,
         49.3278,
         8.56583,
         103
        ],
        [
         11,
         "Hungaroring",
         "Budapest",
         null,
         47.5789,
         19.2486,
         264
        ],
        [
         12,
         "Valencia Street Circuit",
         "Valencia",
         null,
         39.4589,
         -0.331667,
         4
        ],
        [
         13,
         "Circuit de Spa-Francorchamps",
         "Spa",
         null,
         50.4372,
         5.97139,
         401
        ],
        [
         14,
         "Autodromo Nazionale di Monza",
         "Monza",
         null,
         45.6156,
         9.28111,
         162
        ],
        [
         15,
         "Marina Bay Street Circuit",
         "Marina Bay",
         null,
         1.2914,
         103.864,
         18
        ],
        [
         16,
         "Fuji Speedway",
         "Oyama",
         null,
         35.3717,
         138.927,
         583
        ],
        [
         17,
         "Shanghai International Circuit",
         "Shanghai",
         null,
         31.3389,
         121.22,
         5
        ],
        [
         18,
         "Autódromo José Carlos Pace",
         "São Paulo",
         null,
         -23.7036,
         -46.6997,
         785
        ],
        [
         19,
         "Indianapolis Motor Speedway",
         "Indianapolis",
         null,
         39.795,
         -86.2347,
         223
        ],
        [
         20,
         "Nürburgring",
         "Nürburg",
         null,
         50.3356,
         6.9475,
         578
        ],
        [
         21,
         "Autodromo Enzo e Dino Ferrari",
         "Imola",
         null,
         44.3439,
         11.7167,
         37
        ],
        [
         22,
         "Suzuka Circuit",
         "Suzuka",
         null,
         34.8431,
         136.541,
         45
        ],
        [
         23,
         "A1-Ring",
         "Spielburg",
         null,
         47.2197,
         14.7647,
         678
        ],
        [
         24,
         "Yas Marina Circuit",
         "Abu Dhabi",
         null,
         24.4672,
         54.6031,
         3
        ],
        [
         25,
         "Autódromo Juan y Oscar Gálvez",
         "Buenos Aires",
         null,
         -34.6943,
         -58.4593,
         8
        ],
        [
         26,
         "Circuito de Jerez",
         "Jerez de la Frontera",
         null,
         36.7083,
         -6.03417,
         37
        ],
        [
         27,
         "Autódromo do Estoril",
         "Estoril",
         null,
         38.7506,
         -9.39417,
         130
        ],
        [
         28,
         "Okayama International Circuit",
         "Okayama",
         null,
         34.915,
         134.221,
         266
        ],
        [
         29,
         "Adelaide Street Circuit",
         "Adelaide",
         null,
         -34.9272,
         138.617,
         58
        ],
        [
         30,
         "Kyalami",
         "Midrand",
         null,
         -25.9894,
         28.0767,
         1460
        ],
        [
         31,
         "Donington Park",
         "Castle Donington",
         null,
         52.8306,
         -1.37528,
         88
        ],
        [
         32,
         "Autódromo Hermanos Rodríguez",
         "Mexico City",
         null,
         19.4042,
         -99.0907,
         2227
        ],
        [
         33,
         "Phoenix street circuit",
         "Phoenix",
         null,
         33.4479,
         -112.075,
         345
        ],
        [
         34,
         "Circuit Paul Ricard",
         "Le Castellet",
         null,
         43.2506,
         5.79167,
         432
        ],
        [
         35,
         "Korean International Circuit",
         "Yeongam County",
         null,
         34.7333,
         126.417,
         0
        ],
        [
         36,
         "Autódromo Internacional Nelson Piquet",
         "Rio de Janeiro",
         null,
         -22.9756,
         -43.395,
         1126
        ],
        [
         37,
         "Detroit Street Circuit",
         "Detroit",
         null,
         42.3298,
         -83.0401,
         177
        ],
        [
         38,
         "Brands Hatch",
         "Kent",
         null,
         51.3569,
         0.263056,
         145
        ],
        [
         39,
         "Circuit Park Zandvoort",
         "Zandvoort",
         null,
         52.3888,
         4.54092,
         6
        ],
        [
         40,
         "Zolder",
         "Heusden-Zolder",
         null,
         50.9894,
         5.25694,
         36
        ],
        [
         41,
         "Dijon-Prenois",
         "Dijon",
         null,
         47.3625,
         4.89913,
         484
        ],
        [
         42,
         "Fair Park",
         "Dallas",
         null,
         32.7774,
         -96.7587,
         139
        ],
        [
         43,
         "Long Beach",
         "California",
         null,
         33.7651,
         -118.189,
         12
        ],
        [
         44,
         "Las Vegas Street Circuit",
         "Nevada",
         null,
         36.1162,
         -115.174,
         639
        ],
        [
         45,
         "Jarama",
         "Madrid",
         null,
         40.6171,
         -3.58558,
         609
        ],
        [
         46,
         "Watkins Glen",
         "New York State",
         null,
         42.3369,
         -76.9272,
         485
        ],
        [
         47,
         "Scandinavian Raceway",
         "Anderstorp",
         null,
         57.2653,
         13.6042,
         153
        ],
        [
         48,
         "Mosport International Raceway",
         "Ontario",
         null,
         44.0481,
         -78.6756,
         332
        ],
        [
         49,
         "Montjuïc",
         "Barcelona",
         null,
         41.3664,
         2.15167,
         79
        ],
        [
         50,
         "Nivelles-Baulers",
         "Brussels",
         null,
         50.6211,
         4.32694,
         139
        ],
        [
         51,
         "Charade Circuit",
         "Clermont-Ferrand",
         null,
         45.7472,
         3.03889,
         790
        ],
        [
         52,
         "Circuit Mont-Tremblant",
         "Quebec",
         null,
         46.1877,
         -74.6099,
         214
        ],
        [
         53,
         "Rouen-Les-Essarts",
         "Rouen",
         null,
         49.3306,
         1.00458,
         81
        ],
        [
         54,
         "Le Mans",
         "Le Mans",
         null,
         47.95,
         0.224231,
         67
        ],
        [
         55,
         "Reims-Gueux",
         "Reims",
         null,
         49.2542,
         3.93083,
         88
        ],
        [
         56,
         "Prince George Circuit",
         "Eastern Cape Province",
         null,
         -33.0486,
         27.8736,
         15
        ],
        [
         57,
         "Zeltweg",
         "Styria",
         null,
         47.2039,
         14.7478,
         676
        ],
        [
         58,
         "Aintree",
         "Liverpool",
         null,
         53.4769,
         -2.94056,
         20
        ],
        [
         59,
         "Circuito da Boavista",
         "Oporto",
         null,
         41.1705,
         -8.67325,
         28
        ],
        [
         60,
         "Riverside International Raceway",
         "California",
         null,
         33.937,
         -117.273,
         470
        ],
        [
         61,
         "AVUS",
         "Berlin",
         null,
         52.4806,
         13.2514,
         53
        ],
        [
         62,
         "Monsanto Park Circuit",
         "Lisbon",
         null,
         38.7197,
         -9.20306,
         158
        ],
        [
         63,
         "Sebring International Raceway",
         "Florida",
         null,
         27.4547,
         -81.3483,
         18
        ],
        [
         64,
         "Ain Diab",
         "Casablanca",
         null,
         33.5786,
         -7.6875,
         19
        ],
        [
         65,
         "Pescara Circuit",
         "Pescara",
         null,
         42.475,
         14.1508,
         129
        ],
        [
         66,
         "Circuit Bremgarten",
         "Bern",
         null,
         46.9589,
         7.40194,
         551
        ],
        [
         67,
         "Circuit de Pedralbes",
         "Barcelona",
         null,
         41.3903,
         2.11667,
         85
        ],
        [
         68,
         "Buddh International Circuit",
         "Uttar Pradesh",
         null,
         28.3487,
         77.5331,
         194
        ],
        [
         69,
         "Circuit of the Americas",
         "Austin",
         null,
         30.1328,
         -97.6411,
         161
        ],
        [
         70,
         "Red Bull Ring",
         "Spielburg",
         null,
         47.2197,
         14.7647,
         678
        ],
        [
         71,
         "Sochi Autodrom",
         "Sochi",
         null,
         43.4057,
         39.9578,
         2
        ],
        [
         72,
         "Port Imperial Street Circuit",
         "New Jersey",
         null,
         40.7769,
         -74.0111,
         4
        ],
        [
         73,
         "Baku City Circuit",
         "Baku",
         null,
         40.3725,
         49.8533,
         -7
        ],
        [
         74,
         "Hanoi Street Circuit",
         "Hanoi",
         null,
         21.0166,
         105.766,
         9
        ],
        [
         75,
         "Autódromo Internacional do Algarve",
         "Portimão",
         null,
         37.227,
         -8.6267,
         108
        ],
        [
         76,
         "Autodromo Internazionale del Mugello",
         "Mugello",
         null,
         43.9975,
         11.3719,
         255
        ],
        [
         77,
         "Jeddah Street Circuit",
         "Jeddah",
         null,
         21.5433,
         39.1728,
         15
        ]
       ],
       "datasetInfos": [],
       "dbfsResultPath": null,
       "isJsonSchema": true,
       "metadata": {},
       "overflow": false,
       "plotOptions": {
        "customPlotOptions": {},
        "displayType": "table",
        "pivotAggregation": null,
        "pivotColumns": null,
        "xColumns": null,
        "yColumns": null
       },
       "removedWidgets": [],
       "schema": [
        {
         "metadata": "{}",
         "name": "circuitid",
         "type": "\"integer\""
        },
        {
         "metadata": "{}",
         "name": "name",
         "type": "\"string\""
        },
        {
         "metadata": "{}",
         "name": "location",
         "type": "\"string\""
        },
        {
         "metadata": "{}",
         "name": "country",
         "type": "\"integer\""
        },
        {
         "metadata": "{}",
         "name": "lat",
         "type": "\"double\""
        },
        {
         "metadata": "{}",
         "name": "lng",
         "type": "\"double\""
        },
        {
         "metadata": "{}",
         "name": "alt",
         "type": "\"integer\""
        }
       ],
       "type": "table"
      }
     },
     "output_type": "display_data"
    }
   ],
   "source": [
    "circuits_selected_df.display()"
   ]
  },
  {
   "cell_type": "code",
   "execution_count": 0,
   "metadata": {
    "application/vnd.databricks.v1+cell": {
     "cellMetadata": {
      "byteLimit": 2048000,
      "rowLimit": 10000
     },
     "inputWidgets": {},
     "nuid": "f84acb83-4270-444c-9fdf-7512b5f0f7a5",
     "showTitle": false,
     "title": ""
    }
   },
   "outputs": [],
   "source": [
    "#Select only the required columns #type2\n",
    "\n",
    "circuits_selected_df=circuits_df.select(circuits_df.circuitId,circuits_df.name)"
   ]
  },
  {
   "cell_type": "code",
   "execution_count": 0,
   "metadata": {
    "application/vnd.databricks.v1+cell": {
     "cellMetadata": {
      "byteLimit": 2048000,
      "rowLimit": 10000
     },
     "inputWidgets": {},
     "nuid": "6468cfba-90b6-4ca2-b354-15842a000a26",
     "showTitle": false,
     "title": ""
    }
   },
   "outputs": [],
   "source": [
    "from pyspark.sql.functions import col"
   ]
  },
  {
   "cell_type": "code",
   "execution_count": 0,
   "metadata": {
    "application/vnd.databricks.v1+cell": {
     "cellMetadata": {
      "byteLimit": 2048000,
      "rowLimit": 10000
     },
     "inputWidgets": {},
     "nuid": "6e9f51a2-ffac-4cd4-aa90-72db20a72a65",
     "showTitle": false,
     "title": ""
    }
   },
   "outputs": [],
   "source": [
    "#Select only the required columns #type3\n",
    "circuits_selected_df=circuits_df.select(col(\"circuitId\"),col(\"name\").alias(\"fisrt_name\"))"
   ]
  },
  {
   "cell_type": "code",
   "execution_count": 0,
   "metadata": {
    "application/vnd.databricks.v1+cell": {
     "cellMetadata": {
      "byteLimit": 2048000,
      "rowLimit": 10000
     },
     "inputWidgets": {},
     "nuid": "fa9fce91-d8e2-4dac-bc1b-f7dd83ccd58a",
     "showTitle": false,
     "title": ""
    }
   },
   "outputs": [
    {
     "output_type": "stream",
     "name": "stdout",
     "output_type": "stream",
     "text": [
      "+---------+--------------------+\n|circuitId|          fisrt_name|\n+---------+--------------------+\n|        1|Albert Park Grand...|\n|        2|Sepang Internatio...|\n|        3|Bahrain Internati...|\n|        4|Circuit de Barcel...|\n|        5|       Istanbul Park|\n|        6|   Circuit de Monaco|\n|        7|Circuit Gilles Vi...|\n|        8|Circuit de Nevers...|\n|        9| Silverstone Circuit|\n|       10|      Hockenheimring|\n|       11|         Hungaroring|\n|       12|Valencia Street C...|\n|       13|Circuit de Spa-Fr...|\n|       14|Autodromo Naziona...|\n|       15|Marina Bay Street...|\n|       16|       Fuji Speedway|\n|       17|Shanghai Internat...|\n|       18|Autódromo José Ca...|\n|       19|Indianapolis Moto...|\n|       20|         Nürburgring|\n+---------+--------------------+\nonly showing top 20 rows\n\n"
     ]
    }
   ],
   "source": [
    "circuits_selected_df.show()"
   ]
  },
  {
   "cell_type": "code",
   "execution_count": 0,
   "metadata": {
    "application/vnd.databricks.v1+cell": {
     "cellMetadata": {
      "byteLimit": 2048000,
      "rowLimit": 10000
     },
     "inputWidgets": {},
     "nuid": "d2565053-c193-4293-92ae-5cf4099caca6",
     "showTitle": false,
     "title": ""
    }
   },
   "outputs": [],
   "source": [
    "#rename the column\n",
    "circuits_renamed_df=circuits_df.withColumnRenamed(\"circuitid\",\"circuit_id\").withColumnRenamed(\"lat\",\"latitude\")"
   ]
  },
  {
   "cell_type": "code",
   "execution_count": 0,
   "metadata": {
    "application/vnd.databricks.v1+cell": {
     "cellMetadata": {
      "byteLimit": 2048000,
      "rowLimit": 10000
     },
     "inputWidgets": {},
     "nuid": "a354692e-d801-4e03-80ab-f82bec30f443",
     "showTitle": false,
     "title": ""
    }
   },
   "outputs": [
    {
     "output_type": "stream",
     "name": "stdout",
     "output_type": "stream",
     "text": [
      "+----------+--------------+--------------------+------------+-------+--------+---------+---+--------------------+\n|circuit_id|    circuitRef|                name|    location|country|latitude|      lng|alt|                 url|\n+----------+--------------+--------------------+------------+-------+--------+---------+---+--------------------+\n|         1|   albert_park|Albert Park Grand...|   Melbourne|   NULL|-37.8497|  144.968| 10|http://en.wikiped...|\n|         2|        sepang|Sepang Internatio...|Kuala Lumpur|   NULL| 2.76083|  101.738| 18|http://en.wikiped...|\n|         3|       bahrain|Bahrain Internati...|      Sakhir|   NULL| 26.0325|  50.5106|  7|http://en.wikiped...|\n|         4|     catalunya|Circuit de Barcel...|    Montmeló|   NULL|   41.57|  2.26111|109|http://en.wikiped...|\n|         5|      istanbul|       Istanbul Park|    Istanbul|   NULL| 40.9517|   29.405|130|http://en.wikiped...|\n|         6|        monaco|   Circuit de Monaco| Monte-Carlo|   NULL| 43.7347|  7.42056|  7|http://en.wikiped...|\n|         7|    villeneuve|Circuit Gilles Vi...|    Montreal|   NULL|    45.5| -73.5228| 13|http://en.wikiped...|\n|         8|   magny_cours|Circuit de Nevers...| Magny Cours|   NULL| 46.8642|  3.16361|228|http://en.wikiped...|\n|         9|   silverstone| Silverstone Circuit| Silverstone|   NULL| 52.0786| -1.01694|153|http://en.wikiped...|\n|        10|hockenheimring|      Hockenheimring|  Hockenheim|   NULL| 49.3278|  8.56583|103|http://en.wikiped...|\n|        11|   hungaroring|         Hungaroring|    Budapest|   NULL| 47.5789|  19.2486|264|http://en.wikiped...|\n|        12|      valencia|Valencia Street C...|    Valencia|   NULL| 39.4589|-0.331667|  4|http://en.wikiped...|\n|        13|           spa|Circuit de Spa-Fr...|         Spa|   NULL| 50.4372|  5.97139|401|http://en.wikiped...|\n|        14|         monza|Autodromo Naziona...|       Monza|   NULL| 45.6156|  9.28111|162|http://en.wikiped...|\n|        15|    marina_bay|Marina Bay Street...|  Marina Bay|   NULL|  1.2914|  103.864| 18|http://en.wikiped...|\n|        16|          fuji|       Fuji Speedway|       Oyama|   NULL| 35.3717|  138.927|583|http://en.wikiped...|\n|        17|      shanghai|Shanghai Internat...|    Shanghai|   NULL| 31.3389|   121.22|  5|http://en.wikiped...|\n|        18|    interlagos|Autódromo José Ca...|   São Paulo|   NULL|-23.7036| -46.6997|785|http://en.wikiped...|\n|        19|  indianapolis|Indianapolis Moto...|Indianapolis|   NULL|  39.795| -86.2347|223|http://en.wikiped...|\n|        20|   nurburgring|         Nürburgring|     Nürburg|   NULL| 50.3356|   6.9475|578|http://en.wikiped...|\n+----------+--------------+--------------------+------------+-------+--------+---------+---+--------------------+\nonly showing top 20 rows\n\n"
     ]
    }
   ],
   "source": [
    "circuits_renamed_df.show()"
   ]
  },
  {
   "cell_type": "code",
   "execution_count": 0,
   "metadata": {
    "application/vnd.databricks.v1+cell": {
     "cellMetadata": {
      "byteLimit": 2048000,
      "rowLimit": 10000
     },
     "inputWidgets": {},
     "nuid": "1494d4b9-6053-475f-b3ad-47a82c8d6035",
     "showTitle": false,
     "title": ""
    }
   },
   "outputs": [],
   "source": [
    "#Add ingestion date to the dataframe\n",
    "from pyspark.sql.functions import current_timestamp"
   ]
  },
  {
   "cell_type": "code",
   "execution_count": 0,
   "metadata": {
    "application/vnd.databricks.v1+cell": {
     "cellMetadata": {
      "byteLimit": 2048000,
      "rowLimit": 10000
     },
     "inputWidgets": {},
     "nuid": "d9068b8f-fe1e-447a-9550-8ca83821168a",
     "showTitle": false,
     "title": ""
    }
   },
   "outputs": [],
   "source": [
    "circuits_final_df=circuits_renamed_df.withColumn(\"ingestion_date\",current_timestamp())"
   ]
  },
  {
   "cell_type": "code",
   "execution_count": 0,
   "metadata": {
    "application/vnd.databricks.v1+cell": {
     "cellMetadata": {
      "byteLimit": 2048000,
      "rowLimit": 10000
     },
     "inputWidgets": {},
     "nuid": "f2f4249a-a0cc-4e6f-a54f-b6f125f7bf1d",
     "showTitle": false,
     "title": ""
    }
   },
   "outputs": [
    {
     "output_type": "display_data",
     "data": {
      "text/html": [
       "<style scoped>\n",
       "  .table-result-container {\n",
       "    max-height: 300px;\n",
       "    overflow: auto;\n",
       "  }\n",
       "  table, th, td {\n",
       "    border: 1px solid black;\n",
       "    border-collapse: collapse;\n",
       "  }\n",
       "  th, td {\n",
       "    padding: 5px;\n",
       "  }\n",
       "  th {\n",
       "    text-align: left;\n",
       "  }\n",
       "</style><div class='table-result-container'><table class='table-result'><thead style='background-color: white'><tr><th>circuit_id</th><th>circuitRef</th><th>name</th><th>location</th><th>country</th><th>latitude</th><th>lng</th><th>alt</th><th>url</th><th>ingestion_date</th></tr></thead><tbody><tr><td>1</td><td>albert_park</td><td>Albert Park Grand Prix Circuit</td><td>Melbourne</td><td>null</td><td>-37.8497</td><td>144.968</td><td>10</td><td>http://en.wikipedia.org/wiki/Melbourne_Grand_Prix_Circuit</td><td>2024-04-07T04:00:27.146Z</td></tr><tr><td>2</td><td>sepang</td><td>Sepang International Circuit</td><td>Kuala Lumpur</td><td>null</td><td>2.76083</td><td>101.738</td><td>18</td><td>http://en.wikipedia.org/wiki/Sepang_International_Circuit</td><td>2024-04-07T04:00:27.146Z</td></tr><tr><td>3</td><td>bahrain</td><td>Bahrain International Circuit</td><td>Sakhir</td><td>null</td><td>26.0325</td><td>50.5106</td><td>7</td><td>http://en.wikipedia.org/wiki/Bahrain_International_Circuit</td><td>2024-04-07T04:00:27.146Z</td></tr><tr><td>4</td><td>catalunya</td><td>Circuit de Barcelona-Catalunya</td><td>Montmeló</td><td>null</td><td>41.57</td><td>2.26111</td><td>109</td><td>http://en.wikipedia.org/wiki/Circuit_de_Barcelona-Catalunya</td><td>2024-04-07T04:00:27.146Z</td></tr><tr><td>5</td><td>istanbul</td><td>Istanbul Park</td><td>Istanbul</td><td>null</td><td>40.9517</td><td>29.405</td><td>130</td><td>http://en.wikipedia.org/wiki/Istanbul_Park</td><td>2024-04-07T04:00:27.146Z</td></tr><tr><td>6</td><td>monaco</td><td>Circuit de Monaco</td><td>Monte-Carlo</td><td>null</td><td>43.7347</td><td>7.42056</td><td>7</td><td>http://en.wikipedia.org/wiki/Circuit_de_Monaco</td><td>2024-04-07T04:00:27.146Z</td></tr><tr><td>7</td><td>villeneuve</td><td>Circuit Gilles Villeneuve</td><td>Montreal</td><td>null</td><td>45.5</td><td>-73.5228</td><td>13</td><td>http://en.wikipedia.org/wiki/Circuit_Gilles_Villeneuve</td><td>2024-04-07T04:00:27.146Z</td></tr><tr><td>8</td><td>magny_cours</td><td>Circuit de Nevers Magny-Cours</td><td>Magny Cours</td><td>null</td><td>46.8642</td><td>3.16361</td><td>228</td><td>http://en.wikipedia.org/wiki/Circuit_de_Nevers_Magny-Cours</td><td>2024-04-07T04:00:27.146Z</td></tr><tr><td>9</td><td>silverstone</td><td>Silverstone Circuit</td><td>Silverstone</td><td>null</td><td>52.0786</td><td>-1.01694</td><td>153</td><td>http://en.wikipedia.org/wiki/Silverstone_Circuit</td><td>2024-04-07T04:00:27.146Z</td></tr><tr><td>10</td><td>hockenheimring</td><td>Hockenheimring</td><td>Hockenheim</td><td>null</td><td>49.3278</td><td>8.56583</td><td>103</td><td>http://en.wikipedia.org/wiki/Hockenheimring</td><td>2024-04-07T04:00:27.146Z</td></tr><tr><td>11</td><td>hungaroring</td><td>Hungaroring</td><td>Budapest</td><td>null</td><td>47.5789</td><td>19.2486</td><td>264</td><td>http://en.wikipedia.org/wiki/Hungaroring</td><td>2024-04-07T04:00:27.146Z</td></tr><tr><td>12</td><td>valencia</td><td>Valencia Street Circuit</td><td>Valencia</td><td>null</td><td>39.4589</td><td>-0.331667</td><td>4</td><td>http://en.wikipedia.org/wiki/Valencia_Street_Circuit</td><td>2024-04-07T04:00:27.146Z</td></tr><tr><td>13</td><td>spa</td><td>Circuit de Spa-Francorchamps</td><td>Spa</td><td>null</td><td>50.4372</td><td>5.97139</td><td>401</td><td>http://en.wikipedia.org/wiki/Circuit_de_Spa-Francorchamps</td><td>2024-04-07T04:00:27.146Z</td></tr><tr><td>14</td><td>monza</td><td>Autodromo Nazionale di Monza</td><td>Monza</td><td>null</td><td>45.6156</td><td>9.28111</td><td>162</td><td>http://en.wikipedia.org/wiki/Autodromo_Nazionale_Monza</td><td>2024-04-07T04:00:27.146Z</td></tr><tr><td>15</td><td>marina_bay</td><td>Marina Bay Street Circuit</td><td>Marina Bay</td><td>null</td><td>1.2914</td><td>103.864</td><td>18</td><td>http://en.wikipedia.org/wiki/Marina_Bay_Street_Circuit</td><td>2024-04-07T04:00:27.146Z</td></tr><tr><td>16</td><td>fuji</td><td>Fuji Speedway</td><td>Oyama</td><td>null</td><td>35.3717</td><td>138.927</td><td>583</td><td>http://en.wikipedia.org/wiki/Fuji_Speedway</td><td>2024-04-07T04:00:27.146Z</td></tr><tr><td>17</td><td>shanghai</td><td>Shanghai International Circuit</td><td>Shanghai</td><td>null</td><td>31.3389</td><td>121.22</td><td>5</td><td>http://en.wikipedia.org/wiki/Shanghai_International_Circuit</td><td>2024-04-07T04:00:27.146Z</td></tr><tr><td>18</td><td>interlagos</td><td>Autódromo José Carlos Pace</td><td>São Paulo</td><td>null</td><td>-23.7036</td><td>-46.6997</td><td>785</td><td>http://en.wikipedia.org/wiki/Aut%C3%B3dromo_Jos%C3%A9_Carlos_Pace</td><td>2024-04-07T04:00:27.146Z</td></tr><tr><td>19</td><td>indianapolis</td><td>Indianapolis Motor Speedway</td><td>Indianapolis</td><td>null</td><td>39.795</td><td>-86.2347</td><td>223</td><td>http://en.wikipedia.org/wiki/Indianapolis_Motor_Speedway</td><td>2024-04-07T04:00:27.146Z</td></tr><tr><td>20</td><td>nurburgring</td><td>Nürburgring</td><td>Nürburg</td><td>null</td><td>50.3356</td><td>6.9475</td><td>578</td><td>http://en.wikipedia.org/wiki/N%C3%BCrburgring</td><td>2024-04-07T04:00:27.146Z</td></tr><tr><td>21</td><td>imola</td><td>Autodromo Enzo e Dino Ferrari</td><td>Imola</td><td>null</td><td>44.3439</td><td>11.7167</td><td>37</td><td>http://en.wikipedia.org/wiki/Autodromo_Enzo_e_Dino_Ferrari</td><td>2024-04-07T04:00:27.146Z</td></tr><tr><td>22</td><td>suzuka</td><td>Suzuka Circuit</td><td>Suzuka</td><td>null</td><td>34.8431</td><td>136.541</td><td>45</td><td>http://en.wikipedia.org/wiki/Suzuka_Circuit</td><td>2024-04-07T04:00:27.146Z</td></tr><tr><td>23</td><td>osterreichring</td><td>A1-Ring</td><td>Spielburg</td><td>null</td><td>47.2197</td><td>14.7647</td><td>678</td><td>http://en.wikipedia.org/wiki/A1-Ring</td><td>2024-04-07T04:00:27.146Z</td></tr><tr><td>24</td><td>yas_marina</td><td>Yas Marina Circuit</td><td>Abu Dhabi</td><td>null</td><td>24.4672</td><td>54.6031</td><td>3</td><td>http://en.wikipedia.org/wiki/Yas_Marina_Circuit</td><td>2024-04-07T04:00:27.146Z</td></tr><tr><td>25</td><td>galvez</td><td>Autódromo Juan y Oscar Gálvez</td><td>Buenos Aires</td><td>null</td><td>-34.6943</td><td>-58.4593</td><td>8</td><td>http://en.wikipedia.org/wiki/Aut%C3%B3dromo_Oscar_Alfredo_G%C3%A1lvez</td><td>2024-04-07T04:00:27.146Z</td></tr><tr><td>26</td><td>jerez</td><td>Circuito de Jerez</td><td>Jerez de la Frontera</td><td>null</td><td>36.7083</td><td>-6.03417</td><td>37</td><td>http://en.wikipedia.org/wiki/Circuito_Permanente_de_Jerez</td><td>2024-04-07T04:00:27.146Z</td></tr><tr><td>27</td><td>estoril</td><td>Autódromo do Estoril</td><td>Estoril</td><td>null</td><td>38.7506</td><td>-9.39417</td><td>130</td><td>http://en.wikipedia.org/wiki/Aut%C3%B3dromo_do_Estoril</td><td>2024-04-07T04:00:27.146Z</td></tr><tr><td>28</td><td>okayama</td><td>Okayama International Circuit</td><td>Okayama</td><td>null</td><td>34.915</td><td>134.221</td><td>266</td><td>http://en.wikipedia.org/wiki/TI_Circuit</td><td>2024-04-07T04:00:27.146Z</td></tr><tr><td>29</td><td>adelaide</td><td>Adelaide Street Circuit</td><td>Adelaide</td><td>null</td><td>-34.9272</td><td>138.617</td><td>58</td><td>http://en.wikipedia.org/wiki/Adelaide_Street_Circuit</td><td>2024-04-07T04:00:27.146Z</td></tr><tr><td>30</td><td>kyalami</td><td>Kyalami</td><td>Midrand</td><td>null</td><td>-25.9894</td><td>28.0767</td><td>1460</td><td>http://en.wikipedia.org/wiki/Kyalami</td><td>2024-04-07T04:00:27.146Z</td></tr><tr><td>31</td><td>donington</td><td>Donington Park</td><td>Castle Donington</td><td>null</td><td>52.8306</td><td>-1.37528</td><td>88</td><td>http://en.wikipedia.org/wiki/Donington_Park</td><td>2024-04-07T04:00:27.146Z</td></tr><tr><td>32</td><td>rodriguez</td><td>Autódromo Hermanos Rodríguez</td><td>Mexico City</td><td>null</td><td>19.4042</td><td>-99.0907</td><td>2227</td><td>http://en.wikipedia.org/wiki/Aut%C3%B3dromo_Hermanos_Rodr%C3%ADguez</td><td>2024-04-07T04:00:27.146Z</td></tr><tr><td>33</td><td>phoenix</td><td>Phoenix street circuit</td><td>Phoenix</td><td>null</td><td>33.4479</td><td>-112.075</td><td>345</td><td>http://en.wikipedia.org/wiki/Phoenix_street_circuit</td><td>2024-04-07T04:00:27.146Z</td></tr><tr><td>34</td><td>ricard</td><td>Circuit Paul Ricard</td><td>Le Castellet</td><td>null</td><td>43.2506</td><td>5.79167</td><td>432</td><td>http://en.wikipedia.org/wiki/Paul_Ricard_Circuit</td><td>2024-04-07T04:00:27.146Z</td></tr><tr><td>35</td><td>yeongam</td><td>Korean International Circuit</td><td>Yeongam County</td><td>null</td><td>34.7333</td><td>126.417</td><td>0</td><td>http://en.wikipedia.org/wiki/Korean_International_Circuit</td><td>2024-04-07T04:00:27.146Z</td></tr><tr><td>36</td><td>jacarepagua</td><td>Autódromo Internacional Nelson Piquet</td><td>Rio de Janeiro</td><td>null</td><td>-22.9756</td><td>-43.395</td><td>1126</td><td>http://en.wikipedia.org/wiki/Aut%C3%B3dromo_Internacional_Nelson_Piquet</td><td>2024-04-07T04:00:27.146Z</td></tr><tr><td>37</td><td>detroit</td><td>Detroit Street Circuit</td><td>Detroit</td><td>null</td><td>42.3298</td><td>-83.0401</td><td>177</td><td>http://en.wikipedia.org/wiki/Detroit_street_circuit</td><td>2024-04-07T04:00:27.146Z</td></tr><tr><td>38</td><td>brands_hatch</td><td>Brands Hatch</td><td>Kent</td><td>null</td><td>51.3569</td><td>0.263056</td><td>145</td><td>http://en.wikipedia.org/wiki/Brands_Hatch</td><td>2024-04-07T04:00:27.146Z</td></tr><tr><td>39</td><td>zandvoort</td><td>Circuit Park Zandvoort</td><td>Zandvoort</td><td>null</td><td>52.3888</td><td>4.54092</td><td>6</td><td>http://en.wikipedia.org/wiki/Circuit_Zandvoort</td><td>2024-04-07T04:00:27.146Z</td></tr><tr><td>40</td><td>zolder</td><td>Zolder</td><td>Heusden-Zolder</td><td>null</td><td>50.9894</td><td>5.25694</td><td>36</td><td>http://en.wikipedia.org/wiki/Zolder</td><td>2024-04-07T04:00:27.146Z</td></tr><tr><td>41</td><td>dijon</td><td>Dijon-Prenois</td><td>Dijon</td><td>null</td><td>47.3625</td><td>4.89913</td><td>484</td><td>http://en.wikipedia.org/wiki/Dijon-Prenois</td><td>2024-04-07T04:00:27.146Z</td></tr><tr><td>42</td><td>dallas</td><td>Fair Park</td><td>Dallas</td><td>null</td><td>32.7774</td><td>-96.7587</td><td>139</td><td>http://en.wikipedia.org/wiki/Fair_Park</td><td>2024-04-07T04:00:27.146Z</td></tr><tr><td>43</td><td>long_beach</td><td>Long Beach</td><td>California</td><td>null</td><td>33.7651</td><td>-118.189</td><td>12</td><td>http://en.wikipedia.org/wiki/Long_Beach,_California</td><td>2024-04-07T04:00:27.146Z</td></tr><tr><td>44</td><td>las_vegas</td><td>Las Vegas Street Circuit</td><td>Nevada</td><td>null</td><td>36.1162</td><td>-115.174</td><td>639</td><td>http://en.wikipedia.org/wiki/Las_Vegas,_Nevada</td><td>2024-04-07T04:00:27.146Z</td></tr><tr><td>45</td><td>jarama</td><td>Jarama</td><td>Madrid</td><td>null</td><td>40.6171</td><td>-3.58558</td><td>609</td><td>http://en.wikipedia.org/wiki/Circuito_Permanente_Del_Jarama</td><td>2024-04-07T04:00:27.146Z</td></tr><tr><td>46</td><td>watkins_glen</td><td>Watkins Glen</td><td>New York State</td><td>null</td><td>42.3369</td><td>-76.9272</td><td>485</td><td>http://en.wikipedia.org/wiki/Watkins_Glen_International</td><td>2024-04-07T04:00:27.146Z</td></tr><tr><td>47</td><td>anderstorp</td><td>Scandinavian Raceway</td><td>Anderstorp</td><td>null</td><td>57.2653</td><td>13.6042</td><td>153</td><td>http://en.wikipedia.org/wiki/Scandinavian_Raceway</td><td>2024-04-07T04:00:27.146Z</td></tr><tr><td>48</td><td>mosport</td><td>Mosport International Raceway</td><td>Ontario</td><td>null</td><td>44.0481</td><td>-78.6756</td><td>332</td><td>http://en.wikipedia.org/wiki/Mosport</td><td>2024-04-07T04:00:27.146Z</td></tr><tr><td>49</td><td>montjuic</td><td>Montjuïc</td><td>Barcelona</td><td>null</td><td>41.3664</td><td>2.15167</td><td>79</td><td>http://en.wikipedia.org/wiki/Montju%C3%AFc_circuit</td><td>2024-04-07T04:00:27.146Z</td></tr><tr><td>50</td><td>nivelles</td><td>Nivelles-Baulers</td><td>Brussels</td><td>null</td><td>50.6211</td><td>4.32694</td><td>139</td><td>http://en.wikipedia.org/wiki/Nivelles-Baulers</td><td>2024-04-07T04:00:27.146Z</td></tr><tr><td>51</td><td>charade</td><td>Charade Circuit</td><td>Clermont-Ferrand</td><td>null</td><td>45.7472</td><td>3.03889</td><td>790</td><td>http://en.wikipedia.org/wiki/Charade_Circuit</td><td>2024-04-07T04:00:27.146Z</td></tr><tr><td>52</td><td>tremblant</td><td>Circuit Mont-Tremblant</td><td>Quebec</td><td>null</td><td>46.1877</td><td>-74.6099</td><td>214</td><td>http://en.wikipedia.org/wiki/Circuit_Mont-Tremblant</td><td>2024-04-07T04:00:27.146Z</td></tr><tr><td>53</td><td>essarts</td><td>Rouen-Les-Essarts</td><td>Rouen</td><td>null</td><td>49.3306</td><td>1.00458</td><td>81</td><td>http://en.wikipedia.org/wiki/Rouen-Les-Essarts</td><td>2024-04-07T04:00:27.146Z</td></tr><tr><td>54</td><td>lemans</td><td>Le Mans</td><td>Le Mans</td><td>null</td><td>47.95</td><td>0.224231</td><td>67</td><td>http://en.wikipedia.org/wiki/Circuit_de_la_Sarthe#Bugatti_Circuit</td><td>2024-04-07T04:00:27.146Z</td></tr><tr><td>55</td><td>reims</td><td>Reims-Gueux</td><td>Reims</td><td>null</td><td>49.2542</td><td>3.93083</td><td>88</td><td>http://en.wikipedia.org/wiki/Reims-Gueux</td><td>2024-04-07T04:00:27.146Z</td></tr><tr><td>56</td><td>george</td><td>Prince George Circuit</td><td>Eastern Cape Province</td><td>null</td><td>-33.0486</td><td>27.8736</td><td>15</td><td>http://en.wikipedia.org/wiki/Prince_George_Circuit</td><td>2024-04-07T04:00:27.146Z</td></tr><tr><td>57</td><td>zeltweg</td><td>Zeltweg</td><td>Styria</td><td>null</td><td>47.2039</td><td>14.7478</td><td>676</td><td>http://en.wikipedia.org/wiki/Zeltweg_Airfield</td><td>2024-04-07T04:00:27.146Z</td></tr><tr><td>58</td><td>aintree</td><td>Aintree</td><td>Liverpool</td><td>null</td><td>53.4769</td><td>-2.94056</td><td>20</td><td>http://en.wikipedia.org/wiki/Aintree_Motor_Racing_Circuit</td><td>2024-04-07T04:00:27.146Z</td></tr><tr><td>59</td><td>boavista</td><td>Circuito da Boavista</td><td>Oporto</td><td>null</td><td>41.1705</td><td>-8.67325</td><td>28</td><td>http://en.wikipedia.org/wiki/Circuito_da_Boavista</td><td>2024-04-07T04:00:27.146Z</td></tr><tr><td>60</td><td>riverside</td><td>Riverside International Raceway</td><td>California</td><td>null</td><td>33.937</td><td>-117.273</td><td>470</td><td>http://en.wikipedia.org/wiki/Riverside_International_Raceway</td><td>2024-04-07T04:00:27.146Z</td></tr><tr><td>61</td><td>avus</td><td>AVUS</td><td>Berlin</td><td>null</td><td>52.4806</td><td>13.2514</td><td>53</td><td>http://en.wikipedia.org/wiki/AVUS</td><td>2024-04-07T04:00:27.146Z</td></tr><tr><td>62</td><td>monsanto</td><td>Monsanto Park Circuit</td><td>Lisbon</td><td>null</td><td>38.7197</td><td>-9.20306</td><td>158</td><td>http://en.wikipedia.org/wiki/Monsanto_Park_Circuit</td><td>2024-04-07T04:00:27.146Z</td></tr><tr><td>63</td><td>sebring</td><td>Sebring International Raceway</td><td>Florida</td><td>null</td><td>27.4547</td><td>-81.3483</td><td>18</td><td>http://en.wikipedia.org/wiki/Sebring_Raceway</td><td>2024-04-07T04:00:27.146Z</td></tr><tr><td>64</td><td>ain-diab</td><td>Ain Diab</td><td>Casablanca</td><td>null</td><td>33.5786</td><td>-7.6875</td><td>19</td><td>http://en.wikipedia.org/wiki/Ain-Diab_Circuit</td><td>2024-04-07T04:00:27.146Z</td></tr><tr><td>65</td><td>pescara</td><td>Pescara Circuit</td><td>Pescara</td><td>null</td><td>42.475</td><td>14.1508</td><td>129</td><td>http://en.wikipedia.org/wiki/Pescara_Circuit</td><td>2024-04-07T04:00:27.146Z</td></tr><tr><td>66</td><td>bremgarten</td><td>Circuit Bremgarten</td><td>Bern</td><td>null</td><td>46.9589</td><td>7.40194</td><td>551</td><td>http://en.wikipedia.org/wiki/Circuit_Bremgarten</td><td>2024-04-07T04:00:27.146Z</td></tr><tr><td>67</td><td>pedralbes</td><td>Circuit de Pedralbes</td><td>Barcelona</td><td>null</td><td>41.3903</td><td>2.11667</td><td>85</td><td>http://en.wikipedia.org/wiki/Pedralbes_Circuit</td><td>2024-04-07T04:00:27.146Z</td></tr><tr><td>68</td><td>buddh</td><td>Buddh International Circuit</td><td>Uttar Pradesh</td><td>null</td><td>28.3487</td><td>77.5331</td><td>194</td><td>http://en.wikipedia.org/wiki/Buddh_International_Circuit</td><td>2024-04-07T04:00:27.146Z</td></tr><tr><td>69</td><td>americas</td><td>Circuit of the Americas</td><td>Austin</td><td>null</td><td>30.1328</td><td>-97.6411</td><td>161</td><td>http://en.wikipedia.org/wiki/Circuit_of_the_Americas</td><td>2024-04-07T04:00:27.146Z</td></tr><tr><td>70</td><td>red_bull_ring</td><td>Red Bull Ring</td><td>Spielburg</td><td>null</td><td>47.2197</td><td>14.7647</td><td>678</td><td>http://en.wikipedia.org/wiki/Red_Bull_Ring</td><td>2024-04-07T04:00:27.146Z</td></tr><tr><td>71</td><td>sochi</td><td>Sochi Autodrom</td><td>Sochi</td><td>null</td><td>43.4057</td><td>39.9578</td><td>2</td><td>http://en.wikipedia.org/wiki/Sochi_Autodrom</td><td>2024-04-07T04:00:27.146Z</td></tr><tr><td>72</td><td>port_imperial</td><td>Port Imperial Street Circuit</td><td>New Jersey</td><td>null</td><td>40.7769</td><td>-74.0111</td><td>4</td><td>http://en.wikipedia.org/wiki/Port_Imperial_Street_Circuit</td><td>2024-04-07T04:00:27.146Z</td></tr><tr><td>73</td><td>BAK</td><td>Baku City Circuit</td><td>Baku</td><td>null</td><td>40.3725</td><td>49.8533</td><td>-7</td><td>http://en.wikipedia.org/wiki/Baku_City_Circuit</td><td>2024-04-07T04:00:27.146Z</td></tr><tr><td>74</td><td>hanoi</td><td>Hanoi Street Circuit</td><td>Hanoi</td><td>null</td><td>21.0166</td><td>105.766</td><td>9</td><td>http://en.wikipedia.org/wiki/Hanoi_Street_Circuit</td><td>2024-04-07T04:00:27.146Z</td></tr><tr><td>75</td><td>portimao</td><td>Autódromo Internacional do Algarve</td><td>Portimão</td><td>null</td><td>37.227</td><td>-8.6267</td><td>108</td><td>http://en.wikipedia.org/wiki/Algarve_International_Circuit</td><td>2024-04-07T04:00:27.146Z</td></tr><tr><td>76</td><td>mugello</td><td>Autodromo Internazionale del Mugello</td><td>Mugello</td><td>null</td><td>43.9975</td><td>11.3719</td><td>255</td><td>http://en.wikipedia.org/wiki/Mugello_Circuit</td><td>2024-04-07T04:00:27.146Z</td></tr><tr><td>77</td><td>jeddah</td><td>Jeddah Street Circuit</td><td>Jeddah</td><td>null</td><td>21.5433</td><td>39.1728</td><td>15</td><td>http://en.wikipedia.org/wiki/Jeddah_Street_Circuit</td><td>2024-04-07T04:00:27.146Z</td></tr></tbody></table></div>"
      ]
     },
     "metadata": {
      "application/vnd.databricks.v1+output": {
       "addedWidgets": {},
       "aggData": [],
       "aggError": "",
       "aggOverflow": false,
       "aggSchema": [],
       "aggSeriesLimitReached": false,
       "aggType": "",
       "arguments": {},
       "columnCustomDisplayInfos": {},
       "data": [
        [
         1,
         "albert_park",
         "Albert Park Grand Prix Circuit",
         "Melbourne",
         null,
         -37.8497,
         144.968,
         10,
         "http://en.wikipedia.org/wiki/Melbourne_Grand_Prix_Circuit",
         "2024-04-07T04:00:27.146Z"
        ],
        [
         2,
         "sepang",
         "Sepang International Circuit",
         "Kuala Lumpur",
         null,
         2.76083,
         101.738,
         18,
         "http://en.wikipedia.org/wiki/Sepang_International_Circuit",
         "2024-04-07T04:00:27.146Z"
        ],
        [
         3,
         "bahrain",
         "Bahrain International Circuit",
         "Sakhir",
         null,
         26.0325,
         50.5106,
         7,
         "http://en.wikipedia.org/wiki/Bahrain_International_Circuit",
         "2024-04-07T04:00:27.146Z"
        ],
        [
         4,
         "catalunya",
         "Circuit de Barcelona-Catalunya",
         "Montmeló",
         null,
         41.57,
         2.26111,
         109,
         "http://en.wikipedia.org/wiki/Circuit_de_Barcelona-Catalunya",
         "2024-04-07T04:00:27.146Z"
        ],
        [
         5,
         "istanbul",
         "Istanbul Park",
         "Istanbul",
         null,
         40.9517,
         29.405,
         130,
         "http://en.wikipedia.org/wiki/Istanbul_Park",
         "2024-04-07T04:00:27.146Z"
        ],
        [
         6,
         "monaco",
         "Circuit de Monaco",
         "Monte-Carlo",
         null,
         43.7347,
         7.42056,
         7,
         "http://en.wikipedia.org/wiki/Circuit_de_Monaco",
         "2024-04-07T04:00:27.146Z"
        ],
        [
         7,
         "villeneuve",
         "Circuit Gilles Villeneuve",
         "Montreal",
         null,
         45.5,
         -73.5228,
         13,
         "http://en.wikipedia.org/wiki/Circuit_Gilles_Villeneuve",
         "2024-04-07T04:00:27.146Z"
        ],
        [
         8,
         "magny_cours",
         "Circuit de Nevers Magny-Cours",
         "Magny Cours",
         null,
         46.8642,
         3.16361,
         228,
         "http://en.wikipedia.org/wiki/Circuit_de_Nevers_Magny-Cours",
         "2024-04-07T04:00:27.146Z"
        ],
        [
         9,
         "silverstone",
         "Silverstone Circuit",
         "Silverstone",
         null,
         52.0786,
         -1.01694,
         153,
         "http://en.wikipedia.org/wiki/Silverstone_Circuit",
         "2024-04-07T04:00:27.146Z"
        ],
        [
         10,
         "hockenheimring",
         "Hockenheimring",
         "Hockenheim",
         null,
         49.3278,
         8.56583,
         103,
         "http://en.wikipedia.org/wiki/Hockenheimring",
         "2024-04-07T04:00:27.146Z"
        ],
        [
         11,
         "hungaroring",
         "Hungaroring",
         "Budapest",
         null,
         47.5789,
         19.2486,
         264,
         "http://en.wikipedia.org/wiki/Hungaroring",
         "2024-04-07T04:00:27.146Z"
        ],
        [
         12,
         "valencia",
         "Valencia Street Circuit",
         "Valencia",
         null,
         39.4589,
         -0.331667,
         4,
         "http://en.wikipedia.org/wiki/Valencia_Street_Circuit",
         "2024-04-07T04:00:27.146Z"
        ],
        [
         13,
         "spa",
         "Circuit de Spa-Francorchamps",
         "Spa",
         null,
         50.4372,
         5.97139,
         401,
         "http://en.wikipedia.org/wiki/Circuit_de_Spa-Francorchamps",
         "2024-04-07T04:00:27.146Z"
        ],
        [
         14,
         "monza",
         "Autodromo Nazionale di Monza",
         "Monza",
         null,
         45.6156,
         9.28111,
         162,
         "http://en.wikipedia.org/wiki/Autodromo_Nazionale_Monza",
         "2024-04-07T04:00:27.146Z"
        ],
        [
         15,
         "marina_bay",
         "Marina Bay Street Circuit",
         "Marina Bay",
         null,
         1.2914,
         103.864,
         18,
         "http://en.wikipedia.org/wiki/Marina_Bay_Street_Circuit",
         "2024-04-07T04:00:27.146Z"
        ],
        [
         16,
         "fuji",
         "Fuji Speedway",
         "Oyama",
         null,
         35.3717,
         138.927,
         583,
         "http://en.wikipedia.org/wiki/Fuji_Speedway",
         "2024-04-07T04:00:27.146Z"
        ],
        [
         17,
         "shanghai",
         "Shanghai International Circuit",
         "Shanghai",
         null,
         31.3389,
         121.22,
         5,
         "http://en.wikipedia.org/wiki/Shanghai_International_Circuit",
         "2024-04-07T04:00:27.146Z"
        ],
        [
         18,
         "interlagos",
         "Autódromo José Carlos Pace",
         "São Paulo",
         null,
         -23.7036,
         -46.6997,
         785,
         "http://en.wikipedia.org/wiki/Aut%C3%B3dromo_Jos%C3%A9_Carlos_Pace",
         "2024-04-07T04:00:27.146Z"
        ],
        [
         19,
         "indianapolis",
         "Indianapolis Motor Speedway",
         "Indianapolis",
         null,
         39.795,
         -86.2347,
         223,
         "http://en.wikipedia.org/wiki/Indianapolis_Motor_Speedway",
         "2024-04-07T04:00:27.146Z"
        ],
        [
         20,
         "nurburgring",
         "Nürburgring",
         "Nürburg",
         null,
         50.3356,
         6.9475,
         578,
         "http://en.wikipedia.org/wiki/N%C3%BCrburgring",
         "2024-04-07T04:00:27.146Z"
        ],
        [
         21,
         "imola",
         "Autodromo Enzo e Dino Ferrari",
         "Imola",
         null,
         44.3439,
         11.7167,
         37,
         "http://en.wikipedia.org/wiki/Autodromo_Enzo_e_Dino_Ferrari",
         "2024-04-07T04:00:27.146Z"
        ],
        [
         22,
         "suzuka",
         "Suzuka Circuit",
         "Suzuka",
         null,
         34.8431,
         136.541,
         45,
         "http://en.wikipedia.org/wiki/Suzuka_Circuit",
         "2024-04-07T04:00:27.146Z"
        ],
        [
         23,
         "osterreichring",
         "A1-Ring",
         "Spielburg",
         null,
         47.2197,
         14.7647,
         678,
         "http://en.wikipedia.org/wiki/A1-Ring",
         "2024-04-07T04:00:27.146Z"
        ],
        [
         24,
         "yas_marina",
         "Yas Marina Circuit",
         "Abu Dhabi",
         null,
         24.4672,
         54.6031,
         3,
         "http://en.wikipedia.org/wiki/Yas_Marina_Circuit",
         "2024-04-07T04:00:27.146Z"
        ],
        [
         25,
         "galvez",
         "Autódromo Juan y Oscar Gálvez",
         "Buenos Aires",
         null,
         -34.6943,
         -58.4593,
         8,
         "http://en.wikipedia.org/wiki/Aut%C3%B3dromo_Oscar_Alfredo_G%C3%A1lvez",
         "2024-04-07T04:00:27.146Z"
        ],
        [
         26,
         "jerez",
         "Circuito de Jerez",
         "Jerez de la Frontera",
         null,
         36.7083,
         -6.03417,
         37,
         "http://en.wikipedia.org/wiki/Circuito_Permanente_de_Jerez",
         "2024-04-07T04:00:27.146Z"
        ],
        [
         27,
         "estoril",
         "Autódromo do Estoril",
         "Estoril",
         null,
         38.7506,
         -9.39417,
         130,
         "http://en.wikipedia.org/wiki/Aut%C3%B3dromo_do_Estoril",
         "2024-04-07T04:00:27.146Z"
        ],
        [
         28,
         "okayama",
         "Okayama International Circuit",
         "Okayama",
         null,
         34.915,
         134.221,
         266,
         "http://en.wikipedia.org/wiki/TI_Circuit",
         "2024-04-07T04:00:27.146Z"
        ],
        [
         29,
         "adelaide",
         "Adelaide Street Circuit",
         "Adelaide",
         null,
         -34.9272,
         138.617,
         58,
         "http://en.wikipedia.org/wiki/Adelaide_Street_Circuit",
         "2024-04-07T04:00:27.146Z"
        ],
        [
         30,
         "kyalami",
         "Kyalami",
         "Midrand",
         null,
         -25.9894,
         28.0767,
         1460,
         "http://en.wikipedia.org/wiki/Kyalami",
         "2024-04-07T04:00:27.146Z"
        ],
        [
         31,
         "donington",
         "Donington Park",
         "Castle Donington",
         null,
         52.8306,
         -1.37528,
         88,
         "http://en.wikipedia.org/wiki/Donington_Park",
         "2024-04-07T04:00:27.146Z"
        ],
        [
         32,
         "rodriguez",
         "Autódromo Hermanos Rodríguez",
         "Mexico City",
         null,
         19.4042,
         -99.0907,
         2227,
         "http://en.wikipedia.org/wiki/Aut%C3%B3dromo_Hermanos_Rodr%C3%ADguez",
         "2024-04-07T04:00:27.146Z"
        ],
        [
         33,
         "phoenix",
         "Phoenix street circuit",
         "Phoenix",
         null,
         33.4479,
         -112.075,
         345,
         "http://en.wikipedia.org/wiki/Phoenix_street_circuit",
         "2024-04-07T04:00:27.146Z"
        ],
        [
         34,
         "ricard",
         "Circuit Paul Ricard",
         "Le Castellet",
         null,
         43.2506,
         5.79167,
         432,
         "http://en.wikipedia.org/wiki/Paul_Ricard_Circuit",
         "2024-04-07T04:00:27.146Z"
        ],
        [
         35,
         "yeongam",
         "Korean International Circuit",
         "Yeongam County",
         null,
         34.7333,
         126.417,
         0,
         "http://en.wikipedia.org/wiki/Korean_International_Circuit",
         "2024-04-07T04:00:27.146Z"
        ],
        [
         36,
         "jacarepagua",
         "Autódromo Internacional Nelson Piquet",
         "Rio de Janeiro",
         null,
         -22.9756,
         -43.395,
         1126,
         "http://en.wikipedia.org/wiki/Aut%C3%B3dromo_Internacional_Nelson_Piquet",
         "2024-04-07T04:00:27.146Z"
        ],
        [
         37,
         "detroit",
         "Detroit Street Circuit",
         "Detroit",
         null,
         42.3298,
         -83.0401,
         177,
         "http://en.wikipedia.org/wiki/Detroit_street_circuit",
         "2024-04-07T04:00:27.146Z"
        ],
        [
         38,
         "brands_hatch",
         "Brands Hatch",
         "Kent",
         null,
         51.3569,
         0.263056,
         145,
         "http://en.wikipedia.org/wiki/Brands_Hatch",
         "2024-04-07T04:00:27.146Z"
        ],
        [
         39,
         "zandvoort",
         "Circuit Park Zandvoort",
         "Zandvoort",
         null,
         52.3888,
         4.54092,
         6,
         "http://en.wikipedia.org/wiki/Circuit_Zandvoort",
         "2024-04-07T04:00:27.146Z"
        ],
        [
         40,
         "zolder",
         "Zolder",
         "Heusden-Zolder",
         null,
         50.9894,
         5.25694,
         36,
         "http://en.wikipedia.org/wiki/Zolder",
         "2024-04-07T04:00:27.146Z"
        ],
        [
         41,
         "dijon",
         "Dijon-Prenois",
         "Dijon",
         null,
         47.3625,
         4.89913,
         484,
         "http://en.wikipedia.org/wiki/Dijon-Prenois",
         "2024-04-07T04:00:27.146Z"
        ],
        [
         42,
         "dallas",
         "Fair Park",
         "Dallas",
         null,
         32.7774,
         -96.7587,
         139,
         "http://en.wikipedia.org/wiki/Fair_Park",
         "2024-04-07T04:00:27.146Z"
        ],
        [
         43,
         "long_beach",
         "Long Beach",
         "California",
         null,
         33.7651,
         -118.189,
         12,
         "http://en.wikipedia.org/wiki/Long_Beach,_California",
         "2024-04-07T04:00:27.146Z"
        ],
        [
         44,
         "las_vegas",
         "Las Vegas Street Circuit",
         "Nevada",
         null,
         36.1162,
         -115.174,
         639,
         "http://en.wikipedia.org/wiki/Las_Vegas,_Nevada",
         "2024-04-07T04:00:27.146Z"
        ],
        [
         45,
         "jarama",
         "Jarama",
         "Madrid",
         null,
         40.6171,
         -3.58558,
         609,
         "http://en.wikipedia.org/wiki/Circuito_Permanente_Del_Jarama",
         "2024-04-07T04:00:27.146Z"
        ],
        [
         46,
         "watkins_glen",
         "Watkins Glen",
         "New York State",
         null,
         42.3369,
         -76.9272,
         485,
         "http://en.wikipedia.org/wiki/Watkins_Glen_International",
         "2024-04-07T04:00:27.146Z"
        ],
        [
         47,
         "anderstorp",
         "Scandinavian Raceway",
         "Anderstorp",
         null,
         57.2653,
         13.6042,
         153,
         "http://en.wikipedia.org/wiki/Scandinavian_Raceway",
         "2024-04-07T04:00:27.146Z"
        ],
        [
         48,
         "mosport",
         "Mosport International Raceway",
         "Ontario",
         null,
         44.0481,
         -78.6756,
         332,
         "http://en.wikipedia.org/wiki/Mosport",
         "2024-04-07T04:00:27.146Z"
        ],
        [
         49,
         "montjuic",
         "Montjuïc",
         "Barcelona",
         null,
         41.3664,
         2.15167,
         79,
         "http://en.wikipedia.org/wiki/Montju%C3%AFc_circuit",
         "2024-04-07T04:00:27.146Z"
        ],
        [
         50,
         "nivelles",
         "Nivelles-Baulers",
         "Brussels",
         null,
         50.6211,
         4.32694,
         139,
         "http://en.wikipedia.org/wiki/Nivelles-Baulers",
         "2024-04-07T04:00:27.146Z"
        ],
        [
         51,
         "charade",
         "Charade Circuit",
         "Clermont-Ferrand",
         null,
         45.7472,
         3.03889,
         790,
         "http://en.wikipedia.org/wiki/Charade_Circuit",
         "2024-04-07T04:00:27.146Z"
        ],
        [
         52,
         "tremblant",
         "Circuit Mont-Tremblant",
         "Quebec",
         null,
         46.1877,
         -74.6099,
         214,
         "http://en.wikipedia.org/wiki/Circuit_Mont-Tremblant",
         "2024-04-07T04:00:27.146Z"
        ],
        [
         53,
         "essarts",
         "Rouen-Les-Essarts",
         "Rouen",
         null,
         49.3306,
         1.00458,
         81,
         "http://en.wikipedia.org/wiki/Rouen-Les-Essarts",
         "2024-04-07T04:00:27.146Z"
        ],
        [
         54,
         "lemans",
         "Le Mans",
         "Le Mans",
         null,
         47.95,
         0.224231,
         67,
         "http://en.wikipedia.org/wiki/Circuit_de_la_Sarthe#Bugatti_Circuit",
         "2024-04-07T04:00:27.146Z"
        ],
        [
         55,
         "reims",
         "Reims-Gueux",
         "Reims",
         null,
         49.2542,
         3.93083,
         88,
         "http://en.wikipedia.org/wiki/Reims-Gueux",
         "2024-04-07T04:00:27.146Z"
        ],
        [
         56,
         "george",
         "Prince George Circuit",
         "Eastern Cape Province",
         null,
         -33.0486,
         27.8736,
         15,
         "http://en.wikipedia.org/wiki/Prince_George_Circuit",
         "2024-04-07T04:00:27.146Z"
        ],
        [
         57,
         "zeltweg",
         "Zeltweg",
         "Styria",
         null,
         47.2039,
         14.7478,
         676,
         "http://en.wikipedia.org/wiki/Zeltweg_Airfield",
         "2024-04-07T04:00:27.146Z"
        ],
        [
         58,
         "aintree",
         "Aintree",
         "Liverpool",
         null,
         53.4769,
         -2.94056,
         20,
         "http://en.wikipedia.org/wiki/Aintree_Motor_Racing_Circuit",
         "2024-04-07T04:00:27.146Z"
        ],
        [
         59,
         "boavista",
         "Circuito da Boavista",
         "Oporto",
         null,
         41.1705,
         -8.67325,
         28,
         "http://en.wikipedia.org/wiki/Circuito_da_Boavista",
         "2024-04-07T04:00:27.146Z"
        ],
        [
         60,
         "riverside",
         "Riverside International Raceway",
         "California",
         null,
         33.937,
         -117.273,
         470,
         "http://en.wikipedia.org/wiki/Riverside_International_Raceway",
         "2024-04-07T04:00:27.146Z"
        ],
        [
         61,
         "avus",
         "AVUS",
         "Berlin",
         null,
         52.4806,
         13.2514,
         53,
         "http://en.wikipedia.org/wiki/AVUS",
         "2024-04-07T04:00:27.146Z"
        ],
        [
         62,
         "monsanto",
         "Monsanto Park Circuit",
         "Lisbon",
         null,
         38.7197,
         -9.20306,
         158,
         "http://en.wikipedia.org/wiki/Monsanto_Park_Circuit",
         "2024-04-07T04:00:27.146Z"
        ],
        [
         63,
         "sebring",
         "Sebring International Raceway",
         "Florida",
         null,
         27.4547,
         -81.3483,
         18,
         "http://en.wikipedia.org/wiki/Sebring_Raceway",
         "2024-04-07T04:00:27.146Z"
        ],
        [
         64,
         "ain-diab",
         "Ain Diab",
         "Casablanca",
         null,
         33.5786,
         -7.6875,
         19,
         "http://en.wikipedia.org/wiki/Ain-Diab_Circuit",
         "2024-04-07T04:00:27.146Z"
        ],
        [
         65,
         "pescara",
         "Pescara Circuit",
         "Pescara",
         null,
         42.475,
         14.1508,
         129,
         "http://en.wikipedia.org/wiki/Pescara_Circuit",
         "2024-04-07T04:00:27.146Z"
        ],
        [
         66,
         "bremgarten",
         "Circuit Bremgarten",
         "Bern",
         null,
         46.9589,
         7.40194,
         551,
         "http://en.wikipedia.org/wiki/Circuit_Bremgarten",
         "2024-04-07T04:00:27.146Z"
        ],
        [
         67,
         "pedralbes",
         "Circuit de Pedralbes",
         "Barcelona",
         null,
         41.3903,
         2.11667,
         85,
         "http://en.wikipedia.org/wiki/Pedralbes_Circuit",
         "2024-04-07T04:00:27.146Z"
        ],
        [
         68,
         "buddh",
         "Buddh International Circuit",
         "Uttar Pradesh",
         null,
         28.3487,
         77.5331,
         194,
         "http://en.wikipedia.org/wiki/Buddh_International_Circuit",
         "2024-04-07T04:00:27.146Z"
        ],
        [
         69,
         "americas",
         "Circuit of the Americas",
         "Austin",
         null,
         30.1328,
         -97.6411,
         161,
         "http://en.wikipedia.org/wiki/Circuit_of_the_Americas",
         "2024-04-07T04:00:27.146Z"
        ],
        [
         70,
         "red_bull_ring",
         "Red Bull Ring",
         "Spielburg",
         null,
         47.2197,
         14.7647,
         678,
         "http://en.wikipedia.org/wiki/Red_Bull_Ring",
         "2024-04-07T04:00:27.146Z"
        ],
        [
         71,
         "sochi",
         "Sochi Autodrom",
         "Sochi",
         null,
         43.4057,
         39.9578,
         2,
         "http://en.wikipedia.org/wiki/Sochi_Autodrom",
         "2024-04-07T04:00:27.146Z"
        ],
        [
         72,
         "port_imperial",
         "Port Imperial Street Circuit",
         "New Jersey",
         null,
         40.7769,
         -74.0111,
         4,
         "http://en.wikipedia.org/wiki/Port_Imperial_Street_Circuit",
         "2024-04-07T04:00:27.146Z"
        ],
        [
         73,
         "BAK",
         "Baku City Circuit",
         "Baku",
         null,
         40.3725,
         49.8533,
         -7,
         "http://en.wikipedia.org/wiki/Baku_City_Circuit",
         "2024-04-07T04:00:27.146Z"
        ],
        [
         74,
         "hanoi",
         "Hanoi Street Circuit",
         "Hanoi",
         null,
         21.0166,
         105.766,
         9,
         "http://en.wikipedia.org/wiki/Hanoi_Street_Circuit",
         "2024-04-07T04:00:27.146Z"
        ],
        [
         75,
         "portimao",
         "Autódromo Internacional do Algarve",
         "Portimão",
         null,
         37.227,
         -8.6267,
         108,
         "http://en.wikipedia.org/wiki/Algarve_International_Circuit",
         "2024-04-07T04:00:27.146Z"
        ],
        [
         76,
         "mugello",
         "Autodromo Internazionale del Mugello",
         "Mugello",
         null,
         43.9975,
         11.3719,
         255,
         "http://en.wikipedia.org/wiki/Mugello_Circuit",
         "2024-04-07T04:00:27.146Z"
        ],
        [
         77,
         "jeddah",
         "Jeddah Street Circuit",
         "Jeddah",
         null,
         21.5433,
         39.1728,
         15,
         "http://en.wikipedia.org/wiki/Jeddah_Street_Circuit",
         "2024-04-07T04:00:27.146Z"
        ]
       ],
       "datasetInfos": [],
       "dbfsResultPath": null,
       "isJsonSchema": true,
       "metadata": {},
       "overflow": false,
       "plotOptions": {
        "customPlotOptions": {},
        "displayType": "table",
        "pivotAggregation": null,
        "pivotColumns": null,
        "xColumns": null,
        "yColumns": null
       },
       "removedWidgets": [],
       "schema": [
        {
         "metadata": "{}",
         "name": "circuit_id",
         "type": "\"integer\""
        },
        {
         "metadata": "{}",
         "name": "circuitRef",
         "type": "\"string\""
        },
        {
         "metadata": "{}",
         "name": "name",
         "type": "\"string\""
        },
        {
         "metadata": "{}",
         "name": "location",
         "type": "\"string\""
        },
        {
         "metadata": "{}",
         "name": "country",
         "type": "\"integer\""
        },
        {
         "metadata": "{}",
         "name": "latitude",
         "type": "\"double\""
        },
        {
         "metadata": "{}",
         "name": "lng",
         "type": "\"double\""
        },
        {
         "metadata": "{}",
         "name": "alt",
         "type": "\"integer\""
        },
        {
         "metadata": "{}",
         "name": "url",
         "type": "\"string\""
        },
        {
         "metadata": "{}",
         "name": "ingestion_date",
         "type": "\"timestamp\""
        }
       ],
       "type": "table"
      }
     },
     "output_type": "display_data"
    }
   ],
   "source": [
    "display(circuits_final_df)"
   ]
  },
  {
   "cell_type": "code",
   "execution_count": 0,
   "metadata": {
    "application/vnd.databricks.v1+cell": {
     "cellMetadata": {
      "byteLimit": 2048000,
      "rowLimit": 10000
     },
     "inputWidgets": {},
     "nuid": "25f8e76a-1064-4cfc-b013-28fdd3eb7b91",
     "showTitle": false,
     "title": ""
    }
   },
   "outputs": [],
   "source": [
    "#Write data to datalake as parquet \n",
    "circuits_final_df.write.parquet(\"/FileStore/tables/circuits123\")"
   ]
  },
  {
   "cell_type": "code",
   "execution_count": 0,
   "metadata": {
    "application/vnd.databricks.v1+cell": {
     "cellMetadata": {
      "byteLimit": 2048000,
      "rowLimit": 10000
     },
     "inputWidgets": {},
     "nuid": "51aedc57-ca34-479e-a7c9-22a47e858e4b",
     "showTitle": false,
     "title": ""
    }
   },
   "outputs": [
    {
     "output_type": "display_data",
     "data": {
      "text/html": [
       "<style scoped>\n",
       "  .table-result-container {\n",
       "    max-height: 300px;\n",
       "    overflow: auto;\n",
       "  }\n",
       "  table, th, td {\n",
       "    border: 1px solid black;\n",
       "    border-collapse: collapse;\n",
       "  }\n",
       "  th, td {\n",
       "    padding: 5px;\n",
       "  }\n",
       "  th {\n",
       "    text-align: left;\n",
       "  }\n",
       "</style><div class='table-result-container'><table class='table-result'><thead style='background-color: white'><tr><th>path</th><th>name</th><th>size</th><th>modificationTime</th></tr></thead><tbody><tr><td>dbfs:/FileStore/tables/circuits123/_SUCCESS</td><td>_SUCCESS</td><td>0</td><td>1712462863000</td></tr><tr><td>dbfs:/FileStore/tables/circuits123/_committed_5579673492584865888</td><td>_committed_5579673492584865888</td><td>123</td><td>1712462863000</td></tr><tr><td>dbfs:/FileStore/tables/circuits123/_started_5579673492584865888</td><td>_started_5579673492584865888</td><td>0</td><td>1712462861000</td></tr><tr><td>dbfs:/FileStore/tables/circuits123/part-00000-tid-5579673492584865888-13c9e34f-8d71-4df9-bc90-acc634a9a3eb-29-1-c000.snappy.parquet</td><td>part-00000-tid-5579673492584865888-13c9e34f-8d71-4df9-bc90-acc634a9a3eb-29-1-c000.snappy.parquet</td><td>9026</td><td>1712462863000</td></tr></tbody></table></div>"
      ]
     },
     "metadata": {
      "application/vnd.databricks.v1+output": {
       "addedWidgets": {},
       "aggData": [],
       "aggError": "",
       "aggOverflow": false,
       "aggSchema": [],
       "aggSeriesLimitReached": false,
       "aggType": "",
       "arguments": {},
       "columnCustomDisplayInfos": {},
       "data": [
        [
         "dbfs:/FileStore/tables/circuits123/_SUCCESS",
         "_SUCCESS",
         0,
         1712462863000
        ],
        [
         "dbfs:/FileStore/tables/circuits123/_committed_5579673492584865888",
         "_committed_5579673492584865888",
         123,
         1712462863000
        ],
        [
         "dbfs:/FileStore/tables/circuits123/_started_5579673492584865888",
         "_started_5579673492584865888",
         0,
         1712462861000
        ],
        [
         "dbfs:/FileStore/tables/circuits123/part-00000-tid-5579673492584865888-13c9e34f-8d71-4df9-bc90-acc634a9a3eb-29-1-c000.snappy.parquet",
         "part-00000-tid-5579673492584865888-13c9e34f-8d71-4df9-bc90-acc634a9a3eb-29-1-c000.snappy.parquet",
         9026,
         1712462863000
        ]
       ],
       "datasetInfos": [],
       "dbfsResultPath": null,
       "isJsonSchema": true,
       "metadata": {
        "isDbfsCommandResult": false
       },
       "overflow": false,
       "plotOptions": {
        "customPlotOptions": {},
        "displayType": "table",
        "pivotAggregation": null,
        "pivotColumns": null,
        "xColumns": null,
        "yColumns": null
       },
       "removedWidgets": [],
       "schema": [
        {
         "metadata": "{}",
         "name": "path",
         "type": "\"string\""
        },
        {
         "metadata": "{}",
         "name": "name",
         "type": "\"string\""
        },
        {
         "metadata": "{}",
         "name": "size",
         "type": "\"long\""
        },
        {
         "metadata": "{}",
         "name": "modificationTime",
         "type": "\"long\""
        }
       ],
       "type": "table"
      }
     },
     "output_type": "display_data"
    }
   ],
   "source": [
    "%fs\n",
    "ls /FileStore/tables/circuits123"
   ]
  },
  {
   "cell_type": "code",
   "execution_count": 0,
   "metadata": {
    "application/vnd.databricks.v1+cell": {
     "cellMetadata": {
      "byteLimit": 2048000,
      "rowLimit": 10000
     },
     "inputWidgets": {},
     "nuid": "351a4e1a-a2c1-4a5e-a9e8-735404870b8b",
     "showTitle": false,
     "title": ""
    }
   },
   "outputs": [],
   "source": [
    "df=spark.read.parquet(\"/FileStore/tables/circuits123\")"
   ]
  },
  {
   "cell_type": "code",
   "execution_count": 0,
   "metadata": {
    "application/vnd.databricks.v1+cell": {
     "cellMetadata": {
      "byteLimit": 2048000,
      "rowLimit": 10000
     },
     "inputWidgets": {},
     "nuid": "022477b0-0b1b-48ab-8442-49f132f36d8e",
     "showTitle": false,
     "title": ""
    }
   },
   "outputs": [
    {
     "output_type": "display_data",
     "data": {
      "text/html": [
       "<style scoped>\n",
       "  .table-result-container {\n",
       "    max-height: 300px;\n",
       "    overflow: auto;\n",
       "  }\n",
       "  table, th, td {\n",
       "    border: 1px solid black;\n",
       "    border-collapse: collapse;\n",
       "  }\n",
       "  th, td {\n",
       "    padding: 5px;\n",
       "  }\n",
       "  th {\n",
       "    text-align: left;\n",
       "  }\n",
       "</style><div class='table-result-container'><table class='table-result'><thead style='background-color: white'><tr><th>circuit_id</th><th>circuitRef</th><th>name</th><th>location</th><th>country</th><th>latitude</th><th>lng</th><th>alt</th><th>url</th><th>ingestion_date</th></tr></thead><tbody><tr><td>1</td><td>albert_park</td><td>Albert Park Grand Prix Circuit</td><td>Melbourne</td><td>null</td><td>-37.8497</td><td>144.968</td><td>10</td><td>http://en.wikipedia.org/wiki/Melbourne_Grand_Prix_Circuit</td><td>2024-04-07T04:07:40.636Z</td></tr><tr><td>2</td><td>sepang</td><td>Sepang International Circuit</td><td>Kuala Lumpur</td><td>null</td><td>2.76083</td><td>101.738</td><td>18</td><td>http://en.wikipedia.org/wiki/Sepang_International_Circuit</td><td>2024-04-07T04:07:40.636Z</td></tr><tr><td>3</td><td>bahrain</td><td>Bahrain International Circuit</td><td>Sakhir</td><td>null</td><td>26.0325</td><td>50.5106</td><td>7</td><td>http://en.wikipedia.org/wiki/Bahrain_International_Circuit</td><td>2024-04-07T04:07:40.636Z</td></tr><tr><td>4</td><td>catalunya</td><td>Circuit de Barcelona-Catalunya</td><td>Montmeló</td><td>null</td><td>41.57</td><td>2.26111</td><td>109</td><td>http://en.wikipedia.org/wiki/Circuit_de_Barcelona-Catalunya</td><td>2024-04-07T04:07:40.636Z</td></tr><tr><td>5</td><td>istanbul</td><td>Istanbul Park</td><td>Istanbul</td><td>null</td><td>40.9517</td><td>29.405</td><td>130</td><td>http://en.wikipedia.org/wiki/Istanbul_Park</td><td>2024-04-07T04:07:40.636Z</td></tr><tr><td>6</td><td>monaco</td><td>Circuit de Monaco</td><td>Monte-Carlo</td><td>null</td><td>43.7347</td><td>7.42056</td><td>7</td><td>http://en.wikipedia.org/wiki/Circuit_de_Monaco</td><td>2024-04-07T04:07:40.636Z</td></tr><tr><td>7</td><td>villeneuve</td><td>Circuit Gilles Villeneuve</td><td>Montreal</td><td>null</td><td>45.5</td><td>-73.5228</td><td>13</td><td>http://en.wikipedia.org/wiki/Circuit_Gilles_Villeneuve</td><td>2024-04-07T04:07:40.636Z</td></tr><tr><td>8</td><td>magny_cours</td><td>Circuit de Nevers Magny-Cours</td><td>Magny Cours</td><td>null</td><td>46.8642</td><td>3.16361</td><td>228</td><td>http://en.wikipedia.org/wiki/Circuit_de_Nevers_Magny-Cours</td><td>2024-04-07T04:07:40.636Z</td></tr><tr><td>9</td><td>silverstone</td><td>Silverstone Circuit</td><td>Silverstone</td><td>null</td><td>52.0786</td><td>-1.01694</td><td>153</td><td>http://en.wikipedia.org/wiki/Silverstone_Circuit</td><td>2024-04-07T04:07:40.636Z</td></tr><tr><td>10</td><td>hockenheimring</td><td>Hockenheimring</td><td>Hockenheim</td><td>null</td><td>49.3278</td><td>8.56583</td><td>103</td><td>http://en.wikipedia.org/wiki/Hockenheimring</td><td>2024-04-07T04:07:40.636Z</td></tr><tr><td>11</td><td>hungaroring</td><td>Hungaroring</td><td>Budapest</td><td>null</td><td>47.5789</td><td>19.2486</td><td>264</td><td>http://en.wikipedia.org/wiki/Hungaroring</td><td>2024-04-07T04:07:40.636Z</td></tr><tr><td>12</td><td>valencia</td><td>Valencia Street Circuit</td><td>Valencia</td><td>null</td><td>39.4589</td><td>-0.331667</td><td>4</td><td>http://en.wikipedia.org/wiki/Valencia_Street_Circuit</td><td>2024-04-07T04:07:40.636Z</td></tr><tr><td>13</td><td>spa</td><td>Circuit de Spa-Francorchamps</td><td>Spa</td><td>null</td><td>50.4372</td><td>5.97139</td><td>401</td><td>http://en.wikipedia.org/wiki/Circuit_de_Spa-Francorchamps</td><td>2024-04-07T04:07:40.636Z</td></tr><tr><td>14</td><td>monza</td><td>Autodromo Nazionale di Monza</td><td>Monza</td><td>null</td><td>45.6156</td><td>9.28111</td><td>162</td><td>http://en.wikipedia.org/wiki/Autodromo_Nazionale_Monza</td><td>2024-04-07T04:07:40.636Z</td></tr><tr><td>15</td><td>marina_bay</td><td>Marina Bay Street Circuit</td><td>Marina Bay</td><td>null</td><td>1.2914</td><td>103.864</td><td>18</td><td>http://en.wikipedia.org/wiki/Marina_Bay_Street_Circuit</td><td>2024-04-07T04:07:40.636Z</td></tr><tr><td>16</td><td>fuji</td><td>Fuji Speedway</td><td>Oyama</td><td>null</td><td>35.3717</td><td>138.927</td><td>583</td><td>http://en.wikipedia.org/wiki/Fuji_Speedway</td><td>2024-04-07T04:07:40.636Z</td></tr><tr><td>17</td><td>shanghai</td><td>Shanghai International Circuit</td><td>Shanghai</td><td>null</td><td>31.3389</td><td>121.22</td><td>5</td><td>http://en.wikipedia.org/wiki/Shanghai_International_Circuit</td><td>2024-04-07T04:07:40.636Z</td></tr><tr><td>18</td><td>interlagos</td><td>Autódromo José Carlos Pace</td><td>São Paulo</td><td>null</td><td>-23.7036</td><td>-46.6997</td><td>785</td><td>http://en.wikipedia.org/wiki/Aut%C3%B3dromo_Jos%C3%A9_Carlos_Pace</td><td>2024-04-07T04:07:40.636Z</td></tr><tr><td>19</td><td>indianapolis</td><td>Indianapolis Motor Speedway</td><td>Indianapolis</td><td>null</td><td>39.795</td><td>-86.2347</td><td>223</td><td>http://en.wikipedia.org/wiki/Indianapolis_Motor_Speedway</td><td>2024-04-07T04:07:40.636Z</td></tr><tr><td>20</td><td>nurburgring</td><td>Nürburgring</td><td>Nürburg</td><td>null</td><td>50.3356</td><td>6.9475</td><td>578</td><td>http://en.wikipedia.org/wiki/N%C3%BCrburgring</td><td>2024-04-07T04:07:40.636Z</td></tr><tr><td>21</td><td>imola</td><td>Autodromo Enzo e Dino Ferrari</td><td>Imola</td><td>null</td><td>44.3439</td><td>11.7167</td><td>37</td><td>http://en.wikipedia.org/wiki/Autodromo_Enzo_e_Dino_Ferrari</td><td>2024-04-07T04:07:40.636Z</td></tr><tr><td>22</td><td>suzuka</td><td>Suzuka Circuit</td><td>Suzuka</td><td>null</td><td>34.8431</td><td>136.541</td><td>45</td><td>http://en.wikipedia.org/wiki/Suzuka_Circuit</td><td>2024-04-07T04:07:40.636Z</td></tr><tr><td>23</td><td>osterreichring</td><td>A1-Ring</td><td>Spielburg</td><td>null</td><td>47.2197</td><td>14.7647</td><td>678</td><td>http://en.wikipedia.org/wiki/A1-Ring</td><td>2024-04-07T04:07:40.636Z</td></tr><tr><td>24</td><td>yas_marina</td><td>Yas Marina Circuit</td><td>Abu Dhabi</td><td>null</td><td>24.4672</td><td>54.6031</td><td>3</td><td>http://en.wikipedia.org/wiki/Yas_Marina_Circuit</td><td>2024-04-07T04:07:40.636Z</td></tr><tr><td>25</td><td>galvez</td><td>Autódromo Juan y Oscar Gálvez</td><td>Buenos Aires</td><td>null</td><td>-34.6943</td><td>-58.4593</td><td>8</td><td>http://en.wikipedia.org/wiki/Aut%C3%B3dromo_Oscar_Alfredo_G%C3%A1lvez</td><td>2024-04-07T04:07:40.636Z</td></tr><tr><td>26</td><td>jerez</td><td>Circuito de Jerez</td><td>Jerez de la Frontera</td><td>null</td><td>36.7083</td><td>-6.03417</td><td>37</td><td>http://en.wikipedia.org/wiki/Circuito_Permanente_de_Jerez</td><td>2024-04-07T04:07:40.636Z</td></tr><tr><td>27</td><td>estoril</td><td>Autódromo do Estoril</td><td>Estoril</td><td>null</td><td>38.7506</td><td>-9.39417</td><td>130</td><td>http://en.wikipedia.org/wiki/Aut%C3%B3dromo_do_Estoril</td><td>2024-04-07T04:07:40.636Z</td></tr><tr><td>28</td><td>okayama</td><td>Okayama International Circuit</td><td>Okayama</td><td>null</td><td>34.915</td><td>134.221</td><td>266</td><td>http://en.wikipedia.org/wiki/TI_Circuit</td><td>2024-04-07T04:07:40.636Z</td></tr><tr><td>29</td><td>adelaide</td><td>Adelaide Street Circuit</td><td>Adelaide</td><td>null</td><td>-34.9272</td><td>138.617</td><td>58</td><td>http://en.wikipedia.org/wiki/Adelaide_Street_Circuit</td><td>2024-04-07T04:07:40.636Z</td></tr><tr><td>30</td><td>kyalami</td><td>Kyalami</td><td>Midrand</td><td>null</td><td>-25.9894</td><td>28.0767</td><td>1460</td><td>http://en.wikipedia.org/wiki/Kyalami</td><td>2024-04-07T04:07:40.636Z</td></tr><tr><td>31</td><td>donington</td><td>Donington Park</td><td>Castle Donington</td><td>null</td><td>52.8306</td><td>-1.37528</td><td>88</td><td>http://en.wikipedia.org/wiki/Donington_Park</td><td>2024-04-07T04:07:40.636Z</td></tr><tr><td>32</td><td>rodriguez</td><td>Autódromo Hermanos Rodríguez</td><td>Mexico City</td><td>null</td><td>19.4042</td><td>-99.0907</td><td>2227</td><td>http://en.wikipedia.org/wiki/Aut%C3%B3dromo_Hermanos_Rodr%C3%ADguez</td><td>2024-04-07T04:07:40.636Z</td></tr><tr><td>33</td><td>phoenix</td><td>Phoenix street circuit</td><td>Phoenix</td><td>null</td><td>33.4479</td><td>-112.075</td><td>345</td><td>http://en.wikipedia.org/wiki/Phoenix_street_circuit</td><td>2024-04-07T04:07:40.636Z</td></tr><tr><td>34</td><td>ricard</td><td>Circuit Paul Ricard</td><td>Le Castellet</td><td>null</td><td>43.2506</td><td>5.79167</td><td>432</td><td>http://en.wikipedia.org/wiki/Paul_Ricard_Circuit</td><td>2024-04-07T04:07:40.636Z</td></tr><tr><td>35</td><td>yeongam</td><td>Korean International Circuit</td><td>Yeongam County</td><td>null</td><td>34.7333</td><td>126.417</td><td>0</td><td>http://en.wikipedia.org/wiki/Korean_International_Circuit</td><td>2024-04-07T04:07:40.636Z</td></tr><tr><td>36</td><td>jacarepagua</td><td>Autódromo Internacional Nelson Piquet</td><td>Rio de Janeiro</td><td>null</td><td>-22.9756</td><td>-43.395</td><td>1126</td><td>http://en.wikipedia.org/wiki/Aut%C3%B3dromo_Internacional_Nelson_Piquet</td><td>2024-04-07T04:07:40.636Z</td></tr><tr><td>37</td><td>detroit</td><td>Detroit Street Circuit</td><td>Detroit</td><td>null</td><td>42.3298</td><td>-83.0401</td><td>177</td><td>http://en.wikipedia.org/wiki/Detroit_street_circuit</td><td>2024-04-07T04:07:40.636Z</td></tr><tr><td>38</td><td>brands_hatch</td><td>Brands Hatch</td><td>Kent</td><td>null</td><td>51.3569</td><td>0.263056</td><td>145</td><td>http://en.wikipedia.org/wiki/Brands_Hatch</td><td>2024-04-07T04:07:40.636Z</td></tr><tr><td>39</td><td>zandvoort</td><td>Circuit Park Zandvoort</td><td>Zandvoort</td><td>null</td><td>52.3888</td><td>4.54092</td><td>6</td><td>http://en.wikipedia.org/wiki/Circuit_Zandvoort</td><td>2024-04-07T04:07:40.636Z</td></tr><tr><td>40</td><td>zolder</td><td>Zolder</td><td>Heusden-Zolder</td><td>null</td><td>50.9894</td><td>5.25694</td><td>36</td><td>http://en.wikipedia.org/wiki/Zolder</td><td>2024-04-07T04:07:40.636Z</td></tr><tr><td>41</td><td>dijon</td><td>Dijon-Prenois</td><td>Dijon</td><td>null</td><td>47.3625</td><td>4.89913</td><td>484</td><td>http://en.wikipedia.org/wiki/Dijon-Prenois</td><td>2024-04-07T04:07:40.636Z</td></tr><tr><td>42</td><td>dallas</td><td>Fair Park</td><td>Dallas</td><td>null</td><td>32.7774</td><td>-96.7587</td><td>139</td><td>http://en.wikipedia.org/wiki/Fair_Park</td><td>2024-04-07T04:07:40.636Z</td></tr><tr><td>43</td><td>long_beach</td><td>Long Beach</td><td>California</td><td>null</td><td>33.7651</td><td>-118.189</td><td>12</td><td>http://en.wikipedia.org/wiki/Long_Beach,_California</td><td>2024-04-07T04:07:40.636Z</td></tr><tr><td>44</td><td>las_vegas</td><td>Las Vegas Street Circuit</td><td>Nevada</td><td>null</td><td>36.1162</td><td>-115.174</td><td>639</td><td>http://en.wikipedia.org/wiki/Las_Vegas,_Nevada</td><td>2024-04-07T04:07:40.636Z</td></tr><tr><td>45</td><td>jarama</td><td>Jarama</td><td>Madrid</td><td>null</td><td>40.6171</td><td>-3.58558</td><td>609</td><td>http://en.wikipedia.org/wiki/Circuito_Permanente_Del_Jarama</td><td>2024-04-07T04:07:40.636Z</td></tr><tr><td>46</td><td>watkins_glen</td><td>Watkins Glen</td><td>New York State</td><td>null</td><td>42.3369</td><td>-76.9272</td><td>485</td><td>http://en.wikipedia.org/wiki/Watkins_Glen_International</td><td>2024-04-07T04:07:40.636Z</td></tr><tr><td>47</td><td>anderstorp</td><td>Scandinavian Raceway</td><td>Anderstorp</td><td>null</td><td>57.2653</td><td>13.6042</td><td>153</td><td>http://en.wikipedia.org/wiki/Scandinavian_Raceway</td><td>2024-04-07T04:07:40.636Z</td></tr><tr><td>48</td><td>mosport</td><td>Mosport International Raceway</td><td>Ontario</td><td>null</td><td>44.0481</td><td>-78.6756</td><td>332</td><td>http://en.wikipedia.org/wiki/Mosport</td><td>2024-04-07T04:07:40.636Z</td></tr><tr><td>49</td><td>montjuic</td><td>Montjuïc</td><td>Barcelona</td><td>null</td><td>41.3664</td><td>2.15167</td><td>79</td><td>http://en.wikipedia.org/wiki/Montju%C3%AFc_circuit</td><td>2024-04-07T04:07:40.636Z</td></tr><tr><td>50</td><td>nivelles</td><td>Nivelles-Baulers</td><td>Brussels</td><td>null</td><td>50.6211</td><td>4.32694</td><td>139</td><td>http://en.wikipedia.org/wiki/Nivelles-Baulers</td><td>2024-04-07T04:07:40.636Z</td></tr><tr><td>51</td><td>charade</td><td>Charade Circuit</td><td>Clermont-Ferrand</td><td>null</td><td>45.7472</td><td>3.03889</td><td>790</td><td>http://en.wikipedia.org/wiki/Charade_Circuit</td><td>2024-04-07T04:07:40.636Z</td></tr><tr><td>52</td><td>tremblant</td><td>Circuit Mont-Tremblant</td><td>Quebec</td><td>null</td><td>46.1877</td><td>-74.6099</td><td>214</td><td>http://en.wikipedia.org/wiki/Circuit_Mont-Tremblant</td><td>2024-04-07T04:07:40.636Z</td></tr><tr><td>53</td><td>essarts</td><td>Rouen-Les-Essarts</td><td>Rouen</td><td>null</td><td>49.3306</td><td>1.00458</td><td>81</td><td>http://en.wikipedia.org/wiki/Rouen-Les-Essarts</td><td>2024-04-07T04:07:40.636Z</td></tr><tr><td>54</td><td>lemans</td><td>Le Mans</td><td>Le Mans</td><td>null</td><td>47.95</td><td>0.224231</td><td>67</td><td>http://en.wikipedia.org/wiki/Circuit_de_la_Sarthe#Bugatti_Circuit</td><td>2024-04-07T04:07:40.636Z</td></tr><tr><td>55</td><td>reims</td><td>Reims-Gueux</td><td>Reims</td><td>null</td><td>49.2542</td><td>3.93083</td><td>88</td><td>http://en.wikipedia.org/wiki/Reims-Gueux</td><td>2024-04-07T04:07:40.636Z</td></tr><tr><td>56</td><td>george</td><td>Prince George Circuit</td><td>Eastern Cape Province</td><td>null</td><td>-33.0486</td><td>27.8736</td><td>15</td><td>http://en.wikipedia.org/wiki/Prince_George_Circuit</td><td>2024-04-07T04:07:40.636Z</td></tr><tr><td>57</td><td>zeltweg</td><td>Zeltweg</td><td>Styria</td><td>null</td><td>47.2039</td><td>14.7478</td><td>676</td><td>http://en.wikipedia.org/wiki/Zeltweg_Airfield</td><td>2024-04-07T04:07:40.636Z</td></tr><tr><td>58</td><td>aintree</td><td>Aintree</td><td>Liverpool</td><td>null</td><td>53.4769</td><td>-2.94056</td><td>20</td><td>http://en.wikipedia.org/wiki/Aintree_Motor_Racing_Circuit</td><td>2024-04-07T04:07:40.636Z</td></tr><tr><td>59</td><td>boavista</td><td>Circuito da Boavista</td><td>Oporto</td><td>null</td><td>41.1705</td><td>-8.67325</td><td>28</td><td>http://en.wikipedia.org/wiki/Circuito_da_Boavista</td><td>2024-04-07T04:07:40.636Z</td></tr><tr><td>60</td><td>riverside</td><td>Riverside International Raceway</td><td>California</td><td>null</td><td>33.937</td><td>-117.273</td><td>470</td><td>http://en.wikipedia.org/wiki/Riverside_International_Raceway</td><td>2024-04-07T04:07:40.636Z</td></tr><tr><td>61</td><td>avus</td><td>AVUS</td><td>Berlin</td><td>null</td><td>52.4806</td><td>13.2514</td><td>53</td><td>http://en.wikipedia.org/wiki/AVUS</td><td>2024-04-07T04:07:40.636Z</td></tr><tr><td>62</td><td>monsanto</td><td>Monsanto Park Circuit</td><td>Lisbon</td><td>null</td><td>38.7197</td><td>-9.20306</td><td>158</td><td>http://en.wikipedia.org/wiki/Monsanto_Park_Circuit</td><td>2024-04-07T04:07:40.636Z</td></tr><tr><td>63</td><td>sebring</td><td>Sebring International Raceway</td><td>Florida</td><td>null</td><td>27.4547</td><td>-81.3483</td><td>18</td><td>http://en.wikipedia.org/wiki/Sebring_Raceway</td><td>2024-04-07T04:07:40.636Z</td></tr><tr><td>64</td><td>ain-diab</td><td>Ain Diab</td><td>Casablanca</td><td>null</td><td>33.5786</td><td>-7.6875</td><td>19</td><td>http://en.wikipedia.org/wiki/Ain-Diab_Circuit</td><td>2024-04-07T04:07:40.636Z</td></tr><tr><td>65</td><td>pescara</td><td>Pescara Circuit</td><td>Pescara</td><td>null</td><td>42.475</td><td>14.1508</td><td>129</td><td>http://en.wikipedia.org/wiki/Pescara_Circuit</td><td>2024-04-07T04:07:40.636Z</td></tr><tr><td>66</td><td>bremgarten</td><td>Circuit Bremgarten</td><td>Bern</td><td>null</td><td>46.9589</td><td>7.40194</td><td>551</td><td>http://en.wikipedia.org/wiki/Circuit_Bremgarten</td><td>2024-04-07T04:07:40.636Z</td></tr><tr><td>67</td><td>pedralbes</td><td>Circuit de Pedralbes</td><td>Barcelona</td><td>null</td><td>41.3903</td><td>2.11667</td><td>85</td><td>http://en.wikipedia.org/wiki/Pedralbes_Circuit</td><td>2024-04-07T04:07:40.636Z</td></tr><tr><td>68</td><td>buddh</td><td>Buddh International Circuit</td><td>Uttar Pradesh</td><td>null</td><td>28.3487</td><td>77.5331</td><td>194</td><td>http://en.wikipedia.org/wiki/Buddh_International_Circuit</td><td>2024-04-07T04:07:40.636Z</td></tr><tr><td>69</td><td>americas</td><td>Circuit of the Americas</td><td>Austin</td><td>null</td><td>30.1328</td><td>-97.6411</td><td>161</td><td>http://en.wikipedia.org/wiki/Circuit_of_the_Americas</td><td>2024-04-07T04:07:40.636Z</td></tr><tr><td>70</td><td>red_bull_ring</td><td>Red Bull Ring</td><td>Spielburg</td><td>null</td><td>47.2197</td><td>14.7647</td><td>678</td><td>http://en.wikipedia.org/wiki/Red_Bull_Ring</td><td>2024-04-07T04:07:40.636Z</td></tr><tr><td>71</td><td>sochi</td><td>Sochi Autodrom</td><td>Sochi</td><td>null</td><td>43.4057</td><td>39.9578</td><td>2</td><td>http://en.wikipedia.org/wiki/Sochi_Autodrom</td><td>2024-04-07T04:07:40.636Z</td></tr><tr><td>72</td><td>port_imperial</td><td>Port Imperial Street Circuit</td><td>New Jersey</td><td>null</td><td>40.7769</td><td>-74.0111</td><td>4</td><td>http://en.wikipedia.org/wiki/Port_Imperial_Street_Circuit</td><td>2024-04-07T04:07:40.636Z</td></tr><tr><td>73</td><td>BAK</td><td>Baku City Circuit</td><td>Baku</td><td>null</td><td>40.3725</td><td>49.8533</td><td>-7</td><td>http://en.wikipedia.org/wiki/Baku_City_Circuit</td><td>2024-04-07T04:07:40.636Z</td></tr><tr><td>74</td><td>hanoi</td><td>Hanoi Street Circuit</td><td>Hanoi</td><td>null</td><td>21.0166</td><td>105.766</td><td>9</td><td>http://en.wikipedia.org/wiki/Hanoi_Street_Circuit</td><td>2024-04-07T04:07:40.636Z</td></tr><tr><td>75</td><td>portimao</td><td>Autódromo Internacional do Algarve</td><td>Portimão</td><td>null</td><td>37.227</td><td>-8.6267</td><td>108</td><td>http://en.wikipedia.org/wiki/Algarve_International_Circuit</td><td>2024-04-07T04:07:40.636Z</td></tr><tr><td>76</td><td>mugello</td><td>Autodromo Internazionale del Mugello</td><td>Mugello</td><td>null</td><td>43.9975</td><td>11.3719</td><td>255</td><td>http://en.wikipedia.org/wiki/Mugello_Circuit</td><td>2024-04-07T04:07:40.636Z</td></tr><tr><td>77</td><td>jeddah</td><td>Jeddah Street Circuit</td><td>Jeddah</td><td>null</td><td>21.5433</td><td>39.1728</td><td>15</td><td>http://en.wikipedia.org/wiki/Jeddah_Street_Circuit</td><td>2024-04-07T04:07:40.636Z</td></tr></tbody></table></div>"
      ]
     },
     "metadata": {
      "application/vnd.databricks.v1+output": {
       "addedWidgets": {},
       "aggData": [],
       "aggError": "",
       "aggOverflow": false,
       "aggSchema": [],
       "aggSeriesLimitReached": false,
       "aggType": "",
       "arguments": {},
       "columnCustomDisplayInfos": {},
       "data": [
        [
         1,
         "albert_park",
         "Albert Park Grand Prix Circuit",
         "Melbourne",
         null,
         -37.8497,
         144.968,
         10,
         "http://en.wikipedia.org/wiki/Melbourne_Grand_Prix_Circuit",
         "2024-04-07T04:07:40.636Z"
        ],
        [
         2,
         "sepang",
         "Sepang International Circuit",
         "Kuala Lumpur",
         null,
         2.76083,
         101.738,
         18,
         "http://en.wikipedia.org/wiki/Sepang_International_Circuit",
         "2024-04-07T04:07:40.636Z"
        ],
        [
         3,
         "bahrain",
         "Bahrain International Circuit",
         "Sakhir",
         null,
         26.0325,
         50.5106,
         7,
         "http://en.wikipedia.org/wiki/Bahrain_International_Circuit",
         "2024-04-07T04:07:40.636Z"
        ],
        [
         4,
         "catalunya",
         "Circuit de Barcelona-Catalunya",
         "Montmeló",
         null,
         41.57,
         2.26111,
         109,
         "http://en.wikipedia.org/wiki/Circuit_de_Barcelona-Catalunya",
         "2024-04-07T04:07:40.636Z"
        ],
        [
         5,
         "istanbul",
         "Istanbul Park",
         "Istanbul",
         null,
         40.9517,
         29.405,
         130,
         "http://en.wikipedia.org/wiki/Istanbul_Park",
         "2024-04-07T04:07:40.636Z"
        ],
        [
         6,
         "monaco",
         "Circuit de Monaco",
         "Monte-Carlo",
         null,
         43.7347,
         7.42056,
         7,
         "http://en.wikipedia.org/wiki/Circuit_de_Monaco",
         "2024-04-07T04:07:40.636Z"
        ],
        [
         7,
         "villeneuve",
         "Circuit Gilles Villeneuve",
         "Montreal",
         null,
         45.5,
         -73.5228,
         13,
         "http://en.wikipedia.org/wiki/Circuit_Gilles_Villeneuve",
         "2024-04-07T04:07:40.636Z"
        ],
        [
         8,
         "magny_cours",
         "Circuit de Nevers Magny-Cours",
         "Magny Cours",
         null,
         46.8642,
         3.16361,
         228,
         "http://en.wikipedia.org/wiki/Circuit_de_Nevers_Magny-Cours",
         "2024-04-07T04:07:40.636Z"
        ],
        [
         9,
         "silverstone",
         "Silverstone Circuit",
         "Silverstone",
         null,
         52.0786,
         -1.01694,
         153,
         "http://en.wikipedia.org/wiki/Silverstone_Circuit",
         "2024-04-07T04:07:40.636Z"
        ],
        [
         10,
         "hockenheimring",
         "Hockenheimring",
         "Hockenheim",
         null,
         49.3278,
         8.56583,
         103,
         "http://en.wikipedia.org/wiki/Hockenheimring",
         "2024-04-07T04:07:40.636Z"
        ],
        [
         11,
         "hungaroring",
         "Hungaroring",
         "Budapest",
         null,
         47.5789,
         19.2486,
         264,
         "http://en.wikipedia.org/wiki/Hungaroring",
         "2024-04-07T04:07:40.636Z"
        ],
        [
         12,
         "valencia",
         "Valencia Street Circuit",
         "Valencia",
         null,
         39.4589,
         -0.331667,
         4,
         "http://en.wikipedia.org/wiki/Valencia_Street_Circuit",
         "2024-04-07T04:07:40.636Z"
        ],
        [
         13,
         "spa",
         "Circuit de Spa-Francorchamps",
         "Spa",
         null,
         50.4372,
         5.97139,
         401,
         "http://en.wikipedia.org/wiki/Circuit_de_Spa-Francorchamps",
         "2024-04-07T04:07:40.636Z"
        ],
        [
         14,
         "monza",
         "Autodromo Nazionale di Monza",
         "Monza",
         null,
         45.6156,
         9.28111,
         162,
         "http://en.wikipedia.org/wiki/Autodromo_Nazionale_Monza",
         "2024-04-07T04:07:40.636Z"
        ],
        [
         15,
         "marina_bay",
         "Marina Bay Street Circuit",
         "Marina Bay",
         null,
         1.2914,
         103.864,
         18,
         "http://en.wikipedia.org/wiki/Marina_Bay_Street_Circuit",
         "2024-04-07T04:07:40.636Z"
        ],
        [
         16,
         "fuji",
         "Fuji Speedway",
         "Oyama",
         null,
         35.3717,
         138.927,
         583,
         "http://en.wikipedia.org/wiki/Fuji_Speedway",
         "2024-04-07T04:07:40.636Z"
        ],
        [
         17,
         "shanghai",
         "Shanghai International Circuit",
         "Shanghai",
         null,
         31.3389,
         121.22,
         5,
         "http://en.wikipedia.org/wiki/Shanghai_International_Circuit",
         "2024-04-07T04:07:40.636Z"
        ],
        [
         18,
         "interlagos",
         "Autódromo José Carlos Pace",
         "São Paulo",
         null,
         -23.7036,
         -46.6997,
         785,
         "http://en.wikipedia.org/wiki/Aut%C3%B3dromo_Jos%C3%A9_Carlos_Pace",
         "2024-04-07T04:07:40.636Z"
        ],
        [
         19,
         "indianapolis",
         "Indianapolis Motor Speedway",
         "Indianapolis",
         null,
         39.795,
         -86.2347,
         223,
         "http://en.wikipedia.org/wiki/Indianapolis_Motor_Speedway",
         "2024-04-07T04:07:40.636Z"
        ],
        [
         20,
         "nurburgring",
         "Nürburgring",
         "Nürburg",
         null,
         50.3356,
         6.9475,
         578,
         "http://en.wikipedia.org/wiki/N%C3%BCrburgring",
         "2024-04-07T04:07:40.636Z"
        ],
        [
         21,
         "imola",
         "Autodromo Enzo e Dino Ferrari",
         "Imola",
         null,
         44.3439,
         11.7167,
         37,
         "http://en.wikipedia.org/wiki/Autodromo_Enzo_e_Dino_Ferrari",
         "2024-04-07T04:07:40.636Z"
        ],
        [
         22,
         "suzuka",
         "Suzuka Circuit",
         "Suzuka",
         null,
         34.8431,
         136.541,
         45,
         "http://en.wikipedia.org/wiki/Suzuka_Circuit",
         "2024-04-07T04:07:40.636Z"
        ],
        [
         23,
         "osterreichring",
         "A1-Ring",
         "Spielburg",
         null,
         47.2197,
         14.7647,
         678,
         "http://en.wikipedia.org/wiki/A1-Ring",
         "2024-04-07T04:07:40.636Z"
        ],
        [
         24,
         "yas_marina",
         "Yas Marina Circuit",
         "Abu Dhabi",
         null,
         24.4672,
         54.6031,
         3,
         "http://en.wikipedia.org/wiki/Yas_Marina_Circuit",
         "2024-04-07T04:07:40.636Z"
        ],
        [
         25,
         "galvez",
         "Autódromo Juan y Oscar Gálvez",
         "Buenos Aires",
         null,
         -34.6943,
         -58.4593,
         8,
         "http://en.wikipedia.org/wiki/Aut%C3%B3dromo_Oscar_Alfredo_G%C3%A1lvez",
         "2024-04-07T04:07:40.636Z"
        ],
        [
         26,
         "jerez",
         "Circuito de Jerez",
         "Jerez de la Frontera",
         null,
         36.7083,
         -6.03417,
         37,
         "http://en.wikipedia.org/wiki/Circuito_Permanente_de_Jerez",
         "2024-04-07T04:07:40.636Z"
        ],
        [
         27,
         "estoril",
         "Autódromo do Estoril",
         "Estoril",
         null,
         38.7506,
         -9.39417,
         130,
         "http://en.wikipedia.org/wiki/Aut%C3%B3dromo_do_Estoril",
         "2024-04-07T04:07:40.636Z"
        ],
        [
         28,
         "okayama",
         "Okayama International Circuit",
         "Okayama",
         null,
         34.915,
         134.221,
         266,
         "http://en.wikipedia.org/wiki/TI_Circuit",
         "2024-04-07T04:07:40.636Z"
        ],
        [
         29,
         "adelaide",
         "Adelaide Street Circuit",
         "Adelaide",
         null,
         -34.9272,
         138.617,
         58,
         "http://en.wikipedia.org/wiki/Adelaide_Street_Circuit",
         "2024-04-07T04:07:40.636Z"
        ],
        [
         30,
         "kyalami",
         "Kyalami",
         "Midrand",
         null,
         -25.9894,
         28.0767,
         1460,
         "http://en.wikipedia.org/wiki/Kyalami",
         "2024-04-07T04:07:40.636Z"
        ],
        [
         31,
         "donington",
         "Donington Park",
         "Castle Donington",
         null,
         52.8306,
         -1.37528,
         88,
         "http://en.wikipedia.org/wiki/Donington_Park",
         "2024-04-07T04:07:40.636Z"
        ],
        [
         32,
         "rodriguez",
         "Autódromo Hermanos Rodríguez",
         "Mexico City",
         null,
         19.4042,
         -99.0907,
         2227,
         "http://en.wikipedia.org/wiki/Aut%C3%B3dromo_Hermanos_Rodr%C3%ADguez",
         "2024-04-07T04:07:40.636Z"
        ],
        [
         33,
         "phoenix",
         "Phoenix street circuit",
         "Phoenix",
         null,
         33.4479,
         -112.075,
         345,
         "http://en.wikipedia.org/wiki/Phoenix_street_circuit",
         "2024-04-07T04:07:40.636Z"
        ],
        [
         34,
         "ricard",
         "Circuit Paul Ricard",
         "Le Castellet",
         null,
         43.2506,
         5.79167,
         432,
         "http://en.wikipedia.org/wiki/Paul_Ricard_Circuit",
         "2024-04-07T04:07:40.636Z"
        ],
        [
         35,
         "yeongam",
         "Korean International Circuit",
         "Yeongam County",
         null,
         34.7333,
         126.417,
         0,
         "http://en.wikipedia.org/wiki/Korean_International_Circuit",
         "2024-04-07T04:07:40.636Z"
        ],
        [
         36,
         "jacarepagua",
         "Autódromo Internacional Nelson Piquet",
         "Rio de Janeiro",
         null,
         -22.9756,
         -43.395,
         1126,
         "http://en.wikipedia.org/wiki/Aut%C3%B3dromo_Internacional_Nelson_Piquet",
         "2024-04-07T04:07:40.636Z"
        ],
        [
         37,
         "detroit",
         "Detroit Street Circuit",
         "Detroit",
         null,
         42.3298,
         -83.0401,
         177,
         "http://en.wikipedia.org/wiki/Detroit_street_circuit",
         "2024-04-07T04:07:40.636Z"
        ],
        [
         38,
         "brands_hatch",
         "Brands Hatch",
         "Kent",
         null,
         51.3569,
         0.263056,
         145,
         "http://en.wikipedia.org/wiki/Brands_Hatch",
         "2024-04-07T04:07:40.636Z"
        ],
        [
         39,
         "zandvoort",
         "Circuit Park Zandvoort",
         "Zandvoort",
         null,
         52.3888,
         4.54092,
         6,
         "http://en.wikipedia.org/wiki/Circuit_Zandvoort",
         "2024-04-07T04:07:40.636Z"
        ],
        [
         40,
         "zolder",
         "Zolder",
         "Heusden-Zolder",
         null,
         50.9894,
         5.25694,
         36,
         "http://en.wikipedia.org/wiki/Zolder",
         "2024-04-07T04:07:40.636Z"
        ],
        [
         41,
         "dijon",
         "Dijon-Prenois",
         "Dijon",
         null,
         47.3625,
         4.89913,
         484,
         "http://en.wikipedia.org/wiki/Dijon-Prenois",
         "2024-04-07T04:07:40.636Z"
        ],
        [
         42,
         "dallas",
         "Fair Park",
         "Dallas",
         null,
         32.7774,
         -96.7587,
         139,
         "http://en.wikipedia.org/wiki/Fair_Park",
         "2024-04-07T04:07:40.636Z"
        ],
        [
         43,
         "long_beach",
         "Long Beach",
         "California",
         null,
         33.7651,
         -118.189,
         12,
         "http://en.wikipedia.org/wiki/Long_Beach,_California",
         "2024-04-07T04:07:40.636Z"
        ],
        [
         44,
         "las_vegas",
         "Las Vegas Street Circuit",
         "Nevada",
         null,
         36.1162,
         -115.174,
         639,
         "http://en.wikipedia.org/wiki/Las_Vegas,_Nevada",
         "2024-04-07T04:07:40.636Z"
        ],
        [
         45,
         "jarama",
         "Jarama",
         "Madrid",
         null,
         40.6171,
         -3.58558,
         609,
         "http://en.wikipedia.org/wiki/Circuito_Permanente_Del_Jarama",
         "2024-04-07T04:07:40.636Z"
        ],
        [
         46,
         "watkins_glen",
         "Watkins Glen",
         "New York State",
         null,
         42.3369,
         -76.9272,
         485,
         "http://en.wikipedia.org/wiki/Watkins_Glen_International",
         "2024-04-07T04:07:40.636Z"
        ],
        [
         47,
         "anderstorp",
         "Scandinavian Raceway",
         "Anderstorp",
         null,
         57.2653,
         13.6042,
         153,
         "http://en.wikipedia.org/wiki/Scandinavian_Raceway",
         "2024-04-07T04:07:40.636Z"
        ],
        [
         48,
         "mosport",
         "Mosport International Raceway",
         "Ontario",
         null,
         44.0481,
         -78.6756,
         332,
         "http://en.wikipedia.org/wiki/Mosport",
         "2024-04-07T04:07:40.636Z"
        ],
        [
         49,
         "montjuic",
         "Montjuïc",
         "Barcelona",
         null,
         41.3664,
         2.15167,
         79,
         "http://en.wikipedia.org/wiki/Montju%C3%AFc_circuit",
         "2024-04-07T04:07:40.636Z"
        ],
        [
         50,
         "nivelles",
         "Nivelles-Baulers",
         "Brussels",
         null,
         50.6211,
         4.32694,
         139,
         "http://en.wikipedia.org/wiki/Nivelles-Baulers",
         "2024-04-07T04:07:40.636Z"
        ],
        [
         51,
         "charade",
         "Charade Circuit",
         "Clermont-Ferrand",
         null,
         45.7472,
         3.03889,
         790,
         "http://en.wikipedia.org/wiki/Charade_Circuit",
         "2024-04-07T04:07:40.636Z"
        ],
        [
         52,
         "tremblant",
         "Circuit Mont-Tremblant",
         "Quebec",
         null,
         46.1877,
         -74.6099,
         214,
         "http://en.wikipedia.org/wiki/Circuit_Mont-Tremblant",
         "2024-04-07T04:07:40.636Z"
        ],
        [
         53,
         "essarts",
         "Rouen-Les-Essarts",
         "Rouen",
         null,
         49.3306,
         1.00458,
         81,
         "http://en.wikipedia.org/wiki/Rouen-Les-Essarts",
         "2024-04-07T04:07:40.636Z"
        ],
        [
         54,
         "lemans",
         "Le Mans",
         "Le Mans",
         null,
         47.95,
         0.224231,
         67,
         "http://en.wikipedia.org/wiki/Circuit_de_la_Sarthe#Bugatti_Circuit",
         "2024-04-07T04:07:40.636Z"
        ],
        [
         55,
         "reims",
         "Reims-Gueux",
         "Reims",
         null,
         49.2542,
         3.93083,
         88,
         "http://en.wikipedia.org/wiki/Reims-Gueux",
         "2024-04-07T04:07:40.636Z"
        ],
        [
         56,
         "george",
         "Prince George Circuit",
         "Eastern Cape Province",
         null,
         -33.0486,
         27.8736,
         15,
         "http://en.wikipedia.org/wiki/Prince_George_Circuit",
         "2024-04-07T04:07:40.636Z"
        ],
        [
         57,
         "zeltweg",
         "Zeltweg",
         "Styria",
         null,
         47.2039,
         14.7478,
         676,
         "http://en.wikipedia.org/wiki/Zeltweg_Airfield",
         "2024-04-07T04:07:40.636Z"
        ],
        [
         58,
         "aintree",
         "Aintree",
         "Liverpool",
         null,
         53.4769,
         -2.94056,
         20,
         "http://en.wikipedia.org/wiki/Aintree_Motor_Racing_Circuit",
         "2024-04-07T04:07:40.636Z"
        ],
        [
         59,
         "boavista",
         "Circuito da Boavista",
         "Oporto",
         null,
         41.1705,
         -8.67325,
         28,
         "http://en.wikipedia.org/wiki/Circuito_da_Boavista",
         "2024-04-07T04:07:40.636Z"
        ],
        [
         60,
         "riverside",
         "Riverside International Raceway",
         "California",
         null,
         33.937,
         -117.273,
         470,
         "http://en.wikipedia.org/wiki/Riverside_International_Raceway",
         "2024-04-07T04:07:40.636Z"
        ],
        [
         61,
         "avus",
         "AVUS",
         "Berlin",
         null,
         52.4806,
         13.2514,
         53,
         "http://en.wikipedia.org/wiki/AVUS",
         "2024-04-07T04:07:40.636Z"
        ],
        [
         62,
         "monsanto",
         "Monsanto Park Circuit",
         "Lisbon",
         null,
         38.7197,
         -9.20306,
         158,
         "http://en.wikipedia.org/wiki/Monsanto_Park_Circuit",
         "2024-04-07T04:07:40.636Z"
        ],
        [
         63,
         "sebring",
         "Sebring International Raceway",
         "Florida",
         null,
         27.4547,
         -81.3483,
         18,
         "http://en.wikipedia.org/wiki/Sebring_Raceway",
         "2024-04-07T04:07:40.636Z"
        ],
        [
         64,
         "ain-diab",
         "Ain Diab",
         "Casablanca",
         null,
         33.5786,
         -7.6875,
         19,
         "http://en.wikipedia.org/wiki/Ain-Diab_Circuit",
         "2024-04-07T04:07:40.636Z"
        ],
        [
         65,
         "pescara",
         "Pescara Circuit",
         "Pescara",
         null,
         42.475,
         14.1508,
         129,
         "http://en.wikipedia.org/wiki/Pescara_Circuit",
         "2024-04-07T04:07:40.636Z"
        ],
        [
         66,
         "bremgarten",
         "Circuit Bremgarten",
         "Bern",
         null,
         46.9589,
         7.40194,
         551,
         "http://en.wikipedia.org/wiki/Circuit_Bremgarten",
         "2024-04-07T04:07:40.636Z"
        ],
        [
         67,
         "pedralbes",
         "Circuit de Pedralbes",
         "Barcelona",
         null,
         41.3903,
         2.11667,
         85,
         "http://en.wikipedia.org/wiki/Pedralbes_Circuit",
         "2024-04-07T04:07:40.636Z"
        ],
        [
         68,
         "buddh",
         "Buddh International Circuit",
         "Uttar Pradesh",
         null,
         28.3487,
         77.5331,
         194,
         "http://en.wikipedia.org/wiki/Buddh_International_Circuit",
         "2024-04-07T04:07:40.636Z"
        ],
        [
         69,
         "americas",
         "Circuit of the Americas",
         "Austin",
         null,
         30.1328,
         -97.6411,
         161,
         "http://en.wikipedia.org/wiki/Circuit_of_the_Americas",
         "2024-04-07T04:07:40.636Z"
        ],
        [
         70,
         "red_bull_ring",
         "Red Bull Ring",
         "Spielburg",
         null,
         47.2197,
         14.7647,
         678,
         "http://en.wikipedia.org/wiki/Red_Bull_Ring",
         "2024-04-07T04:07:40.636Z"
        ],
        [
         71,
         "sochi",
         "Sochi Autodrom",
         "Sochi",
         null,
         43.4057,
         39.9578,
         2,
         "http://en.wikipedia.org/wiki/Sochi_Autodrom",
         "2024-04-07T04:07:40.636Z"
        ],
        [
         72,
         "port_imperial",
         "Port Imperial Street Circuit",
         "New Jersey",
         null,
         40.7769,
         -74.0111,
         4,
         "http://en.wikipedia.org/wiki/Port_Imperial_Street_Circuit",
         "2024-04-07T04:07:40.636Z"
        ],
        [
         73,
         "BAK",
         "Baku City Circuit",
         "Baku",
         null,
         40.3725,
         49.8533,
         -7,
         "http://en.wikipedia.org/wiki/Baku_City_Circuit",
         "2024-04-07T04:07:40.636Z"
        ],
        [
         74,
         "hanoi",
         "Hanoi Street Circuit",
         "Hanoi",
         null,
         21.0166,
         105.766,
         9,
         "http://en.wikipedia.org/wiki/Hanoi_Street_Circuit",
         "2024-04-07T04:07:40.636Z"
        ],
        [
         75,
         "portimao",
         "Autódromo Internacional do Algarve",
         "Portimão",
         null,
         37.227,
         -8.6267,
         108,
         "http://en.wikipedia.org/wiki/Algarve_International_Circuit",
         "2024-04-07T04:07:40.636Z"
        ],
        [
         76,
         "mugello",
         "Autodromo Internazionale del Mugello",
         "Mugello",
         null,
         43.9975,
         11.3719,
         255,
         "http://en.wikipedia.org/wiki/Mugello_Circuit",
         "2024-04-07T04:07:40.636Z"
        ],
        [
         77,
         "jeddah",
         "Jeddah Street Circuit",
         "Jeddah",
         null,
         21.5433,
         39.1728,
         15,
         "http://en.wikipedia.org/wiki/Jeddah_Street_Circuit",
         "2024-04-07T04:07:40.636Z"
        ]
       ],
       "datasetInfos": [],
       "dbfsResultPath": null,
       "isJsonSchema": true,
       "metadata": {},
       "overflow": false,
       "plotOptions": {
        "customPlotOptions": {},
        "displayType": "table",
        "pivotAggregation": null,
        "pivotColumns": null,
        "xColumns": null,
        "yColumns": null
       },
       "removedWidgets": [],
       "schema": [
        {
         "metadata": "{}",
         "name": "circuit_id",
         "type": "\"integer\""
        },
        {
         "metadata": "{}",
         "name": "circuitRef",
         "type": "\"string\""
        },
        {
         "metadata": "{}",
         "name": "name",
         "type": "\"string\""
        },
        {
         "metadata": "{}",
         "name": "location",
         "type": "\"string\""
        },
        {
         "metadata": "{}",
         "name": "country",
         "type": "\"integer\""
        },
        {
         "metadata": "{}",
         "name": "latitude",
         "type": "\"double\""
        },
        {
         "metadata": "{}",
         "name": "lng",
         "type": "\"double\""
        },
        {
         "metadata": "{}",
         "name": "alt",
         "type": "\"integer\""
        },
        {
         "metadata": "{}",
         "name": "url",
         "type": "\"string\""
        },
        {
         "metadata": "{}",
         "name": "ingestion_date",
         "type": "\"timestamp\""
        }
       ],
       "type": "table"
      }
     },
     "output_type": "display_data"
    }
   ],
   "source": [
    "df.display()"
   ]
  },
  {
   "cell_type": "code",
   "execution_count": 0,
   "metadata": {
    "application/vnd.databricks.v1+cell": {
     "cellMetadata": {},
     "inputWidgets": {},
     "nuid": "af18e19b-7e69-4235-86fe-272fb2f31420",
     "showTitle": false,
     "title": ""
    }
   },
   "outputs": [],
   "source": []
  },
  {
   "cell_type": "code",
   "execution_count": 0,
   "metadata": {
    "application/vnd.databricks.v1+cell": {
     "cellMetadata": {},
     "inputWidgets": {},
     "nuid": "07f68fda-9f3b-4a3c-adf4-6fd6aa022046",
     "showTitle": false,
     "title": ""
    }
   },
   "outputs": [],
   "source": []
  },
  {
   "cell_type": "code",
   "execution_count": 0,
   "metadata": {
    "application/vnd.databricks.v1+cell": {
     "cellMetadata": {},
     "inputWidgets": {},
     "nuid": "9fa57fd5-f822-4e56-8695-55b367544ff0",
     "showTitle": false,
     "title": ""
    }
   },
   "outputs": [],
   "source": []
  },
  {
   "cell_type": "code",
   "execution_count": 0,
   "metadata": {
    "application/vnd.databricks.v1+cell": {
     "cellMetadata": {},
     "inputWidgets": {},
     "nuid": "800fcd78-6ebb-4588-be2e-1b2299eac4aa",
     "showTitle": false,
     "title": ""
    }
   },
   "outputs": [],
   "source": []
  },
  {
   "cell_type": "code",
   "execution_count": 0,
   "metadata": {
    "application/vnd.databricks.v1+cell": {
     "cellMetadata": {},
     "inputWidgets": {},
     "nuid": "818d07e8-0346-4532-b6db-bc464ec1c07e",
     "showTitle": false,
     "title": ""
    }
   },
   "outputs": [],
   "source": []
  },
  {
   "cell_type": "code",
   "execution_count": 0,
   "metadata": {
    "application/vnd.databricks.v1+cell": {
     "cellMetadata": {},
     "inputWidgets": {},
     "nuid": "25bc97a6-0956-4f76-89ed-a5166cf948d1",
     "showTitle": false,
     "title": ""
    }
   },
   "outputs": [],
   "source": []
  },
  {
   "cell_type": "code",
   "execution_count": 0,
   "metadata": {
    "application/vnd.databricks.v1+cell": {
     "cellMetadata": {},
     "inputWidgets": {},
     "nuid": "7d817470-289d-4d97-86be-d392b11a6e5d",
     "showTitle": false,
     "title": ""
    }
   },
   "outputs": [],
   "source": []
  }
 ],
 "metadata": {
  "application/vnd.databricks.v1+notebook": {
   "dashboards": [],
   "language": "python",
   "notebookMetadata": {
    "mostRecentlyExecutedCommandWithImplicitDF": {
     "commandId": 33112322825579,
     "dataframes": [
      "_sqldf"
     ]
    },
    "pythonIndentUnit": 4
   },
   "notebookName": "ingest_circuits_file",
   "widgets": {}
  }
 },
 "nbformat": 4,
 "nbformat_minor": 0
}
